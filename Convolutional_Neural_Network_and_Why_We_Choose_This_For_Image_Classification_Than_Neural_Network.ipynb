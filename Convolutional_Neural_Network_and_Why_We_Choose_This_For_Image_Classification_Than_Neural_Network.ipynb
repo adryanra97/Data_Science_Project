{
  "nbformat": 4,
  "nbformat_minor": 0,
  "metadata": {
    "colab": {
      "name": "Convolutional Neural Network and Why We Choose This For Image Classification Than Neural Network.ipynb",
      "provenance": []
    },
    "kernelspec": {
      "name": "python3",
      "display_name": "Python 3"
    },
    "language_info": {
      "name": "python"
    },
    "accelerator": "GPU"
  },
  "cells": [
    {
      "cell_type": "markdown",
      "source": [
        "# Convolutional Neural Network and Why We Choose This For Image Classification Than Neural Network\n",
        "\n",
        "In this first section, we will importing MNIST Data. Then we will run 3 different model.\n",
        "\n",
        "1.   Neural Network\n",
        "2.   Neural Network with Regularizer\n",
        "3.   Convolutional Neural Network\n",
        "\n",
        "All model only use 10 epochs. The target accuracy of training data is above 95%. If the accuracy of the training data is below that. We will add more neuron or layer. If above 95% we will use that model. Note that in this notebook the layer and neuron between each model is different. But i will use visualization that we can get insight and whats happening with our model.\n",
        "\n",
        "\n",
        "\n"
      ],
      "metadata": {
        "id": "rGNPd8SszyIl"
      }
    },
    {
      "cell_type": "code",
      "execution_count": 3,
      "metadata": {
        "id": "k6aGR2mUnudF"
      },
      "outputs": [],
      "source": [
        "import pandas as pd\n",
        "import numpy as np\n",
        "import tensorflow as tf"
      ]
    },
    {
      "cell_type": "code",
      "source": [
        "from keras.datasets import mnist"
      ],
      "metadata": {
        "id": "wLFsWpQun1N1"
      },
      "execution_count": 5,
      "outputs": []
    },
    {
      "cell_type": "code",
      "source": [
        "(X_train, y_train), (X_test, y_test) = mnist.load_data()"
      ],
      "metadata": {
        "id": "ngxNHQ0uocFQ"
      },
      "execution_count": 86,
      "outputs": []
    },
    {
      "cell_type": "code",
      "source": [
        "X_train, X_test = X_train / 255, X_test / 255"
      ],
      "metadata": {
        "id": "i4pI0T1grhg1"
      },
      "execution_count": 87,
      "outputs": []
    },
    {
      "cell_type": "markdown",
      "source": [
        "We will show our first image in training data."
      ],
      "metadata": {
        "id": "7FUlzPlR07G0"
      }
    },
    {
      "cell_type": "code",
      "source": [
        "import matplotlib.pyplot as plt\n",
        "plt.figure(figsize=(8,8))\n",
        "plt.imshow(X_train[0], cmap='Greys');"
      ],
      "metadata": {
        "colab": {
          "base_uri": "https://localhost:8080/",
          "height": 483
        },
        "id": "vfiXBeYzooGI",
        "outputId": "ae714198-13f1-4bda-c32f-9d3e35398996"
      },
      "execution_count": 39,
      "outputs": [
        {
          "output_type": "display_data",
          "data": {
            "image/png": "[encoded data removed]",
            "text/plain": [
              "<Figure size 576x576 with 1 Axes>"
            ]
          },
          "metadata": {
            "needs_background": "light"
          }
        }
      ]
    },
    {
      "cell_type": "code",
      "source": [
        "y_train = tf.keras.utils.to_categorical(y_train, 10)\n",
        "y_test = tf.keras.utils.to_categorical(y_test, 10)"
      ],
      "metadata": {
        "id": "0jUXE11FuosP"
      },
      "execution_count": 66,
      "outputs": []
    },
    {
      "cell_type": "markdown",
      "source": [
        "## Neural Network\n",
        "Model_1 will be neural network without regulizer. I print the summary of the model below and you can see the detail."
      ],
      "metadata": {
        "id": "LG2zBTGZswGD"
      }
    },
    {
      "cell_type": "code",
      "source": [
        "model_nn = tf.keras.Sequential([\n",
        "    tf.keras.layers.Flatten(input_shape=(28,28)),\n",
        "    tf.keras.layers.Dense(512, activation = 'relu'),\n",
        "    tf.keras.layers.Dense(128, activation = 'relu'),\n",
        "    tf.keras.layers.Dense(10,activation='softmax')\n",
        "])"
      ],
      "metadata": {
        "id": "TqkdBVYiyHvN"
      },
      "execution_count": 93,
      "outputs": []
    },
    {
      "cell_type": "code",
      "source": [
        "model_nn.compile(optimizer='rmsprop', \n",
        "              loss='sparse_categorical_crossentropy',\n",
        "              metrics=['accuracy'])\n",
        "model_nn.summary()"
      ],
      "metadata": {
        "colab": {
          "base_uri": "https://localhost:8080/"
        },
        "id": "ZRTkZ7RZyeOd",
        "outputId": "b55fa18a-9521-4c7f-f0ed-a286dccee162"
      },
      "execution_count": 95,
      "outputs": [
        {
          "output_type": "stream",
          "name": "stdout",
          "text": [
            "Model: \"sequential_24\"\n",
            "_________________________________________________________________\n",
            " Layer (type)                Output Shape              Param #   \n",
            "=================================================================\n",
            " flatten_19 (Flatten)        (None, 784)               0         \n",
            "                                                                 \n",
            " dense_50 (Dense)            (None, 512)               401920    \n",
            "                                                                 \n",
            " dense_51 (Dense)            (None, 128)               65664     \n",
            "                                                                 \n",
            " dense_52 (Dense)            (None, 10)                1290      \n",
            "                                                                 \n",
            "=================================================================\n",
            "Total params: 468,874\n",
            "Trainable params: 468,874\n",
            "Non-trainable params: 0\n",
            "_________________________________________________________________\n"
          ]
        }
      ]
    },
    {
      "cell_type": "code",
      "source": [
        "history_nn = model.fit(X_train, y_train, \n",
        "                    epochs = 10, \n",
        "                    batch_size = 256,\n",
        "                    validation_data = (X_test, y_test))"
      ],
      "metadata": {
        "colab": {
          "base_uri": "https://localhost:8080/"
        },
        "id": "q9seB_fcyiX-",
        "outputId": "1b639077-1a17-47f4-c755-55feb52f80b3"
      },
      "execution_count": 96,
      "outputs": [
        {
          "output_type": "stream",
          "name": "stdout",
          "text": [
            "Epoch 1/10\n",
            "235/235 [==============================] - 1s 4ms/step - loss: 0.2882 - accuracy: 0.9139 - val_loss: 0.1421 - val_accuracy: 0.9567\n",
            "Epoch 2/10\n",
            "235/235 [==============================] - 1s 4ms/step - loss: 0.1029 - accuracy: 0.9683 - val_loss: 0.1159 - val_accuracy: 0.9628\n",
            "Epoch 3/10\n",
            "235/235 [==============================] - 1s 4ms/step - loss: 0.0653 - accuracy: 0.9800 - val_loss: 0.0765 - val_accuracy: 0.9745\n",
            "Epoch 4/10\n",
            "235/235 [==============================] - 1s 4ms/step - loss: 0.0462 - accuracy: 0.9852 - val_loss: 0.0709 - val_accuracy: 0.9782\n",
            "Epoch 5/10\n",
            "235/235 [==============================] - 1s 4ms/step - loss: 0.0322 - accuracy: 0.9895 - val_loss: 0.0739 - val_accuracy: 0.9788\n",
            "Epoch 6/10\n",
            "235/235 [==============================] - 1s 4ms/step - loss: 0.0244 - accuracy: 0.9925 - val_loss: 0.0847 - val_accuracy: 0.9767\n",
            "Epoch 7/10\n",
            "235/235 [==============================] - 1s 4ms/step - loss: 0.0181 - accuracy: 0.9945 - val_loss: 0.0849 - val_accuracy: 0.9776\n",
            "Epoch 8/10\n",
            "235/235 [==============================] - 1s 4ms/step - loss: 0.0151 - accuracy: 0.9951 - val_loss: 0.0800 - val_accuracy: 0.9798\n",
            "Epoch 9/10\n",
            "235/235 [==============================] - 1s 4ms/step - loss: 0.0110 - accuracy: 0.9964 - val_loss: 0.0735 - val_accuracy: 0.9812\n",
            "Epoch 10/10\n",
            "235/235 [==============================] - 1s 4ms/step - loss: 0.0089 - accuracy: 0.9971 - val_loss: 0.0999 - val_accuracy: 0.9789\n"
          ]
        }
      ]
    },
    {
      "cell_type": "markdown",
      "source": [
        "## Neural Network With Regularizer\n",
        "Model_2 will be neural network with regulizer. Each layer will have another droput layer with 0.5 value. Then each dense will have kernel regularizer"
      ],
      "metadata": {
        "id": "L2JT2GfmyYGZ"
      }
    },
    {
      "cell_type": "code",
      "source": [
        "model = tf.keras.Sequential([\n",
        "    tf.keras.layers.Flatten(input_shape=(28,28)),\n",
        "    tf.keras.layers.Dense(512, activation = 'relu', kernel_regularizer = tf.keras.regularizers.l1_l2(l1=1e-5, l2=1e-4)),\n",
        "    tf.keras.layers.Dropout(0.5),\n",
        "    tf.keras.layers.Dense(256, activation = 'relu', kernel_regularizer = tf.keras.regularizers.l1_l2(l1=1e-5, l2=1e-4)),\n",
        "    tf.keras.layers.Dropout(0.5),\n",
        "    tf.keras.layers.Dense(128, activation = 'relu', kernel_regularizer = tf.keras.regularizers.l1_l2(l1=1e-5, l2=1e-4)),\n",
        "    tf.keras.layers.Dropout(0.5),\n",
        "    tf.keras.layers.Dense(10,activation='softmax')\n",
        "])"
      ],
      "metadata": {
        "id": "x4AQpbr_oyjj"
      },
      "execution_count": 88,
      "outputs": []
    },
    {
      "cell_type": "code",
      "source": [
        "model.compile(optimizer='rmsprop', \n",
        "              loss='sparse_categorical_crossentropy',\n",
        "              metrics=['accuracy'])\n",
        "model.summary()"
      ],
      "metadata": {
        "colab": {
          "base_uri": "https://localhost:8080/"
        },
        "id": "IWKApGNJpeCE",
        "outputId": "059c7997-721d-4a18-e8f6-78eacd45bfc5"
      },
      "execution_count": 89,
      "outputs": [
        {
          "output_type": "stream",
          "name": "stdout",
          "text": [
            "Model: \"sequential_22\"\n",
            "_________________________________________________________________\n",
            " Layer (type)                Output Shape              Param #   \n",
            "=================================================================\n",
            " flatten_17 (Flatten)        (None, 784)               0         \n",
            "                                                                 \n",
            " dense_43 (Dense)            (None, 512)               401920    \n",
            "                                                                 \n",
            " dropout_3 (Dropout)         (None, 512)               0         \n",
            "                                                                 \n",
            " dense_44 (Dense)            (None, 256)               131328    \n",
            "                                                                 \n",
            " dropout_4 (Dropout)         (None, 256)               0         \n",
            "                                                                 \n",
            " dense_45 (Dense)            (None, 128)               32896     \n",
            "                                                                 \n",
            " dropout_5 (Dropout)         (None, 128)               0         \n",
            "                                                                 \n",
            " dense_46 (Dense)            (None, 10)                1290      \n",
            "                                                                 \n",
            "=================================================================\n",
            "Total params: 567,434\n",
            "Trainable params: 567,434\n",
            "Non-trainable params: 0\n",
            "_________________________________________________________________\n"
          ]
        }
      ]
    },
    {
      "cell_type": "code",
      "source": [
        "history = model.fit(X_train, y_train, \n",
        "                    epochs = 10, \n",
        "                    batch_size = 256,\n",
        "                    validation_data = (X_test, y_test))"
      ],
      "metadata": {
        "colab": {
          "base_uri": "https://localhost:8080/"
        },
        "id": "eElLqyU4puxl",
        "outputId": "82f96352-6cc1-4f91-fe1f-e5f90df445e6"
      },
      "execution_count": 90,
      "outputs": [
        {
          "output_type": "stream",
          "name": "stdout",
          "text": [
            "Epoch 1/10\n",
            "235/235 [==============================] - 17s 5ms/step - loss: 0.8234 - accuracy: 0.8196 - val_loss: 0.4030 - val_accuracy: 0.9456\n",
            "Epoch 2/10\n",
            "235/235 [==============================] - 1s 4ms/step - loss: 0.4529 - accuracy: 0.9319 - val_loss: 0.3317 - val_accuracy: 0.9617\n",
            "Epoch 3/10\n",
            "235/235 [==============================] - 1s 4ms/step - loss: 0.3761 - accuracy: 0.9484 - val_loss: 0.2906 - val_accuracy: 0.9681\n",
            "Epoch 4/10\n",
            "235/235 [==============================] - 1s 4ms/step - loss: 0.3343 - accuracy: 0.9544 - val_loss: 0.2669 - val_accuracy: 0.9704\n",
            "Epoch 5/10\n",
            "235/235 [==============================] - 1s 4ms/step - loss: 0.3088 - accuracy: 0.9575 - val_loss: 0.2344 - val_accuracy: 0.9764\n",
            "Epoch 6/10\n",
            "235/235 [==============================] - 1s 5ms/step - loss: 0.2882 - accuracy: 0.9609 - val_loss: 0.2281 - val_accuracy: 0.9767\n",
            "Epoch 7/10\n",
            "235/235 [==============================] - 1s 4ms/step - loss: 0.2734 - accuracy: 0.9629 - val_loss: 0.2164 - val_accuracy: 0.9771\n",
            "Epoch 8/10\n",
            "235/235 [==============================] - 1s 4ms/step - loss: 0.2618 - accuracy: 0.9646 - val_loss: 0.2185 - val_accuracy: 0.9741\n",
            "Epoch 9/10\n",
            "235/235 [==============================] - 1s 4ms/step - loss: 0.2542 - accuracy: 0.9648 - val_loss: 0.2043 - val_accuracy: 0.9781\n",
            "Epoch 10/10\n",
            "235/235 [==============================] - 1s 4ms/step - loss: 0.2518 - accuracy: 0.9650 - val_loss: 0.2120 - val_accuracy: 0.9737\n"
          ]
        }
      ]
    },
    {
      "cell_type": "markdown",
      "source": [
        "## Convolutional Neural Network\n",
        "The model number 3 will be convolutional neural network and no regularizer in the Dense layer."
      ],
      "metadata": {
        "id": "_J5T5N4csytz"
      }
    },
    {
      "cell_type": "code",
      "source": [
        "cnn_model = tf.keras.models.Sequential([\n",
        "            tf.keras.layers.Conv2D(32, (3,3), activation='relu', input_shape=(28, 28, 1)),\n",
        "            tf.keras.layers.MaxPooling2D(2,2),\n",
        "            tf.keras.layers.Conv2D(64, (3,3), activation='relu'),\n",
        "            tf.keras.layers.MaxPooling2D(2,2),\n",
        "            tf.keras.layers.Conv2D(64, (3,3), activation='relu'),\n",
        "            tf.keras.layers.Flatten(),\n",
        "            tf.keras.layers.Dense(128, activation='relu'),\n",
        "            tf.keras.layers.Dense(10, activation='softmax')\n",
        "])\n",
        "\n",
        "cnn_model.compile(optimizer='adam',\n",
        "                 loss='categorical_crossentropy',\n",
        "                 metrics=['accuracy'])"
      ],
      "metadata": {
        "id": "mv7bSDBxqIgP"
      },
      "execution_count": 69,
      "outputs": []
    },
    {
      "cell_type": "code",
      "source": [
        "cnn_model.summary()"
      ],
      "metadata": {
        "colab": {
          "base_uri": "https://localhost:8080/"
        },
        "id": "qMZhLMeq3l_v",
        "outputId": "fffd53ed-d597-4830-ab35-4a36faaf03bc"
      },
      "execution_count": 102,
      "outputs": [
        {
          "output_type": "stream",
          "name": "stdout",
          "text": [
            "Model: \"sequential_20\"\n",
            "_________________________________________________________________\n",
            " Layer (type)                Output Shape              Param #   \n",
            "=================================================================\n",
            " conv2d_13 (Conv2D)          (None, 26, 26, 32)        320       \n",
            "                                                                 \n",
            " max_pooling2d (MaxPooling2D  (None, 13, 13, 32)       0         \n",
            " )                                                               \n",
            "                                                                 \n",
            " conv2d_14 (Conv2D)          (None, 11, 11, 64)        18496     \n",
            "                                                                 \n",
            " max_pooling2d_1 (MaxPooling  (None, 5, 5, 64)         0         \n",
            " 2D)                                                             \n",
            "                                                                 \n",
            " conv2d_15 (Conv2D)          (None, 3, 3, 64)          36928     \n",
            "                                                                 \n",
            " flatten_14 (Flatten)        (None, 576)               0         \n",
            "                                                                 \n",
            " dense_37 (Dense)            (None, 128)               73856     \n",
            "                                                                 \n",
            " dense_38 (Dense)            (None, 10)                1290      \n",
            "                                                                 \n",
            "=================================================================\n",
            "Total params: 130,890\n",
            "Trainable params: 130,890\n",
            "Non-trainable params: 0\n",
            "_________________________________________________________________\n"
          ]
        }
      ]
    },
    {
      "cell_type": "code",
      "source": [
        "history_cnn = cnn_model.fit(X_train, y_train, \n",
        "                epochs=10,\n",
        "                batch_size=128,\n",
        "                validation_data=(X_test, y_test))"
      ],
      "metadata": {
        "colab": {
          "base_uri": "https://localhost:8080/"
        },
        "id": "uQZ1avBRtQkz",
        "outputId": "2510e023-9908-43cc-cef3-c5b41ae1dd77"
      },
      "execution_count": 74,
      "outputs": [
        {
          "output_type": "stream",
          "name": "stdout",
          "text": [
            "Epoch 1/10\n",
            "469/469 [==============================] - 3s 6ms/step - loss: 0.0099 - accuracy: 0.9967 - val_loss: 0.0262 - val_accuracy: 0.9926\n",
            "Epoch 2/10\n",
            "469/469 [==============================] - 3s 5ms/step - loss: 0.0076 - accuracy: 0.9974 - val_loss: 0.0416 - val_accuracy: 0.9896\n",
            "Epoch 3/10\n",
            "469/469 [==============================] - 3s 5ms/step - loss: 0.0097 - accuracy: 0.9967 - val_loss: 0.0352 - val_accuracy: 0.9911\n",
            "Epoch 4/10\n",
            "469/469 [==============================] - 3s 5ms/step - loss: 0.0066 - accuracy: 0.9979 - val_loss: 0.0356 - val_accuracy: 0.9906\n",
            "Epoch 5/10\n",
            "469/469 [==============================] - 3s 6ms/step - loss: 0.0059 - accuracy: 0.9980 - val_loss: 0.0358 - val_accuracy: 0.9914\n",
            "Epoch 6/10\n",
            "469/469 [==============================] - 3s 5ms/step - loss: 0.0062 - accuracy: 0.9981 - val_loss: 0.0390 - val_accuracy: 0.9904\n",
            "Epoch 7/10\n",
            "469/469 [==============================] - 3s 6ms/step - loss: 0.0046 - accuracy: 0.9984 - val_loss: 0.0383 - val_accuracy: 0.9909\n",
            "Epoch 8/10\n",
            "469/469 [==============================] - 3s 6ms/step - loss: 0.0056 - accuracy: 0.9983 - val_loss: 0.0429 - val_accuracy: 0.9913\n",
            "Epoch 9/10\n",
            "469/469 [==============================] - 3s 6ms/step - loss: 0.0068 - accuracy: 0.9977 - val_loss: 0.0353 - val_accuracy: 0.9908\n",
            "Epoch 10/10\n",
            "469/469 [==============================] - 3s 5ms/step - loss: 0.0039 - accuracy: 0.9986 - val_loss: 0.0311 - val_accuracy: 0.9938\n"
          ]
        }
      ]
    },
    {
      "cell_type": "markdown",
      "source": [
        "## Comparison and explaination"
      ],
      "metadata": {
        "id": "bQ2Pqem-134u"
      }
    },
    {
      "cell_type": "code",
      "source": [
        "def visualize(model, value = 'loss'):\n",
        "  value2 = \"val_\" + str(value)\n",
        "  plt.xlabel('Epochs')\n",
        "  plt.ylabel(value)\n",
        "  plt.plot(model.history[value], label='training', c='red')\n",
        "  plt.plot(model.history[value2], label='validation', c='blue')\n",
        "  plt.legend()\n",
        "  return"
      ],
      "metadata": {
        "id": "333cYowuviSD"
      },
      "execution_count": 78,
      "outputs": []
    },
    {
      "cell_type": "code",
      "source": [
        "fig = plt.figure(figsize=(10,16))\n",
        "plt.subplots_adjust(hspace=0.3, wspace=0.1)\n",
        "\n",
        "plt.subplot(3, 1, 1)\n",
        "visualize(history_nn, 'accuracy')\n",
        "plt.title('Neural Network')\n",
        "plt.ylim([0.9, 1])\n",
        "\n",
        "plt.subplot(3, 1, 2)\n",
        "visualize(history, 'accuracy')\n",
        "plt.title('Neural Network with Regulizer')\n",
        "plt.ylim([0.9, 1])\n",
        "\n",
        "plt.subplot(3, 1, 3)\n",
        "visualize(history_cnn, 'accuracy')\n",
        "plt.title('Convolutional Neural Network')\n",
        "plt.ylim([0.9, 1])\n",
        "\n",
        "plt.show()"
      ],
      "metadata": {
        "colab": {
          "base_uri": "https://localhost:8080/",
          "height": 948
        },
        "id": "ttlHU37uteu4",
        "outputId": "85b09e77-ae7b-4d47-8040-2348bc0a8460"
      },
      "execution_count": 104,
      "outputs": [
        {
          "output_type": "display_data",
          "data": {
            "image/png": "[encoded data removed]",
            "text/plain": [
              "<Figure size 720x1152 with 3 Axes>"
            ]
          },
          "metadata": {
            "needs_background": "light"
          }
        }
      ]
    },
    {
      "cell_type": "markdown",
      "source": [
        "Here some insight from the image above:\n",
        "1.   The training and validation accuracy of the neural network withour regularizer is higher than model with regularizer.\n",
        "2.   But in neural network without regularizer you cann see that the gap between training and validation is increasing at epoch number 2. This means the model start to overfit to the training data.\n",
        "3. In neural network with regularizer the gap is getting smaller in each epoch so the model is generalize enough to prevent overfit. But the accuracy we got  from this model is lower than the model_1.\n",
        "4. With Convolutional Neural Network. We got the highest accuracy than the other method even without regularizer in the Dense layer. Thats why we use CNN model for image classification. For more detailed information you can find it in google.\n",
        "\n"
      ],
      "metadata": {
        "id": "9-LcCxMPzxK2"
      }
    },
    {
      "cell_type": "code",
      "source": [
        ""
      ],
      "metadata": {
        "id": "BdOdvmeRv3r5"
      },
      "execution_count": null,
      "outputs": []
    }
  ]
}