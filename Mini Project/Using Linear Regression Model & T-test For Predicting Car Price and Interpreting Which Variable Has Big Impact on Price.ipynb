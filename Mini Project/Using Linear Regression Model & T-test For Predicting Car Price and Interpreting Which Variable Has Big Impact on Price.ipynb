{
  "nbformat": 4,
  "nbformat_minor": 0,
  "metadata": {
    "colab": {
      "name": "Untitled23.ipynb",
      "provenance": [],
      "collapsed_sections": [
        "EQRA7tm7wBXq"
      ]
    },
    "kernelspec": {
      "name": "python3",
      "display_name": "Python 3"
    },
    "language_info": {
      "name": "python"
    }
  },
  "cells": [
    {
      "cell_type": "markdown",
      "metadata": {
        "id": "PV4Vj57tvyvh"
      },
      "source": [
        "# **Car Price Analysis**\n",
        "By **Adryan R A**\n",
        "\n",
        "The car price dataset contain 205 data that has dependent variable price. The dataset will be transform using scaler and log to get to normal distribution as possible. There are some outlier in the data but the model has good result in regression model. The adjusted R-Squared has score 92.4% that mean 92.4% of covariance in the model can be explained and this model can be used to interpret the independent variable. Using T-test on coefficient of the regression model. We get that:\n",
        "\n",
        "Increasing variable:\n",
        "*   1% increase on bodywitdh increase price by 0.03% \n",
        "*   1% increase on bodywitdh increase price by 0.79% \n",
        "\n",
        "Decreasing Variable:\n",
        "*   1% increase on stroke decrease price by 5% \n",
        "*   1% increase on citympg decrease price by 0.56% \n",
        "\n",
        "Another variable but in my opinion its not the enginelocation variable that make the price different, but the car that has engine on the rear are sport car.\n",
        "*   enginelocation on rear has 45% higher price than enginelocation on the front\n",
        "\n",
        "In this simple project we dont make change in two or more variable that has dependent. The model R-squared has high number but lots of variable has insignificant T-test result on coefficient = 0. There are some variable that has correlation bigger than 0.5. Actually we need to transform that correlated variable. But for started project we dont transform correlated variable now.\n",
        "\n",
        "\n",
        "\n",
        "\n",
        "\n",
        "\n"
      ]
    },
    {
      "cell_type": "markdown",
      "metadata": {
        "id": "-I97dgMEK8L7"
      },
      "source": [
        "****"
      ]
    },
    {
      "cell_type": "markdown",
      "metadata": {
        "id": "EQRA7tm7wBXq"
      },
      "source": [
        "### Car Price Data Description\n",
        "\n",
        "\n",
        "*   Symboling : Its assigned insurance risk rating, A value of +3 indicates that the auto is risky, -3 that it is probably pretty safe.(Categorical) \n",
        "*   fueltype : Car fuel type i.e gas or diesel (Categorical)\n",
        "*   aspiration : Aspiration used in a car (Categorical)\n",
        "*   enginetype : Type of engine. (Categorical)\n",
        "*   cylindernumber : cylinder placed in the car (Categorical)\n",
        "*   enginesize : Size of car (Numeric)\n",
        "*   fuelsystem : Fuel system of car (Categorical)\n",
        "*   boreratio : Boreratio of car (Numeric)\n",
        "*   stroke : Stroke or volume inside the engine (Numeric)\n",
        "*   compressionratio : compression ratio of car (Numeric)\n",
        "*   citympg : Mileage in city (Numeric)\n",
        "*   highwaympg : Mileage on highway (Numeric)\n",
        "*   price(Dependent variable) : Price of car (Numeric)\n",
        "\n",
        "\n",
        "\n",
        "\n",
        "\n",
        "\n",
        "\n",
        "\n",
        "\n",
        "\n",
        "\n",
        "\n",
        "\n"
      ]
    },
    {
      "cell_type": "markdown",
      "metadata": {
        "id": "Uccnl4tgxNwr"
      },
      "source": [
        "Importing Library that needed to process this data"
      ]
    },
    {
      "cell_type": "code",
      "metadata": {
        "id": "QUHj0mGMmcuC"
      },
      "source": [
        "import pandas as pd\n",
        "import numpy as np\n",
        "import matplotlib.pyplot as plt\n",
        "import seaborn as sns\n",
        "from sklearn.preprocessing import StandardScaler, MinMaxScaler, RobustScaler, PowerTransformer\n"
      ],
      "execution_count": 1,
      "outputs": []
    },
    {
      "cell_type": "code",
      "metadata": {
        "id": "WXfR967Vujoh"
      },
      "source": [
        "df = pd.read_csv(\"/content/CarPrice_Assignment.csv\")"
      ],
      "execution_count": 2,
      "outputs": []
    },
    {
      "cell_type": "markdown",
      "metadata": {
        "id": "OxUNT5yTxTnh"
      },
      "source": [
        "Show top 5 data from the dataset"
      ]
    },
    {
      "cell_type": "code",
      "metadata": {
        "colab": {
          "base_uri": "https://localhost:8080/",
          "height": 275
        },
        "id": "e16AyoMtunCy",
        "outputId": "7ab0c830-e23e-4661-b551-317340485269"
      },
      "source": [
        "df.head()"
      ],
      "execution_count": 3,
      "outputs": [
        {
          "output_type": "execute_result",
          "data": {
            "text/html": [
              "<div>\n",
              "<style scoped>\n",
              "    .dataframe tbody tr th:only-of-type {\n",
              "        vertical-align: middle;\n",
              "    }\n",
              "\n",
              "    .dataframe tbody tr th {\n",
              "        vertical-align: top;\n",
              "    }\n",
              "\n",
              "    .dataframe thead th {\n",
              "        text-align: right;\n",
              "    }\n",
              "</style>\n",
              "<table border=\"1\" class=\"dataframe\">\n",
              "  <thead>\n",
              "    <tr style=\"text-align: right;\">\n",
              "      <th></th>\n",
              "      <th>car_ID</th>\n",
              "      <th>symboling</th>\n",
              "      <th>CarName</th>\n",
              "      <th>fueltype</th>\n",
              "      <th>aspiration</th>\n",
              "      <th>doornumber</th>\n",
              "      <th>carbody</th>\n",
              "      <th>drivewheel</th>\n",
              "      <th>enginelocation</th>\n",
              "      <th>wheelbase</th>\n",
              "      <th>carlength</th>\n",
              "      <th>carwidth</th>\n",
              "      <th>carheight</th>\n",
              "      <th>curbweight</th>\n",
              "      <th>enginetype</th>\n",
              "      <th>cylindernumber</th>\n",
              "      <th>enginesize</th>\n",
              "      <th>fuelsystem</th>\n",
              "      <th>boreratio</th>\n",
              "      <th>stroke</th>\n",
              "      <th>compressionratio</th>\n",
              "      <th>horsepower</th>\n",
              "      <th>peakrpm</th>\n",
              "      <th>citympg</th>\n",
              "      <th>highwaympg</th>\n",
              "      <th>price</th>\n",
              "    </tr>\n",
              "  </thead>\n",
              "  <tbody>\n",
              "    <tr>\n",
              "      <th>0</th>\n",
              "      <td>1</td>\n",
              "      <td>3</td>\n",
              "      <td>alfa-romero giulia</td>\n",
              "      <td>gas</td>\n",
              "      <td>std</td>\n",
              "      <td>two</td>\n",
              "      <td>convertible</td>\n",
              "      <td>rwd</td>\n",
              "      <td>front</td>\n",
              "      <td>88.6</td>\n",
              "      <td>168.8</td>\n",
              "      <td>64.1</td>\n",
              "      <td>48.8</td>\n",
              "      <td>2548</td>\n",
              "      <td>dohc</td>\n",
              "      <td>four</td>\n",
              "      <td>130</td>\n",
              "      <td>mpfi</td>\n",
              "      <td>3.47</td>\n",
              "      <td>2.68</td>\n",
              "      <td>9.0</td>\n",
              "      <td>111</td>\n",
              "      <td>5000</td>\n",
              "      <td>21</td>\n",
              "      <td>27</td>\n",
              "      <td>13495.0</td>\n",
              "    </tr>\n",
              "    <tr>\n",
              "      <th>1</th>\n",
              "      <td>2</td>\n",
              "      <td>3</td>\n",
              "      <td>alfa-romero stelvio</td>\n",
              "      <td>gas</td>\n",
              "      <td>std</td>\n",
              "      <td>two</td>\n",
              "      <td>convertible</td>\n",
              "      <td>rwd</td>\n",
              "      <td>front</td>\n",
              "      <td>88.6</td>\n",
              "      <td>168.8</td>\n",
              "      <td>64.1</td>\n",
              "      <td>48.8</td>\n",
              "      <td>2548</td>\n",
              "      <td>dohc</td>\n",
              "      <td>four</td>\n",
              "      <td>130</td>\n",
              "      <td>mpfi</td>\n",
              "      <td>3.47</td>\n",
              "      <td>2.68</td>\n",
              "      <td>9.0</td>\n",
              "      <td>111</td>\n",
              "      <td>5000</td>\n",
              "      <td>21</td>\n",
              "      <td>27</td>\n",
              "      <td>16500.0</td>\n",
              "    </tr>\n",
              "    <tr>\n",
              "      <th>2</th>\n",
              "      <td>3</td>\n",
              "      <td>1</td>\n",
              "      <td>alfa-romero Quadrifoglio</td>\n",
              "      <td>gas</td>\n",
              "      <td>std</td>\n",
              "      <td>two</td>\n",
              "      <td>hatchback</td>\n",
              "      <td>rwd</td>\n",
              "      <td>front</td>\n",
              "      <td>94.5</td>\n",
              "      <td>171.2</td>\n",
              "      <td>65.5</td>\n",
              "      <td>52.4</td>\n",
              "      <td>2823</td>\n",
              "      <td>ohcv</td>\n",
              "      <td>six</td>\n",
              "      <td>152</td>\n",
              "      <td>mpfi</td>\n",
              "      <td>2.68</td>\n",
              "      <td>3.47</td>\n",
              "      <td>9.0</td>\n",
              "      <td>154</td>\n",
              "      <td>5000</td>\n",
              "      <td>19</td>\n",
              "      <td>26</td>\n",
              "      <td>16500.0</td>\n",
              "    </tr>\n",
              "    <tr>\n",
              "      <th>3</th>\n",
              "      <td>4</td>\n",
              "      <td>2</td>\n",
              "      <td>audi 100 ls</td>\n",
              "      <td>gas</td>\n",
              "      <td>std</td>\n",
              "      <td>four</td>\n",
              "      <td>sedan</td>\n",
              "      <td>fwd</td>\n",
              "      <td>front</td>\n",
              "      <td>99.8</td>\n",
              "      <td>176.6</td>\n",
              "      <td>66.2</td>\n",
              "      <td>54.3</td>\n",
              "      <td>2337</td>\n",
              "      <td>ohc</td>\n",
              "      <td>four</td>\n",
              "      <td>109</td>\n",
              "      <td>mpfi</td>\n",
              "      <td>3.19</td>\n",
              "      <td>3.40</td>\n",
              "      <td>10.0</td>\n",
              "      <td>102</td>\n",
              "      <td>5500</td>\n",
              "      <td>24</td>\n",
              "      <td>30</td>\n",
              "      <td>13950.0</td>\n",
              "    </tr>\n",
              "    <tr>\n",
              "      <th>4</th>\n",
              "      <td>5</td>\n",
              "      <td>2</td>\n",
              "      <td>audi 100ls</td>\n",
              "      <td>gas</td>\n",
              "      <td>std</td>\n",
              "      <td>four</td>\n",
              "      <td>sedan</td>\n",
              "      <td>4wd</td>\n",
              "      <td>front</td>\n",
              "      <td>99.4</td>\n",
              "      <td>176.6</td>\n",
              "      <td>66.4</td>\n",
              "      <td>54.3</td>\n",
              "      <td>2824</td>\n",
              "      <td>ohc</td>\n",
              "      <td>five</td>\n",
              "      <td>136</td>\n",
              "      <td>mpfi</td>\n",
              "      <td>3.19</td>\n",
              "      <td>3.40</td>\n",
              "      <td>8.0</td>\n",
              "      <td>115</td>\n",
              "      <td>5500</td>\n",
              "      <td>18</td>\n",
              "      <td>22</td>\n",
              "      <td>17450.0</td>\n",
              "    </tr>\n",
              "  </tbody>\n",
              "</table>\n",
              "</div>"
            ],
            "text/plain": [
              "   car_ID  symboling                   CarName  ... citympg highwaympg    price\n",
              "0       1          3        alfa-romero giulia  ...      21         27  13495.0\n",
              "1       2          3       alfa-romero stelvio  ...      21         27  16500.0\n",
              "2       3          1  alfa-romero Quadrifoglio  ...      19         26  16500.0\n",
              "3       4          2               audi 100 ls  ...      24         30  13950.0\n",
              "4       5          2                audi 100ls  ...      18         22  17450.0\n",
              "\n",
              "[5 rows x 26 columns]"
            ]
          },
          "metadata": {},
          "execution_count": 3
        }
      ]
    },
    {
      "cell_type": "code",
      "metadata": {
        "id": "2FEuduIZurOk"
      },
      "source": [
        "df_copy = df[['symboling', 'fueltype', 'aspiration',\n",
        "       'doornumber', 'carbody', 'drivewheel', 'enginelocation', 'wheelbase',\n",
        "       'carlength', 'carwidth', 'carheight', 'curbweight', 'enginetype',\n",
        "       'cylindernumber', 'enginesize', 'fuelsystem', 'boreratio', 'stroke',\n",
        "       'compressionratio', 'horsepower', 'peakrpm', 'citympg', 'highwaympg',\n",
        "       'price']]"
      ],
      "execution_count": 4,
      "outputs": []
    },
    {
      "cell_type": "markdown",
      "metadata": {
        "id": "IvOSAlGKxheo"
      },
      "source": [
        "Checking if the data has some missing data"
      ]
    },
    {
      "cell_type": "code",
      "metadata": {
        "colab": {
          "base_uri": "https://localhost:8080/",
          "height": 0
        },
        "id": "kKQtpsF8xd_b",
        "outputId": "4978e6cc-ebda-4103-f3d1-1f1d4dcb9411"
      },
      "source": [
        "df_copy.isnull().sum()"
      ],
      "execution_count": 5,
      "outputs": [
        {
          "output_type": "execute_result",
          "data": {
            "text/plain": [
              "symboling           0\n",
              "fueltype            0\n",
              "aspiration          0\n",
              "doornumber          0\n",
              "carbody             0\n",
              "drivewheel          0\n",
              "enginelocation      0\n",
              "wheelbase           0\n",
              "carlength           0\n",
              "carwidth            0\n",
              "carheight           0\n",
              "curbweight          0\n",
              "enginetype          0\n",
              "cylindernumber      0\n",
              "enginesize          0\n",
              "fuelsystem          0\n",
              "boreratio           0\n",
              "stroke              0\n",
              "compressionratio    0\n",
              "horsepower          0\n",
              "peakrpm             0\n",
              "citympg             0\n",
              "highwaympg          0\n",
              "price               0\n",
              "dtype: int64"
            ]
          },
          "metadata": {},
          "execution_count": 5
        }
      ]
    },
    {
      "cell_type": "markdown",
      "metadata": {
        "id": "bkymrJn_xkNP"
      },
      "source": [
        "**No Missing Data**\n",
        "Using isnull().sum() to count how many missing data in each column. The number showing 0 so no missing data in the dataset"
      ]
    },
    {
      "cell_type": "markdown",
      "metadata": {
        "id": "uPTp6geExYGa"
      },
      "source": [
        "Lets see some statistic"
      ]
    },
    {
      "cell_type": "code",
      "metadata": {
        "colab": {
          "base_uri": "https://localhost:8080/",
          "height": 514
        },
        "id": "YeRFaexMvJt8",
        "outputId": "da3e1736-7588-4953-c27f-4f02ec78a6f2"
      },
      "source": [
        "df_copy.describe().T"
      ],
      "execution_count": 6,
      "outputs": [
        {
          "output_type": "execute_result",
          "data": {
            "text/html": [
              "<div>\n",
              "<style scoped>\n",
              "    .dataframe tbody tr th:only-of-type {\n",
              "        vertical-align: middle;\n",
              "    }\n",
              "\n",
              "    .dataframe tbody tr th {\n",
              "        vertical-align: top;\n",
              "    }\n",
              "\n",
              "    .dataframe thead th {\n",
              "        text-align: right;\n",
              "    }\n",
              "</style>\n",
              "<table border=\"1\" class=\"dataframe\">\n",
              "  <thead>\n",
              "    <tr style=\"text-align: right;\">\n",
              "      <th></th>\n",
              "      <th>count</th>\n",
              "      <th>mean</th>\n",
              "      <th>std</th>\n",
              "      <th>min</th>\n",
              "      <th>25%</th>\n",
              "      <th>50%</th>\n",
              "      <th>75%</th>\n",
              "      <th>max</th>\n",
              "    </tr>\n",
              "  </thead>\n",
              "  <tbody>\n",
              "    <tr>\n",
              "      <th>symboling</th>\n",
              "      <td>205.0</td>\n",
              "      <td>0.834146</td>\n",
              "      <td>1.245307</td>\n",
              "      <td>-2.00</td>\n",
              "      <td>0.00</td>\n",
              "      <td>1.00</td>\n",
              "      <td>2.00</td>\n",
              "      <td>3.00</td>\n",
              "    </tr>\n",
              "    <tr>\n",
              "      <th>wheelbase</th>\n",
              "      <td>205.0</td>\n",
              "      <td>98.756585</td>\n",
              "      <td>6.021776</td>\n",
              "      <td>86.60</td>\n",
              "      <td>94.50</td>\n",
              "      <td>97.00</td>\n",
              "      <td>102.40</td>\n",
              "      <td>120.90</td>\n",
              "    </tr>\n",
              "    <tr>\n",
              "      <th>carlength</th>\n",
              "      <td>205.0</td>\n",
              "      <td>174.049268</td>\n",
              "      <td>12.337289</td>\n",
              "      <td>141.10</td>\n",
              "      <td>166.30</td>\n",
              "      <td>173.20</td>\n",
              "      <td>183.10</td>\n",
              "      <td>208.10</td>\n",
              "    </tr>\n",
              "    <tr>\n",
              "      <th>carwidth</th>\n",
              "      <td>205.0</td>\n",
              "      <td>65.907805</td>\n",
              "      <td>2.145204</td>\n",
              "      <td>60.30</td>\n",
              "      <td>64.10</td>\n",
              "      <td>65.50</td>\n",
              "      <td>66.90</td>\n",
              "      <td>72.30</td>\n",
              "    </tr>\n",
              "    <tr>\n",
              "      <th>carheight</th>\n",
              "      <td>205.0</td>\n",
              "      <td>53.724878</td>\n",
              "      <td>2.443522</td>\n",
              "      <td>47.80</td>\n",
              "      <td>52.00</td>\n",
              "      <td>54.10</td>\n",
              "      <td>55.50</td>\n",
              "      <td>59.80</td>\n",
              "    </tr>\n",
              "    <tr>\n",
              "      <th>curbweight</th>\n",
              "      <td>205.0</td>\n",
              "      <td>2555.565854</td>\n",
              "      <td>520.680204</td>\n",
              "      <td>1488.00</td>\n",
              "      <td>2145.00</td>\n",
              "      <td>2414.00</td>\n",
              "      <td>2935.00</td>\n",
              "      <td>4066.00</td>\n",
              "    </tr>\n",
              "    <tr>\n",
              "      <th>enginesize</th>\n",
              "      <td>205.0</td>\n",
              "      <td>126.907317</td>\n",
              "      <td>41.642693</td>\n",
              "      <td>61.00</td>\n",
              "      <td>97.00</td>\n",
              "      <td>120.00</td>\n",
              "      <td>141.00</td>\n",
              "      <td>326.00</td>\n",
              "    </tr>\n",
              "    <tr>\n",
              "      <th>boreratio</th>\n",
              "      <td>205.0</td>\n",
              "      <td>3.329756</td>\n",
              "      <td>0.270844</td>\n",
              "      <td>2.54</td>\n",
              "      <td>3.15</td>\n",
              "      <td>3.31</td>\n",
              "      <td>3.58</td>\n",
              "      <td>3.94</td>\n",
              "    </tr>\n",
              "    <tr>\n",
              "      <th>stroke</th>\n",
              "      <td>205.0</td>\n",
              "      <td>3.255415</td>\n",
              "      <td>0.313597</td>\n",
              "      <td>2.07</td>\n",
              "      <td>3.11</td>\n",
              "      <td>3.29</td>\n",
              "      <td>3.41</td>\n",
              "      <td>4.17</td>\n",
              "    </tr>\n",
              "    <tr>\n",
              "      <th>compressionratio</th>\n",
              "      <td>205.0</td>\n",
              "      <td>10.142537</td>\n",
              "      <td>3.972040</td>\n",
              "      <td>7.00</td>\n",
              "      <td>8.60</td>\n",
              "      <td>9.00</td>\n",
              "      <td>9.40</td>\n",
              "      <td>23.00</td>\n",
              "    </tr>\n",
              "    <tr>\n",
              "      <th>horsepower</th>\n",
              "      <td>205.0</td>\n",
              "      <td>104.117073</td>\n",
              "      <td>39.544167</td>\n",
              "      <td>48.00</td>\n",
              "      <td>70.00</td>\n",
              "      <td>95.00</td>\n",
              "      <td>116.00</td>\n",
              "      <td>288.00</td>\n",
              "    </tr>\n",
              "    <tr>\n",
              "      <th>peakrpm</th>\n",
              "      <td>205.0</td>\n",
              "      <td>5125.121951</td>\n",
              "      <td>476.985643</td>\n",
              "      <td>4150.00</td>\n",
              "      <td>4800.00</td>\n",
              "      <td>5200.00</td>\n",
              "      <td>5500.00</td>\n",
              "      <td>6600.00</td>\n",
              "    </tr>\n",
              "    <tr>\n",
              "      <th>citympg</th>\n",
              "      <td>205.0</td>\n",
              "      <td>25.219512</td>\n",
              "      <td>6.542142</td>\n",
              "      <td>13.00</td>\n",
              "      <td>19.00</td>\n",
              "      <td>24.00</td>\n",
              "      <td>30.00</td>\n",
              "      <td>49.00</td>\n",
              "    </tr>\n",
              "    <tr>\n",
              "      <th>highwaympg</th>\n",
              "      <td>205.0</td>\n",
              "      <td>30.751220</td>\n",
              "      <td>6.886443</td>\n",
              "      <td>16.00</td>\n",
              "      <td>25.00</td>\n",
              "      <td>30.00</td>\n",
              "      <td>34.00</td>\n",
              "      <td>54.00</td>\n",
              "    </tr>\n",
              "    <tr>\n",
              "      <th>price</th>\n",
              "      <td>205.0</td>\n",
              "      <td>13276.710571</td>\n",
              "      <td>7988.852332</td>\n",
              "      <td>5118.00</td>\n",
              "      <td>7788.00</td>\n",
              "      <td>10295.00</td>\n",
              "      <td>16503.00</td>\n",
              "      <td>45400.00</td>\n",
              "    </tr>\n",
              "  </tbody>\n",
              "</table>\n",
              "</div>"
            ],
            "text/plain": [
              "                  count          mean  ...       75%       max\n",
              "symboling         205.0      0.834146  ...      2.00      3.00\n",
              "wheelbase         205.0     98.756585  ...    102.40    120.90\n",
              "carlength         205.0    174.049268  ...    183.10    208.10\n",
              "carwidth          205.0     65.907805  ...     66.90     72.30\n",
              "carheight         205.0     53.724878  ...     55.50     59.80\n",
              "curbweight        205.0   2555.565854  ...   2935.00   4066.00\n",
              "enginesize        205.0    126.907317  ...    141.00    326.00\n",
              "boreratio         205.0      3.329756  ...      3.58      3.94\n",
              "stroke            205.0      3.255415  ...      3.41      4.17\n",
              "compressionratio  205.0     10.142537  ...      9.40     23.00\n",
              "horsepower        205.0    104.117073  ...    116.00    288.00\n",
              "peakrpm           205.0   5125.121951  ...   5500.00   6600.00\n",
              "citympg           205.0     25.219512  ...     30.00     49.00\n",
              "highwaympg        205.0     30.751220  ...     34.00     54.00\n",
              "price             205.0  13276.710571  ...  16503.00  45400.00\n",
              "\n",
              "[15 rows x 8 columns]"
            ]
          },
          "metadata": {},
          "execution_count": 6
        }
      ]
    },
    {
      "cell_type": "markdown",
      "metadata": {
        "id": "6kQ0LYthxbBg"
      },
      "source": [
        "For this statistic part, we want to compare mean and 50% (median). If you look at the table, we will find there is one column that has big different between mean and median. The column is \"price\" column. So lets check with boxplot to see if there is outlier in the data"
      ]
    },
    {
      "cell_type": "code",
      "metadata": {
        "colab": {
          "base_uri": "https://localhost:8080/",
          "height": 333
        },
        "id": "bmk2t0BjvMZb",
        "outputId": "97eee486-e8ea-4a11-9add-d4988def70ee"
      },
      "source": [
        "sns.boxplot(df_copy['price'])\n",
        "plt.show()"
      ],
      "execution_count": 7,
      "outputs": [
        {
          "output_type": "stream",
          "name": "stderr",
          "text": [
            "/usr/local/lib/python3.7/dist-packages/seaborn/_decorators.py:43: FutureWarning: Pass the following variable as a keyword arg: x. From version 0.12, the only valid positional argument will be `data`, and passing other arguments without an explicit keyword will result in an error or misinterpretation.\n",
            "  FutureWarning\n"
          ]
        },
        {
          "output_type": "display_data",
          "data": {
            "image/png": "[encoded data removed]",
            "text/plain": [
              "<Figure size 432x288 with 1 Axes>"
            ]
          },
          "metadata": {
            "needs_background": "light"
          }
        }
      ]
    },
    {
      "cell_type": "markdown",
      "metadata": {
        "id": "HUnTC3duyvnZ"
      },
      "source": [
        "The data is right skewed and as you can see in the boxplot. There are outlier in the data"
      ]
    },
    {
      "cell_type": "code",
      "metadata": {
        "colab": {
          "base_uri": "https://localhost:8080/",
          "height": 296
        },
        "id": "Z56FREJwvtLL",
        "outputId": "071965dd-96a6-46e8-c716-8b5ac7d5dc1d"
      },
      "source": [
        "sns.boxplot(x = 'cylindernumber', y = 'citympg', data = df_copy, order = ['two','three','four','five','six','eight','twelve'])"
      ],
      "execution_count": 8,
      "outputs": [
        {
          "output_type": "execute_result",
          "data": {
            "text/plain": [
              "<matplotlib.axes._subplots.AxesSubplot at 0x7fa467de0710>"
            ]
          },
          "metadata": {},
          "execution_count": 8
        },
        {
          "output_type": "display_data",
          "data": {
            "image/png": "[encoded data removed]",
            "text/plain": [
              "<Figure size 432x288 with 1 Axes>"
            ]
          },
          "metadata": {
            "needs_background": "light"
          }
        }
      ]
    },
    {
      "cell_type": "code",
      "metadata": {
        "colab": {
          "base_uri": "https://localhost:8080/",
          "height": 296
        },
        "id": "VoR7dsEdzG4D",
        "outputId": "fe0fa0ad-f774-4294-b1e3-c6b294d8c6e8"
      },
      "source": [
        "sns.boxplot(x = 'cylindernumber', y = 'highwaympg', data = df_copy, order = ['two','three','four','five','six','eight','twelve'])"
      ],
      "execution_count": 9,
      "outputs": [
        {
          "output_type": "execute_result",
          "data": {
            "text/plain": [
              "<matplotlib.axes._subplots.AxesSubplot at 0x7fa467cff850>"
            ]
          },
          "metadata": {},
          "execution_count": 9
        },
        {
          "output_type": "display_data",
          "data": {
            "image/png": "[encoded data removed]",
            "text/plain": [
              "<Figure size 432x288 with 1 Axes>"
            ]
          },
          "metadata": {
            "needs_background": "light"
          }
        }
      ]
    },
    {
      "cell_type": "markdown",
      "metadata": {
        "id": "ANml-KDKzjur"
      },
      "source": [
        "From the data actually we got that 3 and 4 cylinder use more fuel per mile than other bigger number of cylinder number. Lets see the correlation between feature to get the better result for analysis."
      ]
    },
    {
      "cell_type": "code",
      "metadata": {
        "colab": {
          "base_uri": "https://localhost:8080/",
          "height": 514
        },
        "id": "PvGq9nOg0M-A",
        "outputId": "60e52cb3-56a2-438d-e9e0-ad0b3f2e3e76"
      },
      "source": [
        "df_copy.corr()"
      ],
      "execution_count": 10,
      "outputs": [
        {
          "output_type": "execute_result",
          "data": {
            "text/html": [
              "<div>\n",
              "<style scoped>\n",
              "    .dataframe tbody tr th:only-of-type {\n",
              "        vertical-align: middle;\n",
              "    }\n",
              "\n",
              "    .dataframe tbody tr th {\n",
              "        vertical-align: top;\n",
              "    }\n",
              "\n",
              "    .dataframe thead th {\n",
              "        text-align: right;\n",
              "    }\n",
              "</style>\n",
              "<table border=\"1\" class=\"dataframe\">\n",
              "  <thead>\n",
              "    <tr style=\"text-align: right;\">\n",
              "      <th></th>\n",
              "      <th>symboling</th>\n",
              "      <th>wheelbase</th>\n",
              "      <th>carlength</th>\n",
              "      <th>carwidth</th>\n",
              "      <th>carheight</th>\n",
              "      <th>curbweight</th>\n",
              "      <th>enginesize</th>\n",
              "      <th>boreratio</th>\n",
              "      <th>stroke</th>\n",
              "      <th>compressionratio</th>\n",
              "      <th>horsepower</th>\n",
              "      <th>peakrpm</th>\n",
              "      <th>citympg</th>\n",
              "      <th>highwaympg</th>\n",
              "      <th>price</th>\n",
              "    </tr>\n",
              "  </thead>\n",
              "  <tbody>\n",
              "    <tr>\n",
              "      <th>symboling</th>\n",
              "      <td>1.000000</td>\n",
              "      <td>-0.531954</td>\n",
              "      <td>-0.357612</td>\n",
              "      <td>-0.232919</td>\n",
              "      <td>-0.541038</td>\n",
              "      <td>-0.227691</td>\n",
              "      <td>-0.105790</td>\n",
              "      <td>-0.130051</td>\n",
              "      <td>-0.008735</td>\n",
              "      <td>-0.178515</td>\n",
              "      <td>0.070873</td>\n",
              "      <td>0.273606</td>\n",
              "      <td>-0.035823</td>\n",
              "      <td>0.034606</td>\n",
              "      <td>-0.079978</td>\n",
              "    </tr>\n",
              "    <tr>\n",
              "      <th>wheelbase</th>\n",
              "      <td>-0.531954</td>\n",
              "      <td>1.000000</td>\n",
              "      <td>0.874587</td>\n",
              "      <td>0.795144</td>\n",
              "      <td>0.589435</td>\n",
              "      <td>0.776386</td>\n",
              "      <td>0.569329</td>\n",
              "      <td>0.488750</td>\n",
              "      <td>0.160959</td>\n",
              "      <td>0.249786</td>\n",
              "      <td>0.353294</td>\n",
              "      <td>-0.360469</td>\n",
              "      <td>-0.470414</td>\n",
              "      <td>-0.544082</td>\n",
              "      <td>0.577816</td>\n",
              "    </tr>\n",
              "    <tr>\n",
              "      <th>carlength</th>\n",
              "      <td>-0.357612</td>\n",
              "      <td>0.874587</td>\n",
              "      <td>1.000000</td>\n",
              "      <td>0.841118</td>\n",
              "      <td>0.491029</td>\n",
              "      <td>0.877728</td>\n",
              "      <td>0.683360</td>\n",
              "      <td>0.606454</td>\n",
              "      <td>0.129533</td>\n",
              "      <td>0.158414</td>\n",
              "      <td>0.552623</td>\n",
              "      <td>-0.287242</td>\n",
              "      <td>-0.670909</td>\n",
              "      <td>-0.704662</td>\n",
              "      <td>0.682920</td>\n",
              "    </tr>\n",
              "    <tr>\n",
              "      <th>carwidth</th>\n",
              "      <td>-0.232919</td>\n",
              "      <td>0.795144</td>\n",
              "      <td>0.841118</td>\n",
              "      <td>1.000000</td>\n",
              "      <td>0.279210</td>\n",
              "      <td>0.867032</td>\n",
              "      <td>0.735433</td>\n",
              "      <td>0.559150</td>\n",
              "      <td>0.182942</td>\n",
              "      <td>0.181129</td>\n",
              "      <td>0.640732</td>\n",
              "      <td>-0.220012</td>\n",
              "      <td>-0.642704</td>\n",
              "      <td>-0.677218</td>\n",
              "      <td>0.759325</td>\n",
              "    </tr>\n",
              "    <tr>\n",
              "      <th>carheight</th>\n",
              "      <td>-0.541038</td>\n",
              "      <td>0.589435</td>\n",
              "      <td>0.491029</td>\n",
              "      <td>0.279210</td>\n",
              "      <td>1.000000</td>\n",
              "      <td>0.295572</td>\n",
              "      <td>0.067149</td>\n",
              "      <td>0.171071</td>\n",
              "      <td>-0.055307</td>\n",
              "      <td>0.261214</td>\n",
              "      <td>-0.108802</td>\n",
              "      <td>-0.320411</td>\n",
              "      <td>-0.048640</td>\n",
              "      <td>-0.107358</td>\n",
              "      <td>0.119336</td>\n",
              "    </tr>\n",
              "    <tr>\n",
              "      <th>curbweight</th>\n",
              "      <td>-0.227691</td>\n",
              "      <td>0.776386</td>\n",
              "      <td>0.877728</td>\n",
              "      <td>0.867032</td>\n",
              "      <td>0.295572</td>\n",
              "      <td>1.000000</td>\n",
              "      <td>0.850594</td>\n",
              "      <td>0.648480</td>\n",
              "      <td>0.168790</td>\n",
              "      <td>0.151362</td>\n",
              "      <td>0.750739</td>\n",
              "      <td>-0.266243</td>\n",
              "      <td>-0.757414</td>\n",
              "      <td>-0.797465</td>\n",
              "      <td>0.835305</td>\n",
              "    </tr>\n",
              "    <tr>\n",
              "      <th>enginesize</th>\n",
              "      <td>-0.105790</td>\n",
              "      <td>0.569329</td>\n",
              "      <td>0.683360</td>\n",
              "      <td>0.735433</td>\n",
              "      <td>0.067149</td>\n",
              "      <td>0.850594</td>\n",
              "      <td>1.000000</td>\n",
              "      <td>0.583774</td>\n",
              "      <td>0.203129</td>\n",
              "      <td>0.028971</td>\n",
              "      <td>0.809769</td>\n",
              "      <td>-0.244660</td>\n",
              "      <td>-0.653658</td>\n",
              "      <td>-0.677470</td>\n",
              "      <td>0.874145</td>\n",
              "    </tr>\n",
              "    <tr>\n",
              "      <th>boreratio</th>\n",
              "      <td>-0.130051</td>\n",
              "      <td>0.488750</td>\n",
              "      <td>0.606454</td>\n",
              "      <td>0.559150</td>\n",
              "      <td>0.171071</td>\n",
              "      <td>0.648480</td>\n",
              "      <td>0.583774</td>\n",
              "      <td>1.000000</td>\n",
              "      <td>-0.055909</td>\n",
              "      <td>0.005197</td>\n",
              "      <td>0.573677</td>\n",
              "      <td>-0.254976</td>\n",
              "      <td>-0.584532</td>\n",
              "      <td>-0.587012</td>\n",
              "      <td>0.553173</td>\n",
              "    </tr>\n",
              "    <tr>\n",
              "      <th>stroke</th>\n",
              "      <td>-0.008735</td>\n",
              "      <td>0.160959</td>\n",
              "      <td>0.129533</td>\n",
              "      <td>0.182942</td>\n",
              "      <td>-0.055307</td>\n",
              "      <td>0.168790</td>\n",
              "      <td>0.203129</td>\n",
              "      <td>-0.055909</td>\n",
              "      <td>1.000000</td>\n",
              "      <td>0.186110</td>\n",
              "      <td>0.080940</td>\n",
              "      <td>-0.067964</td>\n",
              "      <td>-0.042145</td>\n",
              "      <td>-0.043931</td>\n",
              "      <td>0.079443</td>\n",
              "    </tr>\n",
              "    <tr>\n",
              "      <th>compressionratio</th>\n",
              "      <td>-0.178515</td>\n",
              "      <td>0.249786</td>\n",
              "      <td>0.158414</td>\n",
              "      <td>0.181129</td>\n",
              "      <td>0.261214</td>\n",
              "      <td>0.151362</td>\n",
              "      <td>0.028971</td>\n",
              "      <td>0.005197</td>\n",
              "      <td>0.186110</td>\n",
              "      <td>1.000000</td>\n",
              "      <td>-0.204326</td>\n",
              "      <td>-0.435741</td>\n",
              "      <td>0.324701</td>\n",
              "      <td>0.265201</td>\n",
              "      <td>0.067984</td>\n",
              "    </tr>\n",
              "    <tr>\n",
              "      <th>horsepower</th>\n",
              "      <td>0.070873</td>\n",
              "      <td>0.353294</td>\n",
              "      <td>0.552623</td>\n",
              "      <td>0.640732</td>\n",
              "      <td>-0.108802</td>\n",
              "      <td>0.750739</td>\n",
              "      <td>0.809769</td>\n",
              "      <td>0.573677</td>\n",
              "      <td>0.080940</td>\n",
              "      <td>-0.204326</td>\n",
              "      <td>1.000000</td>\n",
              "      <td>0.131073</td>\n",
              "      <td>-0.801456</td>\n",
              "      <td>-0.770544</td>\n",
              "      <td>0.808139</td>\n",
              "    </tr>\n",
              "    <tr>\n",
              "      <th>peakrpm</th>\n",
              "      <td>0.273606</td>\n",
              "      <td>-0.360469</td>\n",
              "      <td>-0.287242</td>\n",
              "      <td>-0.220012</td>\n",
              "      <td>-0.320411</td>\n",
              "      <td>-0.266243</td>\n",
              "      <td>-0.244660</td>\n",
              "      <td>-0.254976</td>\n",
              "      <td>-0.067964</td>\n",
              "      <td>-0.435741</td>\n",
              "      <td>0.131073</td>\n",
              "      <td>1.000000</td>\n",
              "      <td>-0.113544</td>\n",
              "      <td>-0.054275</td>\n",
              "      <td>-0.085267</td>\n",
              "    </tr>\n",
              "    <tr>\n",
              "      <th>citympg</th>\n",
              "      <td>-0.035823</td>\n",
              "      <td>-0.470414</td>\n",
              "      <td>-0.670909</td>\n",
              "      <td>-0.642704</td>\n",
              "      <td>-0.048640</td>\n",
              "      <td>-0.757414</td>\n",
              "      <td>-0.653658</td>\n",
              "      <td>-0.584532</td>\n",
              "      <td>-0.042145</td>\n",
              "      <td>0.324701</td>\n",
              "      <td>-0.801456</td>\n",
              "      <td>-0.113544</td>\n",
              "      <td>1.000000</td>\n",
              "      <td>0.971337</td>\n",
              "      <td>-0.685751</td>\n",
              "    </tr>\n",
              "    <tr>\n",
              "      <th>highwaympg</th>\n",
              "      <td>0.034606</td>\n",
              "      <td>-0.544082</td>\n",
              "      <td>-0.704662</td>\n",
              "      <td>-0.677218</td>\n",
              "      <td>-0.107358</td>\n",
              "      <td>-0.797465</td>\n",
              "      <td>-0.677470</td>\n",
              "      <td>-0.587012</td>\n",
              "      <td>-0.043931</td>\n",
              "      <td>0.265201</td>\n",
              "      <td>-0.770544</td>\n",
              "      <td>-0.054275</td>\n",
              "      <td>0.971337</td>\n",
              "      <td>1.000000</td>\n",
              "      <td>-0.697599</td>\n",
              "    </tr>\n",
              "    <tr>\n",
              "      <th>price</th>\n",
              "      <td>-0.079978</td>\n",
              "      <td>0.577816</td>\n",
              "      <td>0.682920</td>\n",
              "      <td>0.759325</td>\n",
              "      <td>0.119336</td>\n",
              "      <td>0.835305</td>\n",
              "      <td>0.874145</td>\n",
              "      <td>0.553173</td>\n",
              "      <td>0.079443</td>\n",
              "      <td>0.067984</td>\n",
              "      <td>0.808139</td>\n",
              "      <td>-0.085267</td>\n",
              "      <td>-0.685751</td>\n",
              "      <td>-0.697599</td>\n",
              "      <td>1.000000</td>\n",
              "    </tr>\n",
              "  </tbody>\n",
              "</table>\n",
              "</div>"
            ],
            "text/plain": [
              "                  symboling  wheelbase  ...  highwaympg     price\n",
              "symboling          1.000000  -0.531954  ...    0.034606 -0.079978\n",
              "wheelbase         -0.531954   1.000000  ...   -0.544082  0.577816\n",
              "carlength         -0.357612   0.874587  ...   -0.704662  0.682920\n",
              "carwidth          -0.232919   0.795144  ...   -0.677218  0.759325\n",
              "carheight         -0.541038   0.589435  ...   -0.107358  0.119336\n",
              "curbweight        -0.227691   0.776386  ...   -0.797465  0.835305\n",
              "enginesize        -0.105790   0.569329  ...   -0.677470  0.874145\n",
              "boreratio         -0.130051   0.488750  ...   -0.587012  0.553173\n",
              "stroke            -0.008735   0.160959  ...   -0.043931  0.079443\n",
              "compressionratio  -0.178515   0.249786  ...    0.265201  0.067984\n",
              "horsepower         0.070873   0.353294  ...   -0.770544  0.808139\n",
              "peakrpm            0.273606  -0.360469  ...   -0.054275 -0.085267\n",
              "citympg           -0.035823  -0.470414  ...    0.971337 -0.685751\n",
              "highwaympg         0.034606  -0.544082  ...    1.000000 -0.697599\n",
              "price             -0.079978   0.577816  ...   -0.697599  1.000000\n",
              "\n",
              "[15 rows x 15 columns]"
            ]
          },
          "metadata": {},
          "execution_count": 10
        }
      ]
    },
    {
      "cell_type": "markdown",
      "metadata": {
        "id": "s1OGJwOL0RQF"
      },
      "source": [
        "Using df.corr() we can get correlation between each feature, but as you can see the table above, its not good to see the result as the feature number is big. Lets using some visualization"
      ]
    },
    {
      "cell_type": "code",
      "metadata": {
        "colab": {
          "base_uri": "https://localhost:8080/",
          "height": 689
        },
        "id": "Wkh3D2amzhhO",
        "outputId": "2d2743c4-83ce-4f40-8b69-4bb2ea74d982"
      },
      "source": [
        "plt.figure(figsize = (20,10))\n",
        "sns.heatmap(df_copy.corr(), vmin = -1, vmax = 1, annot = True)"
      ],
      "execution_count": 11,
      "outputs": [
        {
          "output_type": "execute_result",
          "data": {
            "text/plain": [
              "<matplotlib.axes._subplots.AxesSubplot at 0x7fa467bb0c50>"
            ]
          },
          "metadata": {},
          "execution_count": 11
        },
        {
          "output_type": "display_data",
          "data": {
            "image/png": "[encoded data removed]",
            "text/plain": [
              "<Figure size 1440x720 with 2 Axes>"
            ]
          },
          "metadata": {
            "needs_background": "light"
          }
        }
      ]
    },
    {
      "cell_type": "markdown",
      "metadata": {
        "id": "aJVzWBIb07Tr"
      },
      "source": [
        "Now you can see that its better to look for some insight. For example to know what make car price higher and lower we can see that. car size and other relation (witdh,weight,size) has big positive correlation. Higher horse power makes car price higher but higher mpg makes car price lower."
      ]
    },
    {
      "cell_type": "markdown",
      "metadata": {
        "id": "O_X-itSk2cgf"
      },
      "source": [
        "## Transform Numerical Data For Machine Learning Regression Model"
      ]
    },
    {
      "cell_type": "code",
      "metadata": {
        "colab": {
          "base_uri": "https://localhost:8080/",
          "height": 162
        },
        "id": "cJltsa-y2g9d",
        "outputId": "be715580-3e18-459c-f2d2-d4257bd0d947"
      },
      "source": [
        "df_copy.head(3)"
      ],
      "execution_count": 12,
      "outputs": [
        {
          "output_type": "execute_result",
          "data": {
            "text/html": [
              "<div>\n",
              "<style scoped>\n",
              "    .dataframe tbody tr th:only-of-type {\n",
              "        vertical-align: middle;\n",
              "    }\n",
              "\n",
              "    .dataframe tbody tr th {\n",
              "        vertical-align: top;\n",
              "    }\n",
              "\n",
              "    .dataframe thead th {\n",
              "        text-align: right;\n",
              "    }\n",
              "</style>\n",
              "<table border=\"1\" class=\"dataframe\">\n",
              "  <thead>\n",
              "    <tr style=\"text-align: right;\">\n",
              "      <th></th>\n",
              "      <th>symboling</th>\n",
              "      <th>fueltype</th>\n",
              "      <th>aspiration</th>\n",
              "      <th>doornumber</th>\n",
              "      <th>carbody</th>\n",
              "      <th>drivewheel</th>\n",
              "      <th>enginelocation</th>\n",
              "      <th>wheelbase</th>\n",
              "      <th>carlength</th>\n",
              "      <th>carwidth</th>\n",
              "      <th>carheight</th>\n",
              "      <th>curbweight</th>\n",
              "      <th>enginetype</th>\n",
              "      <th>cylindernumber</th>\n",
              "      <th>enginesize</th>\n",
              "      <th>fuelsystem</th>\n",
              "      <th>boreratio</th>\n",
              "      <th>stroke</th>\n",
              "      <th>compressionratio</th>\n",
              "      <th>horsepower</th>\n",
              "      <th>peakrpm</th>\n",
              "      <th>citympg</th>\n",
              "      <th>highwaympg</th>\n",
              "      <th>price</th>\n",
              "    </tr>\n",
              "  </thead>\n",
              "  <tbody>\n",
              "    <tr>\n",
              "      <th>0</th>\n",
              "      <td>3</td>\n",
              "      <td>gas</td>\n",
              "      <td>std</td>\n",
              "      <td>two</td>\n",
              "      <td>convertible</td>\n",
              "      <td>rwd</td>\n",
              "      <td>front</td>\n",
              "      <td>88.6</td>\n",
              "      <td>168.8</td>\n",
              "      <td>64.1</td>\n",
              "      <td>48.8</td>\n",
              "      <td>2548</td>\n",
              "      <td>dohc</td>\n",
              "      <td>four</td>\n",
              "      <td>130</td>\n",
              "      <td>mpfi</td>\n",
              "      <td>3.47</td>\n",
              "      <td>2.68</td>\n",
              "      <td>9.0</td>\n",
              "      <td>111</td>\n",
              "      <td>5000</td>\n",
              "      <td>21</td>\n",
              "      <td>27</td>\n",
              "      <td>13495.0</td>\n",
              "    </tr>\n",
              "    <tr>\n",
              "      <th>1</th>\n",
              "      <td>3</td>\n",
              "      <td>gas</td>\n",
              "      <td>std</td>\n",
              "      <td>two</td>\n",
              "      <td>convertible</td>\n",
              "      <td>rwd</td>\n",
              "      <td>front</td>\n",
              "      <td>88.6</td>\n",
              "      <td>168.8</td>\n",
              "      <td>64.1</td>\n",
              "      <td>48.8</td>\n",
              "      <td>2548</td>\n",
              "      <td>dohc</td>\n",
              "      <td>four</td>\n",
              "      <td>130</td>\n",
              "      <td>mpfi</td>\n",
              "      <td>3.47</td>\n",
              "      <td>2.68</td>\n",
              "      <td>9.0</td>\n",
              "      <td>111</td>\n",
              "      <td>5000</td>\n",
              "      <td>21</td>\n",
              "      <td>27</td>\n",
              "      <td>16500.0</td>\n",
              "    </tr>\n",
              "    <tr>\n",
              "      <th>2</th>\n",
              "      <td>1</td>\n",
              "      <td>gas</td>\n",
              "      <td>std</td>\n",
              "      <td>two</td>\n",
              "      <td>hatchback</td>\n",
              "      <td>rwd</td>\n",
              "      <td>front</td>\n",
              "      <td>94.5</td>\n",
              "      <td>171.2</td>\n",
              "      <td>65.5</td>\n",
              "      <td>52.4</td>\n",
              "      <td>2823</td>\n",
              "      <td>ohcv</td>\n",
              "      <td>six</td>\n",
              "      <td>152</td>\n",
              "      <td>mpfi</td>\n",
              "      <td>2.68</td>\n",
              "      <td>3.47</td>\n",
              "      <td>9.0</td>\n",
              "      <td>154</td>\n",
              "      <td>5000</td>\n",
              "      <td>19</td>\n",
              "      <td>26</td>\n",
              "      <td>16500.0</td>\n",
              "    </tr>\n",
              "  </tbody>\n",
              "</table>\n",
              "</div>"
            ],
            "text/plain": [
              "   symboling fueltype aspiration  ... citympg highwaympg    price\n",
              "0          3      gas        std  ...      21         27  13495.0\n",
              "1          3      gas        std  ...      21         27  16500.0\n",
              "2          1      gas        std  ...      19         26  16500.0\n",
              "\n",
              "[3 rows x 24 columns]"
            ]
          },
          "metadata": {},
          "execution_count": 12
        }
      ]
    },
    {
      "cell_type": "markdown",
      "metadata": {
        "id": "Jk3E6hiU2rgP"
      },
      "source": [
        "First we will look at the distribution of each numerical feature and transform it to normal distribution. Lets convert all numerical feauture with StandardScaler"
      ]
    },
    {
      "cell_type": "markdown",
      "metadata": {
        "id": "GzFrDa-LJUNP"
      },
      "source": [
        "**Normal Data**"
      ]
    },
    {
      "cell_type": "code",
      "metadata": {
        "colab": {
          "base_uri": "https://localhost:8080/",
          "height": 358
        },
        "id": "ygQH3Q3PJW3W",
        "outputId": "7327ee32-104e-4c41-c65c-bd2f3f8bd552"
      },
      "source": [
        "df_copy.skew().plot.bar()"
      ],
      "execution_count": 13,
      "outputs": [
        {
          "output_type": "execute_result",
          "data": {
            "text/plain": [
              "<matplotlib.axes._subplots.AxesSubplot at 0x7fa4682df650>"
            ]
          },
          "metadata": {},
          "execution_count": 13
        },
        {
          "output_type": "display_data",
          "data": {
            "image/png": "[encoded data removed]",
            "text/plain": [
              "<Figure size 432x288 with 1 Axes>"
            ]
          },
          "metadata": {
            "needs_background": "light"
          }
        }
      ]
    },
    {
      "cell_type": "markdown",
      "metadata": {
        "id": "gpXcCYCgEo_V"
      },
      "source": [
        "**StandardScaler**"
      ]
    },
    {
      "cell_type": "code",
      "metadata": {
        "id": "l2OzkuMZ2p5P"
      },
      "source": [
        "df_try = df_copy.copy()\n",
        "cols = ['wheelbase', 'carlength', 'carheight', 'curbweight', 'enginesize', 'boreratio', 'stroke', 'compressionratio', 'horsepower', 'peakrpm', 'citympg', 'highwaympg']\n",
        "df_try[cols] = StandardScaler().fit_transform(df_try[cols])"
      ],
      "execution_count": 14,
      "outputs": []
    },
    {
      "cell_type": "code",
      "metadata": {
        "colab": {
          "base_uri": "https://localhost:8080/",
          "height": 282
        },
        "id": "wj52i_dcCj4h",
        "outputId": "9883dbd4-cf4e-4972-f361-a2700f2035f8"
      },
      "source": [
        "df_try['wheelbase'].hist()"
      ],
      "execution_count": 15,
      "outputs": [
        {
          "output_type": "execute_result",
          "data": {
            "text/plain": [
              "<matplotlib.axes._subplots.AxesSubplot at 0x7fa45d81f7d0>"
            ]
          },
          "metadata": {},
          "execution_count": 15
        },
        {
          "output_type": "display_data",
          "data": {
            "image/png": "[encoded data removed]",
            "text/plain": [
              "<Figure size 432x288 with 1 Axes>"
            ]
          },
          "metadata": {
            "needs_background": "light"
          }
        }
      ]
    },
    {
      "cell_type": "markdown",
      "metadata": {
        "id": "JKZZU0708WtV"
      },
      "source": [
        "Lets plot it to look for skewed distribution"
      ]
    },
    {
      "cell_type": "code",
      "metadata": {
        "colab": {
          "base_uri": "https://localhost:8080/",
          "height": 592
        },
        "id": "l61vyZtV3gF7",
        "outputId": "18f60629-b67d-4a02-923e-7d14eb37c722"
      },
      "source": [
        "plt.figure(figsize = (20,10))\n",
        "sns.boxplot(data=df_try[cols])\n",
        "plt.show()"
      ],
      "execution_count": 16,
      "outputs": [
        {
          "output_type": "display_data",
          "data": {
            "image/png": "[encoded data removed]",
            "text/plain": [
              "<Figure size 1440x720 with 1 Axes>"
            ]
          },
          "metadata": {
            "needs_background": "light"
          }
        }
      ]
    },
    {
      "cell_type": "markdown",
      "metadata": {
        "id": "HJIB_0uO9woL"
      },
      "source": [
        "The middle line of the the graph show where the median is. If its not located in the middle of the graph than its skewed. For better visualization, we will look at the bar graph of the feature's skew"
      ]
    },
    {
      "cell_type": "code",
      "metadata": {
        "colab": {
          "base_uri": "https://localhost:8080/",
          "height": 341
        },
        "id": "1OyMAQ9m3v0L",
        "outputId": "f9d1abad-2107-4639-c32a-2b06f58b4b35"
      },
      "source": [
        "df_try[cols].skew().plot.bar()\n",
        "plt.show()"
      ],
      "execution_count": 17,
      "outputs": [
        {
          "output_type": "display_data",
          "data": {
            "image/png": "[encoded data removed]",
            "text/plain": [
              "<Figure size 432x288 with 1 Axes>"
            ]
          },
          "metadata": {
            "needs_background": "light"
          }
        }
      ]
    },
    {
      "cell_type": "markdown",
      "metadata": {
        "id": "hy0nNV1LE-kl"
      },
      "source": [
        "**MinMaxScaler**"
      ]
    },
    {
      "cell_type": "code",
      "metadata": {
        "id": "H8Jmri3bCI8P"
      },
      "source": [
        "df_try_3 = df_copy.copy()\n",
        "df_try_3[cols] = MinMaxScaler().fit_transform(df_try_3[cols])"
      ],
      "execution_count": 18,
      "outputs": []
    },
    {
      "cell_type": "code",
      "metadata": {
        "colab": {
          "base_uri": "https://localhost:8080/",
          "height": 358
        },
        "id": "ShjpR-1EE42Y",
        "outputId": "958b8740-e8e9-4495-c797-2dcbc56c36a7"
      },
      "source": [
        "df_try_3[cols].skew().plot.bar()"
      ],
      "execution_count": 19,
      "outputs": [
        {
          "output_type": "execute_result",
          "data": {
            "text/plain": [
              "<matplotlib.axes._subplots.AxesSubplot at 0x7fa45d5b0850>"
            ]
          },
          "metadata": {},
          "execution_count": 19
        },
        {
          "output_type": "display_data",
          "data": {
            "image/png": "[encoded data removed]",
            "text/plain": [
              "<Figure size 432x288 with 1 Axes>"
            ]
          },
          "metadata": {
            "needs_background": "light"
          }
        }
      ]
    },
    {
      "cell_type": "markdown",
      "metadata": {
        "id": "MI_nUSCuGqkd"
      },
      "source": [
        "**Log**"
      ]
    },
    {
      "cell_type": "code",
      "metadata": {
        "id": "MB73ui6XFaLn"
      },
      "source": [
        "df_try_4 = df_copy.copy()\n",
        "for col in cols:\n",
        "  df_try_4[col] = np.log(df_try_4[col])"
      ],
      "execution_count": 20,
      "outputs": []
    },
    {
      "cell_type": "code",
      "metadata": {
        "colab": {
          "base_uri": "https://localhost:8080/",
          "height": 361
        },
        "id": "Je4yDSjsFk-z",
        "outputId": "8692043f-f5c8-46c5-a4d2-b9b452bd5dcd"
      },
      "source": [
        "df_try_4[cols].skew().plot.bar()"
      ],
      "execution_count": 21,
      "outputs": [
        {
          "output_type": "execute_result",
          "data": {
            "text/plain": [
              "<matplotlib.axes._subplots.AxesSubplot at 0x7fa45d4dfd50>"
            ]
          },
          "metadata": {},
          "execution_count": 21
        },
        {
          "output_type": "display_data",
          "data": {
            "image/png": "[encoded data removed]",
            "text/plain": [
              "<Figure size 432x288 with 1 Axes>"
            ]
          },
          "metadata": {
            "needs_background": "light"
          }
        }
      ]
    },
    {
      "cell_type": "markdown",
      "metadata": {
        "id": "0wHH6UucFF_h"
      },
      "source": [
        "**Transform Conclusion**\n",
        "\n",
        "We want normal distribution for the data, we compare 4 method and use each minimal method for each columns. But we will minilize using powertransformer for interpretation of coefficient later"
      ]
    },
    {
      "cell_type": "code",
      "metadata": {
        "colab": {
          "base_uri": "https://localhost:8080/",
          "height": 421
        },
        "id": "ClitrpllFKzM",
        "outputId": "5ea03707-4d84-4779-b9e8-3d9ced1afcca"
      },
      "source": [
        "comparison = pd.DataFrame([df_copy[cols].skew(),df_try[cols].skew(),df_try_3[cols].skew(),df_try_4[cols].skew()]).T\n",
        "comparison.columns=['Normal','StandardScaler','MinMaxScaler','Log']\n",
        "comparison"
      ],
      "execution_count": 22,
      "outputs": [
        {
          "output_type": "execute_result",
          "data": {
            "text/html": [
              "<div>\n",
              "<style scoped>\n",
              "    .dataframe tbody tr th:only-of-type {\n",
              "        vertical-align: middle;\n",
              "    }\n",
              "\n",
              "    .dataframe tbody tr th {\n",
              "        vertical-align: top;\n",
              "    }\n",
              "\n",
              "    .dataframe thead th {\n",
              "        text-align: right;\n",
              "    }\n",
              "</style>\n",
              "<table border=\"1\" class=\"dataframe\">\n",
              "  <thead>\n",
              "    <tr style=\"text-align: right;\">\n",
              "      <th></th>\n",
              "      <th>Normal</th>\n",
              "      <th>StandardScaler</th>\n",
              "      <th>MinMaxScaler</th>\n",
              "      <th>Log</th>\n",
              "    </tr>\n",
              "  </thead>\n",
              "  <tbody>\n",
              "    <tr>\n",
              "      <th>wheelbase</th>\n",
              "      <td>1.050214</td>\n",
              "      <td>1.050214</td>\n",
              "      <td>1.050214</td>\n",
              "      <td>0.883387</td>\n",
              "    </tr>\n",
              "    <tr>\n",
              "      <th>carlength</th>\n",
              "      <td>0.155954</td>\n",
              "      <td>0.155954</td>\n",
              "      <td>0.155954</td>\n",
              "      <td>-0.047191</td>\n",
              "    </tr>\n",
              "    <tr>\n",
              "      <th>carheight</th>\n",
              "      <td>0.063123</td>\n",
              "      <td>0.063123</td>\n",
              "      <td>0.063123</td>\n",
              "      <td>-0.040178</td>\n",
              "    </tr>\n",
              "    <tr>\n",
              "      <th>curbweight</th>\n",
              "      <td>0.681398</td>\n",
              "      <td>0.681398</td>\n",
              "      <td>0.681398</td>\n",
              "      <td>0.270090</td>\n",
              "    </tr>\n",
              "    <tr>\n",
              "      <th>enginesize</th>\n",
              "      <td>1.947655</td>\n",
              "      <td>1.947655</td>\n",
              "      <td>1.947655</td>\n",
              "      <td>0.857828</td>\n",
              "    </tr>\n",
              "    <tr>\n",
              "      <th>boreratio</th>\n",
              "      <td>0.020156</td>\n",
              "      <td>0.020156</td>\n",
              "      <td>0.020156</td>\n",
              "      <td>-0.138266</td>\n",
              "    </tr>\n",
              "    <tr>\n",
              "      <th>stroke</th>\n",
              "      <td>-0.689705</td>\n",
              "      <td>-0.689705</td>\n",
              "      <td>-0.689705</td>\n",
              "      <td>-1.260319</td>\n",
              "    </tr>\n",
              "    <tr>\n",
              "      <th>compressionratio</th>\n",
              "      <td>2.610862</td>\n",
              "      <td>2.610862</td>\n",
              "      <td>2.610862</td>\n",
              "      <td>2.349716</td>\n",
              "    </tr>\n",
              "    <tr>\n",
              "      <th>horsepower</th>\n",
              "      <td>1.405310</td>\n",
              "      <td>1.405310</td>\n",
              "      <td>1.405310</td>\n",
              "      <td>0.482838</td>\n",
              "    </tr>\n",
              "    <tr>\n",
              "      <th>peakrpm</th>\n",
              "      <td>0.075159</td>\n",
              "      <td>0.075159</td>\n",
              "      <td>0.075159</td>\n",
              "      <td>-0.199730</td>\n",
              "    </tr>\n",
              "    <tr>\n",
              "      <th>citympg</th>\n",
              "      <td>0.663704</td>\n",
              "      <td>0.663704</td>\n",
              "      <td>0.663704</td>\n",
              "      <td>0.003106</td>\n",
              "    </tr>\n",
              "    <tr>\n",
              "      <th>highwaympg</th>\n",
              "      <td>0.539997</td>\n",
              "      <td>0.539997</td>\n",
              "      <td>0.539997</td>\n",
              "      <td>-0.122255</td>\n",
              "    </tr>\n",
              "  </tbody>\n",
              "</table>\n",
              "</div>"
            ],
            "text/plain": [
              "                    Normal  StandardScaler  MinMaxScaler       Log\n",
              "wheelbase         1.050214        1.050214      1.050214  0.883387\n",
              "carlength         0.155954        0.155954      0.155954 -0.047191\n",
              "carheight         0.063123        0.063123      0.063123 -0.040178\n",
              "curbweight        0.681398        0.681398      0.681398  0.270090\n",
              "enginesize        1.947655        1.947655      1.947655  0.857828\n",
              "boreratio         0.020156        0.020156      0.020156 -0.138266\n",
              "stroke           -0.689705       -0.689705     -0.689705 -1.260319\n",
              "compressionratio  2.610862        2.610862      2.610862  2.349716\n",
              "horsepower        1.405310        1.405310      1.405310  0.482838\n",
              "peakrpm           0.075159        0.075159      0.075159 -0.199730\n",
              "citympg           0.663704        0.663704      0.663704  0.003106\n",
              "highwaympg        0.539997        0.539997      0.539997 -0.122255"
            ]
          },
          "metadata": {},
          "execution_count": 22
        }
      ]
    },
    {
      "cell_type": "markdown",
      "metadata": {
        "id": "w_NEx-aPMZz4"
      },
      "source": [
        "We will using StandardScaler for column boreratio, stroke, peakrpm. The other column will transform using log"
      ]
    },
    {
      "cell_type": "code",
      "metadata": {
        "id": "YOqICiBgF3CW"
      },
      "source": [
        "StandardScaler_cols = ['boreratio','stroke','peakrpm']\n",
        "Log_cols = [col for col in cols if col not in StandardScaler_cols]"
      ],
      "execution_count": 23,
      "outputs": []
    },
    {
      "cell_type": "code",
      "metadata": {
        "id": "4RNv_H4BK8sj"
      },
      "source": [
        "df_transformed = df_copy.copy()"
      ],
      "execution_count": 24,
      "outputs": []
    },
    {
      "cell_type": "code",
      "metadata": {
        "id": "7D6UkMQlKkZA"
      },
      "source": [
        "df_transformed[StandardScaler_cols] = StandardScaler().fit_transform(df_transformed[StandardScaler_cols])"
      ],
      "execution_count": 25,
      "outputs": []
    },
    {
      "cell_type": "code",
      "metadata": {
        "id": "DDPfgcDkKuno"
      },
      "source": [
        "for col in Log_cols: \n",
        "  df_transformed[col] = np.log(df_transformed[col])"
      ],
      "execution_count": 26,
      "outputs": []
    },
    {
      "cell_type": "markdown",
      "metadata": {
        "id": "OH_WYEBgMpMn"
      },
      "source": [
        "Check skewness using boxplot"
      ]
    },
    {
      "cell_type": "code",
      "metadata": {
        "colab": {
          "base_uri": "https://localhost:8080/",
          "height": 592
        },
        "id": "bQ3BGbe5LTbs",
        "outputId": "df342d5c-d547-406a-8e98-81258e5ccaa1"
      },
      "source": [
        "plt.figure(figsize = (20,10))\n",
        "sns.boxplot(data = df_transformed[cols])\n",
        "plt.show()"
      ],
      "execution_count": 27,
      "outputs": [
        {
          "output_type": "display_data",
          "data": {
            "image/png": "[encoded data removed]",
            "text/plain": [
              "<Figure size 1440x720 with 1 Axes>"
            ]
          },
          "metadata": {
            "needs_background": "light"
          }
        }
      ]
    },
    {
      "cell_type": "markdown",
      "metadata": {
        "id": "zadjNyApMs_D"
      },
      "source": [
        "The middle line is more centered than before. Lets check our dependent variable skewness"
      ]
    },
    {
      "cell_type": "code",
      "metadata": {
        "colab": {
          "base_uri": "https://localhost:8080/",
          "height": 0
        },
        "id": "TiwkO-KELXKo",
        "outputId": "b50ac11d-ba22-4cb4-f146-da47850f4b92"
      },
      "source": [
        "df['price'].skew()"
      ],
      "execution_count": 28,
      "outputs": [
        {
          "output_type": "execute_result",
          "data": {
            "text/plain": [
              "1.7776781560914454"
            ]
          },
          "metadata": {},
          "execution_count": 28
        }
      ]
    },
    {
      "cell_type": "code",
      "metadata": {
        "colab": {
          "base_uri": "https://localhost:8080/",
          "height": 0
        },
        "id": "V1z4QSN0M2k5",
        "outputId": "7260b433-808c-4854-a9f2-ee707ab2e879"
      },
      "source": [
        "np.log(df['price']).skew()"
      ],
      "execution_count": 29,
      "outputs": [
        {
          "output_type": "execute_result",
          "data": {
            "text/plain": [
              "0.672888533977329"
            ]
          },
          "metadata": {},
          "execution_count": 29
        }
      ]
    },
    {
      "cell_type": "markdown",
      "metadata": {
        "id": "xGiOXE1DPVIl"
      },
      "source": [
        "We will transform our dependent variable using log"
      ]
    },
    {
      "cell_type": "code",
      "metadata": {
        "id": "KGczjQuZKFL9"
      },
      "source": [
        "df_transformed['price'] = np.log(df_transformed['price'])"
      ],
      "execution_count": 30,
      "outputs": []
    },
    {
      "cell_type": "markdown",
      "metadata": {
        "id": "mKw3ZwxXPaHs"
      },
      "source": [
        "## Transform Categorical Data For Machine Learning Regression Model"
      ]
    },
    {
      "cell_type": "code",
      "metadata": {
        "colab": {
          "base_uri": "https://localhost:8080/",
          "height": 224
        },
        "id": "3Riv2l9_M50K",
        "outputId": "2e014d42-3deb-43d8-89be-40cfa227d5b4"
      },
      "source": [
        "df_transformed.head()"
      ],
      "execution_count": 31,
      "outputs": [
        {
          "output_type": "execute_result",
          "data": {
            "text/html": [
              "<div>\n",
              "<style scoped>\n",
              "    .dataframe tbody tr th:only-of-type {\n",
              "        vertical-align: middle;\n",
              "    }\n",
              "\n",
              "    .dataframe tbody tr th {\n",
              "        vertical-align: top;\n",
              "    }\n",
              "\n",
              "    .dataframe thead th {\n",
              "        text-align: right;\n",
              "    }\n",
              "</style>\n",
              "<table border=\"1\" class=\"dataframe\">\n",
              "  <thead>\n",
              "    <tr style=\"text-align: right;\">\n",
              "      <th></th>\n",
              "      <th>symboling</th>\n",
              "      <th>fueltype</th>\n",
              "      <th>aspiration</th>\n",
              "      <th>doornumber</th>\n",
              "      <th>carbody</th>\n",
              "      <th>drivewheel</th>\n",
              "      <th>enginelocation</th>\n",
              "      <th>wheelbase</th>\n",
              "      <th>carlength</th>\n",
              "      <th>carwidth</th>\n",
              "      <th>carheight</th>\n",
              "      <th>curbweight</th>\n",
              "      <th>enginetype</th>\n",
              "      <th>cylindernumber</th>\n",
              "      <th>enginesize</th>\n",
              "      <th>fuelsystem</th>\n",
              "      <th>boreratio</th>\n",
              "      <th>stroke</th>\n",
              "      <th>compressionratio</th>\n",
              "      <th>horsepower</th>\n",
              "      <th>peakrpm</th>\n",
              "      <th>citympg</th>\n",
              "      <th>highwaympg</th>\n",
              "      <th>price</th>\n",
              "    </tr>\n",
              "  </thead>\n",
              "  <tbody>\n",
              "    <tr>\n",
              "      <th>0</th>\n",
              "      <td>3</td>\n",
              "      <td>gas</td>\n",
              "      <td>std</td>\n",
              "      <td>two</td>\n",
              "      <td>convertible</td>\n",
              "      <td>rwd</td>\n",
              "      <td>front</td>\n",
              "      <td>4.484132</td>\n",
              "      <td>5.128715</td>\n",
              "      <td>64.1</td>\n",
              "      <td>3.887730</td>\n",
              "      <td>7.843064</td>\n",
              "      <td>dohc</td>\n",
              "      <td>four</td>\n",
              "      <td>4.867534</td>\n",
              "      <td>mpfi</td>\n",
              "      <td>0.519071</td>\n",
              "      <td>-1.839377</td>\n",
              "      <td>2.197225</td>\n",
              "      <td>4.709530</td>\n",
              "      <td>-0.262960</td>\n",
              "      <td>3.044522</td>\n",
              "      <td>3.295837</td>\n",
              "      <td>9.510075</td>\n",
              "    </tr>\n",
              "    <tr>\n",
              "      <th>1</th>\n",
              "      <td>3</td>\n",
              "      <td>gas</td>\n",
              "      <td>std</td>\n",
              "      <td>two</td>\n",
              "      <td>convertible</td>\n",
              "      <td>rwd</td>\n",
              "      <td>front</td>\n",
              "      <td>4.484132</td>\n",
              "      <td>5.128715</td>\n",
              "      <td>64.1</td>\n",
              "      <td>3.887730</td>\n",
              "      <td>7.843064</td>\n",
              "      <td>dohc</td>\n",
              "      <td>four</td>\n",
              "      <td>4.867534</td>\n",
              "      <td>mpfi</td>\n",
              "      <td>0.519071</td>\n",
              "      <td>-1.839377</td>\n",
              "      <td>2.197225</td>\n",
              "      <td>4.709530</td>\n",
              "      <td>-0.262960</td>\n",
              "      <td>3.044522</td>\n",
              "      <td>3.295837</td>\n",
              "      <td>9.711116</td>\n",
              "    </tr>\n",
              "    <tr>\n",
              "      <th>2</th>\n",
              "      <td>1</td>\n",
              "      <td>gas</td>\n",
              "      <td>std</td>\n",
              "      <td>two</td>\n",
              "      <td>hatchback</td>\n",
              "      <td>rwd</td>\n",
              "      <td>front</td>\n",
              "      <td>4.548600</td>\n",
              "      <td>5.142832</td>\n",
              "      <td>65.5</td>\n",
              "      <td>3.958907</td>\n",
              "      <td>7.945555</td>\n",
              "      <td>ohcv</td>\n",
              "      <td>six</td>\n",
              "      <td>5.023881</td>\n",
              "      <td>mpfi</td>\n",
              "      <td>-2.404880</td>\n",
              "      <td>0.685946</td>\n",
              "      <td>2.197225</td>\n",
              "      <td>5.036953</td>\n",
              "      <td>-0.262960</td>\n",
              "      <td>2.944439</td>\n",
              "      <td>3.258097</td>\n",
              "      <td>9.711116</td>\n",
              "    </tr>\n",
              "    <tr>\n",
              "      <th>3</th>\n",
              "      <td>2</td>\n",
              "      <td>gas</td>\n",
              "      <td>std</td>\n",
              "      <td>four</td>\n",
              "      <td>sedan</td>\n",
              "      <td>fwd</td>\n",
              "      <td>front</td>\n",
              "      <td>4.603168</td>\n",
              "      <td>5.173887</td>\n",
              "      <td>66.2</td>\n",
              "      <td>3.994524</td>\n",
              "      <td>7.756623</td>\n",
              "      <td>ohc</td>\n",
              "      <td>four</td>\n",
              "      <td>4.691348</td>\n",
              "      <td>mpfi</td>\n",
              "      <td>-0.517266</td>\n",
              "      <td>0.462183</td>\n",
              "      <td>2.302585</td>\n",
              "      <td>4.624973</td>\n",
              "      <td>0.787855</td>\n",
              "      <td>3.178054</td>\n",
              "      <td>3.401197</td>\n",
              "      <td>9.543235</td>\n",
              "    </tr>\n",
              "    <tr>\n",
              "      <th>4</th>\n",
              "      <td>2</td>\n",
              "      <td>gas</td>\n",
              "      <td>std</td>\n",
              "      <td>four</td>\n",
              "      <td>sedan</td>\n",
              "      <td>4wd</td>\n",
              "      <td>front</td>\n",
              "      <td>4.599152</td>\n",
              "      <td>5.173887</td>\n",
              "      <td>66.4</td>\n",
              "      <td>3.994524</td>\n",
              "      <td>7.945910</td>\n",
              "      <td>ohc</td>\n",
              "      <td>five</td>\n",
              "      <td>4.912655</td>\n",
              "      <td>mpfi</td>\n",
              "      <td>-0.517266</td>\n",
              "      <td>0.462183</td>\n",
              "      <td>2.079442</td>\n",
              "      <td>4.744932</td>\n",
              "      <td>0.787855</td>\n",
              "      <td>2.890372</td>\n",
              "      <td>3.091042</td>\n",
              "      <td>9.767095</td>\n",
              "    </tr>\n",
              "  </tbody>\n",
              "</table>\n",
              "</div>"
            ],
            "text/plain": [
              "   symboling fueltype aspiration  ...   citympg highwaympg     price\n",
              "0          3      gas        std  ...  3.044522   3.295837  9.510075\n",
              "1          3      gas        std  ...  3.044522   3.295837  9.711116\n",
              "2          1      gas        std  ...  2.944439   3.258097  9.711116\n",
              "3          2      gas        std  ...  3.178054   3.401197  9.543235\n",
              "4          2      gas        std  ...  2.890372   3.091042  9.767095\n",
              "\n",
              "[5 rows x 24 columns]"
            ]
          },
          "metadata": {},
          "execution_count": 31
        }
      ]
    },
    {
      "cell_type": "code",
      "metadata": {
        "id": "ONwyBB2qP-lx"
      },
      "source": [
        "categorical_cols = ['fueltype','aspiration','doornumber','carbody','drivewheel','enginelocation','enginetype','cylindernumber','fuelsystem']"
      ],
      "execution_count": 32,
      "outputs": []
    },
    {
      "cell_type": "code",
      "metadata": {
        "id": "9VhtQoU0QOgb"
      },
      "source": [
        "df_transformed = pd.get_dummies(df_transformed, prefix=categorical_cols, columns=categorical_cols, drop_first=True)"
      ],
      "execution_count": 33,
      "outputs": []
    },
    {
      "cell_type": "markdown",
      "metadata": {
        "id": "MTeM5oaDRm8D"
      },
      "source": [
        "The data has been transformed successfully"
      ]
    },
    {
      "cell_type": "code",
      "metadata": {
        "colab": {
          "base_uri": "https://localhost:8080/",
          "height": 224
        },
        "id": "GqqQI-dxQ800",
        "outputId": "891b4530-e757-44a7-f2a7-cd7312ac97c9"
      },
      "source": [
        "df_transformed.head()"
      ],
      "execution_count": 34,
      "outputs": [
        {
          "output_type": "execute_result",
          "data": {
            "text/html": [
              "<div>\n",
              "<style scoped>\n",
              "    .dataframe tbody tr th:only-of-type {\n",
              "        vertical-align: middle;\n",
              "    }\n",
              "\n",
              "    .dataframe tbody tr th {\n",
              "        vertical-align: top;\n",
              "    }\n",
              "\n",
              "    .dataframe thead th {\n",
              "        text-align: right;\n",
              "    }\n",
              "</style>\n",
              "<table border=\"1\" class=\"dataframe\">\n",
              "  <thead>\n",
              "    <tr style=\"text-align: right;\">\n",
              "      <th></th>\n",
              "      <th>symboling</th>\n",
              "      <th>wheelbase</th>\n",
              "      <th>carlength</th>\n",
              "      <th>carwidth</th>\n",
              "      <th>carheight</th>\n",
              "      <th>curbweight</th>\n",
              "      <th>enginesize</th>\n",
              "      <th>boreratio</th>\n",
              "      <th>stroke</th>\n",
              "      <th>compressionratio</th>\n",
              "      <th>horsepower</th>\n",
              "      <th>peakrpm</th>\n",
              "      <th>citympg</th>\n",
              "      <th>highwaympg</th>\n",
              "      <th>price</th>\n",
              "      <th>fueltype_gas</th>\n",
              "      <th>aspiration_turbo</th>\n",
              "      <th>doornumber_two</th>\n",
              "      <th>carbody_hardtop</th>\n",
              "      <th>carbody_hatchback</th>\n",
              "      <th>carbody_sedan</th>\n",
              "      <th>carbody_wagon</th>\n",
              "      <th>drivewheel_fwd</th>\n",
              "      <th>drivewheel_rwd</th>\n",
              "      <th>enginelocation_rear</th>\n",
              "      <th>enginetype_dohcv</th>\n",
              "      <th>enginetype_l</th>\n",
              "      <th>enginetype_ohc</th>\n",
              "      <th>enginetype_ohcf</th>\n",
              "      <th>enginetype_ohcv</th>\n",
              "      <th>enginetype_rotor</th>\n",
              "      <th>cylindernumber_five</th>\n",
              "      <th>cylindernumber_four</th>\n",
              "      <th>cylindernumber_six</th>\n",
              "      <th>cylindernumber_three</th>\n",
              "      <th>cylindernumber_twelve</th>\n",
              "      <th>cylindernumber_two</th>\n",
              "      <th>fuelsystem_2bbl</th>\n",
              "      <th>fuelsystem_4bbl</th>\n",
              "      <th>fuelsystem_idi</th>\n",
              "      <th>fuelsystem_mfi</th>\n",
              "      <th>fuelsystem_mpfi</th>\n",
              "      <th>fuelsystem_spdi</th>\n",
              "      <th>fuelsystem_spfi</th>\n",
              "    </tr>\n",
              "  </thead>\n",
              "  <tbody>\n",
              "    <tr>\n",
              "      <th>0</th>\n",
              "      <td>3</td>\n",
              "      <td>4.484132</td>\n",
              "      <td>5.128715</td>\n",
              "      <td>64.1</td>\n",
              "      <td>3.887730</td>\n",
              "      <td>7.843064</td>\n",
              "      <td>4.867534</td>\n",
              "      <td>0.519071</td>\n",
              "      <td>-1.839377</td>\n",
              "      <td>2.197225</td>\n",
              "      <td>4.709530</td>\n",
              "      <td>-0.262960</td>\n",
              "      <td>3.044522</td>\n",
              "      <td>3.295837</td>\n",
              "      <td>9.510075</td>\n",
              "      <td>1</td>\n",
              "      <td>0</td>\n",
              "      <td>1</td>\n",
              "      <td>0</td>\n",
              "      <td>0</td>\n",
              "      <td>0</td>\n",
              "      <td>0</td>\n",
              "      <td>0</td>\n",
              "      <td>1</td>\n",
              "      <td>0</td>\n",
              "      <td>0</td>\n",
              "      <td>0</td>\n",
              "      <td>0</td>\n",
              "      <td>0</td>\n",
              "      <td>0</td>\n",
              "      <td>0</td>\n",
              "      <td>0</td>\n",
              "      <td>1</td>\n",
              "      <td>0</td>\n",
              "      <td>0</td>\n",
              "      <td>0</td>\n",
              "      <td>0</td>\n",
              "      <td>0</td>\n",
              "      <td>0</td>\n",
              "      <td>0</td>\n",
              "      <td>0</td>\n",
              "      <td>1</td>\n",
              "      <td>0</td>\n",
              "      <td>0</td>\n",
              "    </tr>\n",
              "    <tr>\n",
              "      <th>1</th>\n",
              "      <td>3</td>\n",
              "      <td>4.484132</td>\n",
              "      <td>5.128715</td>\n",
              "      <td>64.1</td>\n",
              "      <td>3.887730</td>\n",
              "      <td>7.843064</td>\n",
              "      <td>4.867534</td>\n",
              "      <td>0.519071</td>\n",
              "      <td>-1.839377</td>\n",
              "      <td>2.197225</td>\n",
              "      <td>4.709530</td>\n",
              "      <td>-0.262960</td>\n",
              "      <td>3.044522</td>\n",
              "      <td>3.295837</td>\n",
              "      <td>9.711116</td>\n",
              "      <td>1</td>\n",
              "      <td>0</td>\n",
              "      <td>1</td>\n",
              "      <td>0</td>\n",
              "      <td>0</td>\n",
              "      <td>0</td>\n",
              "      <td>0</td>\n",
              "      <td>0</td>\n",
              "      <td>1</td>\n",
              "      <td>0</td>\n",
              "      <td>0</td>\n",
              "      <td>0</td>\n",
              "      <td>0</td>\n",
              "      <td>0</td>\n",
              "      <td>0</td>\n",
              "      <td>0</td>\n",
              "      <td>0</td>\n",
              "      <td>1</td>\n",
              "      <td>0</td>\n",
              "      <td>0</td>\n",
              "      <td>0</td>\n",
              "      <td>0</td>\n",
              "      <td>0</td>\n",
              "      <td>0</td>\n",
              "      <td>0</td>\n",
              "      <td>0</td>\n",
              "      <td>1</td>\n",
              "      <td>0</td>\n",
              "      <td>0</td>\n",
              "    </tr>\n",
              "    <tr>\n",
              "      <th>2</th>\n",
              "      <td>1</td>\n",
              "      <td>4.548600</td>\n",
              "      <td>5.142832</td>\n",
              "      <td>65.5</td>\n",
              "      <td>3.958907</td>\n",
              "      <td>7.945555</td>\n",
              "      <td>5.023881</td>\n",
              "      <td>-2.404880</td>\n",
              "      <td>0.685946</td>\n",
              "      <td>2.197225</td>\n",
              "      <td>5.036953</td>\n",
              "      <td>-0.262960</td>\n",
              "      <td>2.944439</td>\n",
              "      <td>3.258097</td>\n",
              "      <td>9.711116</td>\n",
              "      <td>1</td>\n",
              "      <td>0</td>\n",
              "      <td>1</td>\n",
              "      <td>0</td>\n",
              "      <td>1</td>\n",
              "      <td>0</td>\n",
              "      <td>0</td>\n",
              "      <td>0</td>\n",
              "      <td>1</td>\n",
              "      <td>0</td>\n",
              "      <td>0</td>\n",
              "      <td>0</td>\n",
              "      <td>0</td>\n",
              "      <td>0</td>\n",
              "      <td>1</td>\n",
              "      <td>0</td>\n",
              "      <td>0</td>\n",
              "      <td>0</td>\n",
              "      <td>1</td>\n",
              "      <td>0</td>\n",
              "      <td>0</td>\n",
              "      <td>0</td>\n",
              "      <td>0</td>\n",
              "      <td>0</td>\n",
              "      <td>0</td>\n",
              "      <td>0</td>\n",
              "      <td>1</td>\n",
              "      <td>0</td>\n",
              "      <td>0</td>\n",
              "    </tr>\n",
              "    <tr>\n",
              "      <th>3</th>\n",
              "      <td>2</td>\n",
              "      <td>4.603168</td>\n",
              "      <td>5.173887</td>\n",
              "      <td>66.2</td>\n",
              "      <td>3.994524</td>\n",
              "      <td>7.756623</td>\n",
              "      <td>4.691348</td>\n",
              "      <td>-0.517266</td>\n",
              "      <td>0.462183</td>\n",
              "      <td>2.302585</td>\n",
              "      <td>4.624973</td>\n",
              "      <td>0.787855</td>\n",
              "      <td>3.178054</td>\n",
              "      <td>3.401197</td>\n",
              "      <td>9.543235</td>\n",
              "      <td>1</td>\n",
              "      <td>0</td>\n",
              "      <td>0</td>\n",
              "      <td>0</td>\n",
              "      <td>0</td>\n",
              "      <td>1</td>\n",
              "      <td>0</td>\n",
              "      <td>1</td>\n",
              "      <td>0</td>\n",
              "      <td>0</td>\n",
              "      <td>0</td>\n",
              "      <td>0</td>\n",
              "      <td>1</td>\n",
              "      <td>0</td>\n",
              "      <td>0</td>\n",
              "      <td>0</td>\n",
              "      <td>0</td>\n",
              "      <td>1</td>\n",
              "      <td>0</td>\n",
              "      <td>0</td>\n",
              "      <td>0</td>\n",
              "      <td>0</td>\n",
              "      <td>0</td>\n",
              "      <td>0</td>\n",
              "      <td>0</td>\n",
              "      <td>0</td>\n",
              "      <td>1</td>\n",
              "      <td>0</td>\n",
              "      <td>0</td>\n",
              "    </tr>\n",
              "    <tr>\n",
              "      <th>4</th>\n",
              "      <td>2</td>\n",
              "      <td>4.599152</td>\n",
              "      <td>5.173887</td>\n",
              "      <td>66.4</td>\n",
              "      <td>3.994524</td>\n",
              "      <td>7.945910</td>\n",
              "      <td>4.912655</td>\n",
              "      <td>-0.517266</td>\n",
              "      <td>0.462183</td>\n",
              "      <td>2.079442</td>\n",
              "      <td>4.744932</td>\n",
              "      <td>0.787855</td>\n",
              "      <td>2.890372</td>\n",
              "      <td>3.091042</td>\n",
              "      <td>9.767095</td>\n",
              "      <td>1</td>\n",
              "      <td>0</td>\n",
              "      <td>0</td>\n",
              "      <td>0</td>\n",
              "      <td>0</td>\n",
              "      <td>1</td>\n",
              "      <td>0</td>\n",
              "      <td>0</td>\n",
              "      <td>0</td>\n",
              "      <td>0</td>\n",
              "      <td>0</td>\n",
              "      <td>0</td>\n",
              "      <td>1</td>\n",
              "      <td>0</td>\n",
              "      <td>0</td>\n",
              "      <td>0</td>\n",
              "      <td>1</td>\n",
              "      <td>0</td>\n",
              "      <td>0</td>\n",
              "      <td>0</td>\n",
              "      <td>0</td>\n",
              "      <td>0</td>\n",
              "      <td>0</td>\n",
              "      <td>0</td>\n",
              "      <td>0</td>\n",
              "      <td>0</td>\n",
              "      <td>1</td>\n",
              "      <td>0</td>\n",
              "      <td>0</td>\n",
              "    </tr>\n",
              "  </tbody>\n",
              "</table>\n",
              "</div>"
            ],
            "text/plain": [
              "   symboling  wheelbase  ...  fuelsystem_spdi  fuelsystem_spfi\n",
              "0          3   4.484132  ...                0                0\n",
              "1          3   4.484132  ...                0                0\n",
              "2          1   4.548600  ...                0                0\n",
              "3          2   4.603168  ...                0                0\n",
              "4          2   4.599152  ...                0                0\n",
              "\n",
              "[5 rows x 44 columns]"
            ]
          },
          "metadata": {},
          "execution_count": 34
        }
      ]
    },
    {
      "cell_type": "markdown",
      "metadata": {
        "id": "QWxlt6mCVKLZ"
      },
      "source": [
        "## Linear Regression Model\n",
        "Now lets using linear regression to predict the model. As this project is an example by Adryan R A for learning and the model is too small. We wont use for predicting but for analysing and example."
      ]
    },
    {
      "cell_type": "code",
      "metadata": {
        "id": "EEUoSqriRIGH"
      },
      "source": [
        "X = df_transformed.drop(['price'], axis=1)\n",
        "y = df_transformed['price']"
      ],
      "execution_count": 35,
      "outputs": []
    },
    {
      "cell_type": "markdown",
      "metadata": {
        "id": "nS8ZxYiOVciX"
      },
      "source": [
        "**Train Test Split Data**\n",
        "We split the data with 0.1 ratio"
      ]
    },
    {
      "cell_type": "code",
      "metadata": {
        "id": "KfVsoyVJSFqa"
      },
      "source": [
        "from sklearn.model_selection import train_test_split\n",
        "X_train, X_test, y_train, y_test = train_test_split(X, y, test_size=0.1, random_state=42)"
      ],
      "execution_count": 39,
      "outputs": []
    },
    {
      "cell_type": "markdown",
      "metadata": {
        "id": "ZQY7FnQ-VhB-"
      },
      "source": [
        "**Linear Regression**"
      ]
    },
    {
      "cell_type": "code",
      "metadata": {
        "id": "bTN_Dg4kSk5K"
      },
      "source": [
        "from sklearn.linear_model import LinearRegression\n",
        "LR = LinearRegression()\n",
        "model = LR.fit(X_train,y_train)\n",
        "yhat = model.predict(X_test)"
      ],
      "execution_count": 45,
      "outputs": []
    },
    {
      "cell_type": "markdown",
      "metadata": {
        "id": "tCZ7ht-e1CKy"
      },
      "source": [
        "Check the MSE for X_test data"
      ]
    },
    {
      "cell_type": "code",
      "metadata": {
        "colab": {
          "base_uri": "https://localhost:8080/",
          "height": 0
        },
        "id": "VLB9Estp0YLJ",
        "outputId": "80be8406-436c-4c88-a79c-ab79c129f548"
      },
      "source": [
        "from sklearn.metrics import mean_squared_error\n",
        "MSE = mean_squared_error(y_test, yhat)\n",
        "print(MSE)"
      ],
      "execution_count": 46,
      "outputs": [
        {
          "output_type": "stream",
          "name": "stdout",
          "text": [
            "0.014396694842972534\n"
          ]
        }
      ]
    },
    {
      "cell_type": "markdown",
      "metadata": {
        "id": "F66yo9Pb1Gzr"
      },
      "source": [
        "The MSE number is very small so the our model is good enough. lets chech with R^2"
      ]
    },
    {
      "cell_type": "code",
      "metadata": {
        "colab": {
          "base_uri": "https://localhost:8080/",
          "height": 0
        },
        "id": "eBXEmyLe1ObP",
        "outputId": "dd837f01-7582-4fd9-bf42-e7abd330e052"
      },
      "source": [
        "R2 = 1 - MSE/np.var(y_test)\n",
        "print(R2)"
      ],
      "execution_count": 49,
      "outputs": [
        {
          "output_type": "stream",
          "name": "stdout",
          "text": [
            "0.9470702362858439\n"
          ]
        }
      ]
    },
    {
      "cell_type": "markdown",
      "metadata": {
        "id": "3HeMCIqF1ePD"
      },
      "source": [
        "Our model R2 is very high that has 0.94 or 94% covariance in our data can be explained by our model. Lets ttry using statsmodel for t-test our coefficient"
      ]
    },
    {
      "cell_type": "markdown",
      "metadata": {
        "id": "LWBy_RwYVjnK"
      },
      "source": [
        "**Interpreting Coefficient of Linear Regression Model**"
      ]
    },
    {
      "cell_type": "code",
      "metadata": {
        "colab": {
          "base_uri": "https://localhost:8080/"
        },
        "id": "7XVznqETS-d_",
        "outputId": "3e72ef17-79af-46ca-9679-4f385363b005"
      },
      "source": [
        "import statsmodels.api as sm\n",
        "from scipy import stats\n",
        "\n",
        "X2 = sm.add_constant(X)\n",
        "est = sm.OLS(y, X2)\n",
        "est2 = est.fit()\n",
        "print(est2.summary())"
      ],
      "execution_count": null,
      "outputs": [
        {
          "output_type": "stream",
          "name": "stderr",
          "text": [
            "/usr/local/lib/python3.7/dist-packages/statsmodels/tools/_testing.py:19: FutureWarning: pandas.util.testing is deprecated. Use the functions in the public API at pandas.testing instead.\n",
            "  import pandas.util.testing as tm\n"
          ]
        },
        {
          "output_type": "stream",
          "name": "stdout",
          "text": [
            "                            OLS Regression Results                            \n",
            "==============================================================================\n",
            "Dep. Variable:                  price   R-squared:                       0.939\n",
            "Model:                            OLS   Adj. R-squared:                  0.924\n",
            "Method:                 Least Squares   F-statistic:                     61.43\n",
            "Date:                Thu, 11 Nov 2021   Prob (F-statistic):           7.56e-80\n",
            "Time:                        04:02:35   Log-Likelihood:                 137.20\n",
            "No. Observations:                 205   AIC:                            -190.4\n",
            "Df Residuals:                     163   BIC:                            -50.83\n",
            "Df Model:                          41                                         \n",
            "Covariance Type:            nonrobust                                         \n",
            "=========================================================================================\n",
            "                            coef    std err          t      P>|t|      [0.025      0.975]\n",
            "-----------------------------------------------------------------------------------------\n",
            "const                    -0.4119      1.982     -0.208      0.836      -4.326       3.502\n",
            "symboling                 0.0144      0.015      0.949      0.344      -0.016       0.044\n",
            "wheelbase                 0.7353      0.602      1.222      0.223      -0.453       1.923\n",
            "carlength                -0.4280      0.535     -0.800      0.425      -1.485       0.629\n",
            "carwidth                  0.0378      0.015      2.579      0.011       0.009       0.067\n",
            "carheight                -0.2269      0.436     -0.520      0.604      -1.088       0.634\n",
            "curbweight                0.7993      0.296      2.702      0.008       0.215       1.383\n",
            "enginesize                0.1540      0.287      0.537      0.592      -0.413       0.721\n",
            "boreratio                 0.0152      0.030      0.510      0.611      -0.044       0.074\n",
            "stroke                   -0.0583      0.018     -3.152      0.002      -0.095      -0.022\n",
            "compressionratio         -0.0338      0.287     -0.118      0.906      -0.600       0.533\n",
            "horsepower                0.3073      0.174      1.766      0.079      -0.036       0.651\n",
            "peakrpm                   0.0137      0.020      0.675      0.500      -0.026       0.054\n",
            "citympg                  -0.5643      0.262     -2.153      0.033      -1.082      -0.047\n",
            "highwaympg                0.4325      0.261      1.656      0.100      -0.083       0.948\n",
            "fueltype_gas             -0.2863      0.992     -0.289      0.773      -2.244       1.672\n",
            "aspiration_turbo          0.0464      0.061      0.763      0.447      -0.074       0.166\n",
            "doornumber_two           -0.0063      0.037     -0.170      0.865      -0.079       0.067\n",
            "carbody_hardtop          -0.2333      0.085     -2.737      0.007      -0.402      -0.065\n",
            "carbody_hatchback        -0.2272      0.077     -2.961      0.004      -0.379      -0.076\n",
            "carbody_sedan            -0.1402      0.084     -1.669      0.097      -0.306       0.026\n",
            "carbody_wagon            -0.1992      0.092     -2.171      0.031      -0.380      -0.018\n",
            "drivewheel_fwd           -0.0511      0.068     -0.755      0.452      -0.185       0.083\n",
            "drivewheel_rwd            0.0087      0.078      0.111      0.912      -0.145       0.163\n",
            "enginelocation_rear       0.4502      0.152      2.956      0.004       0.149       0.751\n",
            "enginetype_dohcv         -0.5838      0.263     -2.218      0.028      -1.104      -0.064\n",
            "enginetype_l             -0.0834      0.091     -0.916      0.361      -0.263       0.096\n",
            "enginetype_ohc            0.1370      0.057      2.402      0.017       0.024       0.250\n",
            "enginetype_ohcf          -0.0745      0.097     -0.768      0.443      -0.266       0.117\n",
            "enginetype_ohcv          -0.2213      0.079     -2.801      0.006      -0.377      -0.065\n",
            "enginetype_rotor         -0.1702      0.154     -1.108      0.269      -0.473       0.133\n",
            "cylindernumber_five      -0.5036      0.153     -3.295      0.001      -0.805      -0.202\n",
            "cylindernumber_four      -0.5983      0.179     -3.338      0.001      -0.952      -0.244\n",
            "cylindernumber_six       -0.3539      0.128     -2.763      0.006      -0.607      -0.101\n",
            "cylindernumber_three     -0.0239      0.292     -0.082      0.935      -0.601       0.553\n",
            "cylindernumber_twelve    -0.3597      0.232     -1.552      0.123      -0.817       0.098\n",
            "cylindernumber_two       -0.1702      0.154     -1.108      0.269      -0.473       0.133\n",
            "fuelsystem_2bbl          -0.0921      0.058     -1.597      0.112      -0.206       0.022\n",
            "fuelsystem_4bbl          -0.1240      0.177     -0.700      0.485      -0.473       0.226\n",
            "fuelsystem_idi           -0.1256      1.009     -0.125      0.901      -2.117       1.866\n",
            "fuelsystem_mfi           -0.1330      0.166     -0.800      0.425      -0.461       0.195\n",
            "fuelsystem_mpfi          -0.0492      0.065     -0.758      0.450      -0.177       0.079\n",
            "fuelsystem_spdi          -0.1712      0.090     -1.901      0.059      -0.349       0.007\n",
            "fuelsystem_spfi          -0.0929      0.160     -0.581      0.562      -0.409       0.223\n",
            "==============================================================================\n",
            "Omnibus:                        1.100   Durbin-Watson:                   1.386\n",
            "Prob(Omnibus):                  0.577   Jarque-Bera (JB):                0.981\n",
            "Skew:                           0.169   Prob(JB):                        0.612\n",
            "Kurtosis:                       3.005   Cond. No.                     1.00e+16\n",
            "==============================================================================\n",
            "\n",
            "Warnings:\n",
            "[1] Standard Errors assume that the covariance matrix of the errors is correctly specified.\n",
            "[2] The smallest eigenvalue is 9.3e-27. This might indicate that there are\n",
            "strong multicollinearity problems or that the design matrix is singular.\n"
          ]
        }
      ]
    },
    {
      "cell_type": "markdown",
      "metadata": {
        "id": "YH9GRXW6K53i"
      },
      "source": [
        ""
      ]
    },
    {
      "cell_type": "code",
      "metadata": {
        "id": "hiyqkbOvTVaz"
      },
      "source": [
        ""
      ],
      "execution_count": null,
      "outputs": []
    }
  ]
}
