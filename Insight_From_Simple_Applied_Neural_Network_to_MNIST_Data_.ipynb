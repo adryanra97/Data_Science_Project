{
  "nbformat": 4,
  "nbformat_minor": 0,
  "metadata": {
    "colab": {
      "name": "Insight From Simple Applied Neural Network to MNIST Data .ipynb",
      "provenance": []
    },
    "kernelspec": {
      "name": "python3",
      "display_name": "Python 3"
    },
    "language_info": {
      "name": "python"
    },
    "accelerator": "GPU"
  },
  "cells": [
    {
      "cell_type": "markdown",
      "source": [
        "# Insight From Simple Applied Neural Network to MNIST Data "
      ],
      "metadata": {
        "id": "As4NMyRBv_BI"
      }
    },
    {
      "cell_type": "code",
      "execution_count": 1,
      "metadata": {
        "id": "DpC4CHEbvy0w"
      },
      "outputs": [],
      "source": [
        "import numpy as np\n",
        "import tensorflow as tf"
      ]
    },
    {
      "cell_type": "markdown",
      "source": [
        "Creating simple data to learn with neural network"
      ],
      "metadata": {
        "id": "A3qQYZQbpHfk"
      }
    },
    {
      "cell_type": "code",
      "source": [
        "X = np.array([-20, -5, 1, 5, 20, 55, 76], dtype=float)\n",
        "y = np.array([-10, 35, 53, 65, 110, 215, 278], dtype=float)"
      ],
      "metadata": {
        "id": "JsrPI6Bbv-s2"
      },
      "execution_count": 2,
      "outputs": []
    },
    {
      "cell_type": "markdown",
      "source": [
        "Simple NN with 1 layer. We will create 2 model that has the same function but different way to code"
      ],
      "metadata": {
        "id": "QHVhaJE6pLF2"
      }
    },
    {
      "cell_type": "code",
      "source": [
        "layer_1 = tf.keras.layers.Dense(1, input_shape=[1])\n",
        "\n",
        "model = tf.keras.Sequential([layer_1])"
      ],
      "metadata": {
        "id": "dgHSepRgo1aI"
      },
      "execution_count": 3,
      "outputs": []
    },
    {
      "cell_type": "code",
      "source": [
        "model = tf.keras.Sequential([\n",
        "          tf.keras.layers.Dense(1, input_shape = [1])\n",
        "])"
      ],
      "metadata": {
        "id": "yGKppqXopYSK"
      },
      "execution_count": 4,
      "outputs": []
    },
    {
      "cell_type": "markdown",
      "source": [
        "Then we compile the model and fit the data"
      ],
      "metadata": {
        "id": "Yevs93cSqXav"
      }
    },
    {
      "cell_type": "code",
      "source": [
        "learning_rate = 0.1\n",
        "model.compile(loss = 'mean_squared_error',\n",
        "              optimizer = tf.keras.optimizers.Adam(learning_rate))"
      ],
      "metadata": {
        "id": "WXgoheIJp1wU"
      },
      "execution_count": 5,
      "outputs": []
    },
    {
      "cell_type": "code",
      "source": [
        "history = model.fit(X, y, epochs=1000, verbose=False)"
      ],
      "metadata": {
        "id": "yYVy7Qn7qDK2"
      },
      "execution_count": 6,
      "outputs": []
    },
    {
      "cell_type": "markdown",
      "source": [
        "Lets visualize our mean squared error value for each epochs"
      ],
      "metadata": {
        "id": "4I-gjYvkqc2Y"
      }
    },
    {
      "cell_type": "code",
      "source": [
        "import matplotlib.pyplot as plt\n",
        "\n",
        "\n",
        "def visualize(model, value = 'loss'):\n",
        "  fig = plt.figure(figsize=(12,8))\n",
        "  plt.xlabel('Epochs')\n",
        "  plt.ylabel(value)\n",
        "  plt.plot(model.history[value])\n",
        "  plt.show()\n",
        "  return"
      ],
      "metadata": {
        "id": "cmVZmsoZqcLu"
      },
      "execution_count": 40,
      "outputs": []
    },
    {
      "cell_type": "code",
      "source": [
        "visualize(history)"
      ],
      "metadata": {
        "colab": {
          "base_uri": "https://localhost:8080/",
          "height": 497
        },
        "id": "oC4U0CIdzjWy",
        "outputId": "bcb6357f-209e-4fe1-8699-c9345515ea5b"
      },
      "execution_count": 8,
      "outputs": [
        {
          "output_type": "display_data",
          "data": {
            "image/png": "[encoded data removed]",
            "text/plain": [
              "<Figure size 864x576 with 1 Axes>"
            ]
          },
          "metadata": {
            "needs_background": "light"
          }
        }
      ]
    },
    {
      "cell_type": "markdown",
      "source": [
        "You can see that as our epochs increasing the value of MSE decrease. But the rate of decrease is lower for each increasing epochs that the gradient of the slope is almost 0. Then we can look at the weight and bias the model has created."
      ],
      "metadata": {
        "id": "EzPTztnpq1Ch"
      }
    },
    {
      "cell_type": "code",
      "source": [
        "model.get_weights()"
      ],
      "metadata": {
        "colab": {
          "base_uri": "https://localhost:8080/"
        },
        "id": "iKn6ELX8qOMw",
        "outputId": "1732d1cb-268e-466c-c443-c4a93174e1a8"
      },
      "execution_count": 9,
      "outputs": [
        {
          "output_type": "execute_result",
          "data": {
            "text/plain": [
              "[array([[3.0293145]], dtype=float32), array([47.871586], dtype=float32)]"
            ]
          },
          "metadata": {},
          "execution_count": 9
        }
      ]
    },
    {
      "cell_type": "markdown",
      "source": [
        "The model we created is good. The real function of the data is 3x + 50 and our model weight and bias almost get the same result as the real function.\n",
        "\n",
        "The model we created before is simple.\n",
        "The model has 1 neuron and we declare it as N_1, the input data is X1. Because we only have 1 layer, N_1 is the same as output. so N_1 = y.\n",
        "\n",
        "For more detail I recommend check Andrew NG Deeplearning in Coursera or The complete machine learning course with python in udemy by codestars.\n",
        "\n",
        "\n",
        "```\n",
        "N_1 = X1 * W1 + b1\n"
      ],
      "metadata": {
        "id": "hQQkUa9PrYPB"
      }
    },
    {
      "cell_type": "markdown",
      "source": [
        "What happen if we have 3 input X1, X2, X3 then we have 1 hidden layer and 1 output layer?\n",
        "\n",
        "We can define that the model has 3 layers, input, hidden, and output.\n",
        "\n",
        "```\n",
        "Input Layer : X1, X2, X3\n",
        "Hidden Layer : N_1\n",
        "Output Layer : N_2\n",
        "```\n",
        "Then we have function like this. Note: No activation in the model yet\n",
        "\n",
        "```\n",
        "N_1 = X1 * W11 + X2 * W12 + X3 * W13 + b1\n",
        "N_2 = N_1 * W21 + b2\n",
        "```\n",
        "Deeplearning is fun to learn <3\n",
        "\n",
        "## Lets Make Neural Network Model with MNIST Data\n",
        "\n",
        "\n"
      ],
      "metadata": {
        "id": "Onmb33gztI7H"
      }
    },
    {
      "cell_type": "code",
      "source": [
        "mnist = tf.keras.datasets.mnist"
      ],
      "metadata": {
        "id": "-V58CIo0rSXV"
      },
      "execution_count": 10,
      "outputs": []
    },
    {
      "cell_type": "code",
      "source": [
        "(X_train, y_train), (X_test, y_test) = mnist.load_data()"
      ],
      "metadata": {
        "colab": {
          "base_uri": "https://localhost:8080/"
        },
        "id": "_VcwHTDTujOv",
        "outputId": "d18f4307-948b-4947-b0f1-b5762e7552e3"
      },
      "execution_count": 11,
      "outputs": [
        {
          "output_type": "stream",
          "name": "stdout",
          "text": [
            "Downloading data from https://storage.googleapis.com/tensorflow/tf-keras-datasets/mnist.npz\n",
            "11493376/11490434 [==============================] - 0s 0us/step\n",
            "11501568/11490434 [==============================] - 0s 0us/step\n"
          ]
        }
      ]
    },
    {
      "cell_type": "code",
      "source": [
        "print(X_train.shape)\n",
        "print(y_train.shape)\n",
        "print(X_test.shape)\n",
        "print(y_test.shape)"
      ],
      "metadata": {
        "colab": {
          "base_uri": "https://localhost:8080/"
        },
        "id": "z-yNOvomuoPq",
        "outputId": "0cb529d7-3254-418b-9317-01d64ee79d68"
      },
      "execution_count": 12,
      "outputs": [
        {
          "output_type": "stream",
          "name": "stdout",
          "text": [
            "(60000, 28, 28)\n",
            "(60000,)\n",
            "(10000, 28, 28)\n",
            "(10000,)\n"
          ]
        }
      ]
    },
    {
      "cell_type": "markdown",
      "source": [
        "MNIST Data has 60000 training data and 10000 testing data. Each data is an image with dimension 28x28. We will look at one of the data below"
      ],
      "metadata": {
        "id": "B2ZT4ZnruzNc"
      }
    },
    {
      "cell_type": "code",
      "source": [
        "plt.imshow(X_train[0], cmap='Greys');"
      ],
      "metadata": {
        "colab": {
          "base_uri": "https://localhost:8080/",
          "height": 265
        },
        "id": "sjuaT23wuv0D",
        "outputId": "81966c05-1141-43ed-8cd8-089cd64054e1"
      },
      "execution_count": 13,
      "outputs": [
        {
          "output_type": "display_data",
          "data": {
            "image/png": "[encoded data removed]",
            "text/plain": [
              "<Figure size 432x288 with 1 Axes>"
            ]
          },
          "metadata": {
            "needs_background": "light"
          }
        }
      ]
    },
    {
      "cell_type": "code",
      "source": [
        "print(y_train[0])"
      ],
      "metadata": {
        "colab": {
          "base_uri": "https://localhost:8080/"
        },
        "id": "yPpdZ_9JvCsS",
        "outputId": "846178a9-0132-4652-f72c-6ded1ae06796"
      },
      "execution_count": 14,
      "outputs": [
        {
          "output_type": "stream",
          "name": "stdout",
          "text": [
            "5\n"
          ]
        }
      ]
    },
    {
      "cell_type": "code",
      "source": [
        "X_train, X_test = X_train / 255, X_test / 255"
      ],
      "metadata": {
        "id": "vyYj1VETvIIZ"
      },
      "execution_count": 15,
      "outputs": []
    },
    {
      "cell_type": "markdown",
      "source": [
        "Model 1"
      ],
      "metadata": {
        "id": "S7cnEAkqvar1"
      }
    },
    {
      "cell_type": "code",
      "source": [
        "model = tf.keras.Sequential([\n",
        "    tf.keras.layers.Flatten(input_shape=(28,28)),\n",
        "    tf.keras.layers.Dense(512, activation = 'relu'),\n",
        "    tf.keras.layers.Dense(10,activation='softmax')\n",
        "])"
      ],
      "metadata": {
        "id": "Ey5BghoLvQR_"
      },
      "execution_count": 16,
      "outputs": []
    },
    {
      "cell_type": "markdown",
      "source": [
        "Flatten reshape the dimension of the image to 1 dimension. The activation take the value of that neuron to another function. For example relu is the simple model."
      ],
      "metadata": {
        "id": "pxyZk4NMwSmY"
      }
    },
    {
      "cell_type": "code",
      "source": [
        "model.compile(optimizer='rmsprop', loss='sparse_categorical_crossentropy',\n",
        "              metrics=['accuracy'])\n",
        "model.summary()"
      ],
      "metadata": {
        "colab": {
          "base_uri": "https://localhost:8080/"
        },
        "id": "GyaUB0WGv0MS",
        "outputId": "4dfdb5bc-34c5-4f4f-a486-af56f743d359"
      },
      "execution_count": 17,
      "outputs": [
        {
          "output_type": "stream",
          "name": "stdout",
          "text": [
            "Model: \"sequential_2\"\n",
            "_________________________________________________________________\n",
            " Layer (type)                Output Shape              Param #   \n",
            "=================================================================\n",
            " flatten (Flatten)           (None, 784)               0         \n",
            "                                                                 \n",
            " dense_2 (Dense)             (None, 512)               401920    \n",
            "                                                                 \n",
            " dense_3 (Dense)             (None, 10)                5130      \n",
            "                                                                 \n",
            "=================================================================\n",
            "Total params: 407,050\n",
            "Trainable params: 407,050\n",
            "Non-trainable params: 0\n",
            "_________________________________________________________________\n"
          ]
        }
      ]
    },
    {
      "cell_type": "markdown",
      "source": [
        "In dense_4 layer,\n",
        "\n",
        "we can say that dense_4 = max(0,sigma 1>i(N_i * Wi + b). The value of N_1 is equal to that value if value is bigger than 0, else the value become 0.\n",
        "You can search it on google for more detail."
      ],
      "metadata": {
        "id": "dA423-Cpx7hy"
      }
    },
    {
      "cell_type": "markdown",
      "source": [
        "Note: I run this on GPU"
      ],
      "metadata": {
        "id": "bnaTJBHuwoh_"
      }
    },
    {
      "cell_type": "code",
      "source": [
        "history = model.fit(X_train, y_train, epochs = 25, batch_size = 256)"
      ],
      "metadata": {
        "colab": {
          "base_uri": "https://localhost:8080/"
        },
        "id": "DHgIFQFDwOgy",
        "outputId": "2e6e8c71-a5b1-4365-d383-5b8760a3b1ac"
      },
      "execution_count": 18,
      "outputs": [
        {
          "output_type": "stream",
          "name": "stdout",
          "text": [
            "Epoch 1/25\n",
            "235/235 [==============================] - 1s 3ms/step - loss: 0.3137 - accuracy: 0.9109\n",
            "Epoch 2/25\n",
            "235/235 [==============================] - 1s 3ms/step - loss: 0.1296 - accuracy: 0.9626\n",
            "Epoch 3/25\n",
            "235/235 [==============================] - 1s 3ms/step - loss: 0.0860 - accuracy: 0.9746\n",
            "Epoch 4/25\n",
            "235/235 [==============================] - 1s 3ms/step - loss: 0.0631 - accuracy: 0.9821\n",
            "Epoch 5/25\n",
            "235/235 [==============================] - 1s 3ms/step - loss: 0.0478 - accuracy: 0.9864\n",
            "Epoch 6/25\n",
            "235/235 [==============================] - 1s 3ms/step - loss: 0.0368 - accuracy: 0.9895\n",
            "Epoch 7/25\n",
            "235/235 [==============================] - 1s 3ms/step - loss: 0.0286 - accuracy: 0.9921\n",
            "Epoch 8/25\n",
            "235/235 [==============================] - 1s 3ms/step - loss: 0.0227 - accuracy: 0.9936\n",
            "Epoch 9/25\n",
            "235/235 [==============================] - 1s 3ms/step - loss: 0.0178 - accuracy: 0.9952\n",
            "Epoch 10/25\n",
            "235/235 [==============================] - 1s 3ms/step - loss: 0.0138 - accuracy: 0.9965\n",
            "Epoch 11/25\n",
            "235/235 [==============================] - 1s 3ms/step - loss: 0.0109 - accuracy: 0.9971\n",
            "Epoch 12/25\n",
            "235/235 [==============================] - 1s 3ms/step - loss: 0.0089 - accuracy: 0.9979\n",
            "Epoch 13/25\n",
            "235/235 [==============================] - 1s 3ms/step - loss: 0.0067 - accuracy: 0.9986\n",
            "Epoch 14/25\n",
            "235/235 [==============================] - 1s 3ms/step - loss: 0.0054 - accuracy: 0.9987\n",
            "Epoch 15/25\n",
            "235/235 [==============================] - 1s 3ms/step - loss: 0.0042 - accuracy: 0.9989\n",
            "Epoch 16/25\n",
            "235/235 [==============================] - 1s 3ms/step - loss: 0.0033 - accuracy: 0.9993\n",
            "Epoch 17/25\n",
            "235/235 [==============================] - 1s 3ms/step - loss: 0.0024 - accuracy: 0.9995\n",
            "Epoch 18/25\n",
            "235/235 [==============================] - 1s 3ms/step - loss: 0.0021 - accuracy: 0.9994\n",
            "Epoch 19/25\n",
            "235/235 [==============================] - 1s 3ms/step - loss: 0.0016 - accuracy: 0.9997\n",
            "Epoch 20/25\n",
            "235/235 [==============================] - 1s 3ms/step - loss: 0.0012 - accuracy: 0.9998\n",
            "Epoch 21/25\n",
            "235/235 [==============================] - 1s 3ms/step - loss: 0.0012 - accuracy: 0.9998\n",
            "Epoch 22/25\n",
            "235/235 [==============================] - 1s 3ms/step - loss: 9.4709e-04 - accuracy: 0.9998\n",
            "Epoch 23/25\n",
            "235/235 [==============================] - 1s 3ms/step - loss: 6.6720e-04 - accuracy: 0.9999\n",
            "Epoch 24/25\n",
            "235/235 [==============================] - 1s 3ms/step - loss: 5.8630e-04 - accuracy: 0.9999\n",
            "Epoch 25/25\n",
            "235/235 [==============================] - 1s 3ms/step - loss: 5.3920e-04 - accuracy: 0.9998\n"
          ]
        }
      ]
    },
    {
      "cell_type": "markdown",
      "source": [
        "The model actualy get the 99.99% of accuracy in epochs 23. Later we will use some method that makes the model stop early if we got the targeted number. Lets visualize the model accuracy below"
      ],
      "metadata": {
        "id": "b_ePiG4IxFQP"
      }
    },
    {
      "cell_type": "code",
      "source": [
        "visualize(history, value = 'accuracy')"
      ],
      "metadata": {
        "colab": {
          "base_uri": "https://localhost:8080/",
          "height": 497
        },
        "id": "GrhQwdCdwj8i",
        "outputId": "ee46bf02-0f24-45a3-a37a-08d78ba23ca4"
      },
      "execution_count": 19,
      "outputs": [
        {
          "output_type": "display_data",
          "data": {
            "image/png": "[encoded data removed]",
            "text/plain": [
              "<Figure size 864x576 with 1 Axes>"
            ]
          },
          "metadata": {
            "needs_background": "light"
          }
        }
      ]
    },
    {
      "cell_type": "markdown",
      "source": [
        "Lets see the test result"
      ],
      "metadata": {
        "id": "54Y42lKh0ecl"
      }
    },
    {
      "cell_type": "code",
      "source": [
        "def eval_model(model, X_test=X_test, y_test=y_test):\n",
        "  eval_loss, eval_acc = model.evaluate(X_test, y_test)\n",
        "  print(\"Test Result\\t:\\n\")\n",
        "  print(\"Eval Accuracy\\t: {0:.2f}%\".format(eval_acc*100))\n",
        "  print(\"Eval loss\\t: {0:.4f}\".format(eval_loss))"
      ],
      "metadata": {
        "id": "JciMU2nIz20e"
      },
      "execution_count": 20,
      "outputs": []
    },
    {
      "cell_type": "code",
      "source": [
        "eval_model(model)"
      ],
      "metadata": {
        "colab": {
          "base_uri": "https://localhost:8080/"
        },
        "id": "uyhegRPg0aG9",
        "outputId": "7bce7174-02db-4af0-f9e0-5bae00d5c2b1"
      },
      "execution_count": 21,
      "outputs": [
        {
          "output_type": "stream",
          "name": "stdout",
          "text": [
            "313/313 [==============================] - 1s 2ms/step - loss: 0.0879 - accuracy: 0.9837\n",
            "Test Result\t:\n",
            "\n",
            "Eval Accuracy\t: 98.37%\n",
            "Eval loss\t: 0.0879\n"
          ]
        }
      ]
    },
    {
      "cell_type": "markdown",
      "source": [
        "Model 2"
      ],
      "metadata": {
        "id": "Br55ewPSDPVa"
      }
    },
    {
      "cell_type": "code",
      "source": [
        "model2 = tf.keras.models.Sequential([\n",
        "      tf.keras.layers.Flatten(input_shape=(28,28)),\n",
        "      tf.keras.layers.Dense(512, activation='relu'),\n",
        "      tf.keras.layers.Dropout(0.2),\n",
        "      tf.keras.layers.Dense(10, activation='softmax')\n",
        "])\n",
        "model2.compile(optimizer='adam',\n",
        "              loss = 'sparse_categorical_crossentropy',\n",
        "              metrics=['accuracy'])\n",
        "\n",
        "model.summary()"
      ],
      "metadata": {
        "colab": {
          "base_uri": "https://localhost:8080/"
        },
        "id": "-PxE48RS0-Fb",
        "outputId": "30103b98-c53c-462f-ed3e-502bcbaf857b"
      },
      "execution_count": 33,
      "outputs": [
        {
          "output_type": "stream",
          "name": "stdout",
          "text": [
            "Model: \"sequential_2\"\n",
            "_________________________________________________________________\n",
            " Layer (type)                Output Shape              Param #   \n",
            "=================================================================\n",
            " flatten (Flatten)           (None, 784)               0         \n",
            "                                                                 \n",
            " dense_2 (Dense)             (None, 512)               401920    \n",
            "                                                                 \n",
            " dense_3 (Dense)             (None, 10)                5130      \n",
            "                                                                 \n",
            "=================================================================\n",
            "Total params: 407,050\n",
            "Trainable params: 407,050\n",
            "Non-trainable params: 0\n",
            "_________________________________________________________________\n"
          ]
        }
      ]
    },
    {
      "cell_type": "code",
      "source": [
        "history = model2.fit(X_train, y_train,\n",
        "                    epochs = 25,\n",
        "                    batch_size = 256)"
      ],
      "metadata": {
        "colab": {
          "base_uri": "https://localhost:8080/"
        },
        "id": "OyjpqJEkDqcn",
        "outputId": "b17c3a22-b268-4835-852e-d75eb8b02a18"
      },
      "execution_count": 34,
      "outputs": [
        {
          "output_type": "stream",
          "name": "stdout",
          "text": [
            "Epoch 1/25\n",
            "235/235 [==============================] - 1s 3ms/step - loss: 0.3393 - accuracy: 0.9047\n",
            "Epoch 2/25\n",
            "235/235 [==============================] - 1s 3ms/step - loss: 0.1479 - accuracy: 0.9571\n",
            "Epoch 3/25\n",
            "235/235 [==============================] - 1s 3ms/step - loss: 0.1040 - accuracy: 0.9702\n",
            "Epoch 4/25\n",
            "235/235 [==============================] - 1s 3ms/step - loss: 0.0803 - accuracy: 0.9770\n",
            "Epoch 5/25\n",
            "235/235 [==============================] - 1s 3ms/step - loss: 0.0642 - accuracy: 0.9811\n",
            "Epoch 6/25\n",
            "235/235 [==============================] - 1s 3ms/step - loss: 0.0518 - accuracy: 0.9845\n",
            "Epoch 7/25\n",
            "235/235 [==============================] - 1s 3ms/step - loss: 0.0442 - accuracy: 0.9869\n",
            "Epoch 8/25\n",
            "235/235 [==============================] - 1s 3ms/step - loss: 0.0371 - accuracy: 0.9897\n",
            "Epoch 9/25\n",
            "235/235 [==============================] - 1s 3ms/step - loss: 0.0314 - accuracy: 0.9910\n",
            "Epoch 10/25\n",
            "235/235 [==============================] - 1s 3ms/step - loss: 0.0278 - accuracy: 0.9919\n",
            "Epoch 11/25\n",
            "235/235 [==============================] - 1s 3ms/step - loss: 0.0232 - accuracy: 0.9937\n",
            "Epoch 12/25\n",
            "235/235 [==============================] - 1s 3ms/step - loss: 0.0198 - accuracy: 0.9946\n",
            "Epoch 13/25\n",
            "235/235 [==============================] - 1s 3ms/step - loss: 0.0180 - accuracy: 0.9948\n",
            "Epoch 14/25\n",
            "235/235 [==============================] - 1s 3ms/step - loss: 0.0151 - accuracy: 0.9957\n",
            "Epoch 15/25\n",
            "235/235 [==============================] - 1s 3ms/step - loss: 0.0154 - accuracy: 0.9955\n",
            "Epoch 16/25\n",
            "235/235 [==============================] - 1s 3ms/step - loss: 0.0129 - accuracy: 0.9964\n",
            "Epoch 17/25\n",
            "235/235 [==============================] - 1s 3ms/step - loss: 0.0115 - accuracy: 0.9968\n",
            "Epoch 18/25\n",
            "235/235 [==============================] - 1s 3ms/step - loss: 0.0108 - accuracy: 0.9972\n",
            "Epoch 19/25\n",
            "235/235 [==============================] - 1s 3ms/step - loss: 0.0089 - accuracy: 0.9977\n",
            "Epoch 20/25\n",
            "235/235 [==============================] - 1s 3ms/step - loss: 0.0084 - accuracy: 0.9979\n",
            "Epoch 21/25\n",
            "235/235 [==============================] - 1s 3ms/step - loss: 0.0072 - accuracy: 0.9981\n",
            "Epoch 22/25\n",
            "235/235 [==============================] - 1s 3ms/step - loss: 0.0079 - accuracy: 0.9979\n",
            "Epoch 23/25\n",
            "235/235 [==============================] - 1s 3ms/step - loss: 0.0074 - accuracy: 0.9980\n",
            "Epoch 24/25\n",
            "235/235 [==============================] - 1s 3ms/step - loss: 0.0066 - accuracy: 0.9982\n",
            "Epoch 25/25\n",
            "235/235 [==============================] - 1s 3ms/step - loss: 0.0079 - accuracy: 0.9977\n"
          ]
        }
      ]
    },
    {
      "cell_type": "code",
      "source": [
        "visualize(history, 'accuracy')"
      ],
      "metadata": {
        "colab": {
          "base_uri": "https://localhost:8080/",
          "height": 497
        },
        "id": "v85wsI19DwYX",
        "outputId": "90cbc030-4bef-4a3b-80ac-b9ecc3a4cc50"
      },
      "execution_count": 35,
      "outputs": [
        {
          "output_type": "display_data",
          "data": {
            "image/png": "[encoded data removed]",
            "text/plain": [
              "<Figure size 864x576 with 1 Axes>"
            ]
          },
          "metadata": {
            "needs_background": "light"
          }
        }
      ]
    },
    {
      "cell_type": "code",
      "source": [
        "eval_model(model2)"
      ],
      "metadata": {
        "colab": {
          "base_uri": "https://localhost:8080/"
        },
        "id": "R5iNxocTEIhJ",
        "outputId": "ef66830f-675d-4b70-c031-a1f0814e59ce"
      },
      "execution_count": 36,
      "outputs": [
        {
          "output_type": "stream",
          "name": "stdout",
          "text": [
            "313/313 [==============================] - 1s 2ms/step - loss: 0.0608 - accuracy: 0.9833\n",
            "Test Result\t:\n",
            "\n",
            "Eval Accuracy\t: 98.33%\n",
            "Eval loss\t: 0.0608\n"
          ]
        }
      ]
    },
    {
      "cell_type": "markdown",
      "source": [
        "If you look at the both model. Model1 have greater accuracy but if you compare the different value between training and test in model2 actually smaller than the model1. Because we put dropout in the model. You can search it for more detail. But dropout prevent overfit by deleting some neuron. So the different between training and testing of the model is smaller than the model without dropout that can makes overfit to the training data.\n",
        "\n",
        "### Neural Network with Validation Data"
      ],
      "metadata": {
        "id": "kGwNgFPbEztf"
      }
    },
    {
      "cell_type": "code",
      "source": [
        "model2 = tf.keras.models.Sequential([\n",
        "      tf.keras.layers.Flatten(input_shape=(28,28)),\n",
        "      tf.keras.layers.Dense(512, activation='relu'),\n",
        "      tf.keras.layers.Dropout(0.2),\n",
        "      tf.keras.layers.Dense(10, activation='softmax')\n",
        "])\n",
        "model2.compile(optimizer='adam',\n",
        "              loss = 'sparse_categorical_crossentropy',\n",
        "              metrics=['accuracy'])\n",
        "\n",
        "model.summary()\n",
        "\n",
        "history = model2.fit(X_train, y_train,\n",
        "                    epochs = 25,\n",
        "                    batch_size = 256,\n",
        "                    validation_data=(X_test, y_test))"
      ],
      "metadata": {
        "colab": {
          "base_uri": "https://localhost:8080/"
        },
        "id": "-1xnMcmwEP7w",
        "outputId": "417ac97a-a7f4-4e1f-fd35-bf848394073c"
      },
      "execution_count": 37,
      "outputs": [
        {
          "output_type": "stream",
          "name": "stdout",
          "text": [
            "Model: \"sequential_2\"\n",
            "_________________________________________________________________\n",
            " Layer (type)                Output Shape              Param #   \n",
            "=================================================================\n",
            " flatten (Flatten)           (None, 784)               0         \n",
            "                                                                 \n",
            " dense_2 (Dense)             (None, 512)               401920    \n",
            "                                                                 \n",
            " dense_3 (Dense)             (None, 10)                5130      \n",
            "                                                                 \n",
            "=================================================================\n",
            "Total params: 407,050\n",
            "Trainable params: 407,050\n",
            "Non-trainable params: 0\n",
            "_________________________________________________________________\n",
            "Epoch 1/25\n",
            "235/235 [==============================] - 1s 4ms/step - loss: 0.3446 - accuracy: 0.9021 - val_loss: 0.1660 - val_accuracy: 0.9508\n",
            "Epoch 2/25\n",
            "235/235 [==============================] - 1s 4ms/step - loss: 0.1480 - accuracy: 0.9573 - val_loss: 0.1145 - val_accuracy: 0.9666\n",
            "Epoch 3/25\n",
            "235/235 [==============================] - 1s 4ms/step - loss: 0.1030 - accuracy: 0.9705 - val_loss: 0.0928 - val_accuracy: 0.9713\n",
            "Epoch 4/25\n",
            "235/235 [==============================] - 1s 4ms/step - loss: 0.0797 - accuracy: 0.9772 - val_loss: 0.0801 - val_accuracy: 0.9767\n",
            "Epoch 5/25\n",
            "235/235 [==============================] - 1s 4ms/step - loss: 0.0622 - accuracy: 0.9822 - val_loss: 0.0718 - val_accuracy: 0.9770\n",
            "Epoch 6/25\n",
            "235/235 [==============================] - 1s 3ms/step - loss: 0.0514 - accuracy: 0.9847 - val_loss: 0.0739 - val_accuracy: 0.9765\n",
            "Epoch 7/25\n",
            "235/235 [==============================] - 1s 3ms/step - loss: 0.0436 - accuracy: 0.9872 - val_loss: 0.0662 - val_accuracy: 0.9788\n",
            "Epoch 8/25\n",
            "235/235 [==============================] - 1s 3ms/step - loss: 0.0371 - accuracy: 0.9892 - val_loss: 0.0597 - val_accuracy: 0.9821\n",
            "Epoch 9/25\n",
            "235/235 [==============================] - 1s 4ms/step - loss: 0.0311 - accuracy: 0.9911 - val_loss: 0.0599 - val_accuracy: 0.9809\n",
            "Epoch 10/25\n",
            "235/235 [==============================] - 1s 3ms/step - loss: 0.0261 - accuracy: 0.9926 - val_loss: 0.0607 - val_accuracy: 0.9813\n",
            "Epoch 11/25\n",
            "235/235 [==============================] - 1s 3ms/step - loss: 0.0245 - accuracy: 0.9928 - val_loss: 0.0596 - val_accuracy: 0.9815\n",
            "Epoch 12/25\n",
            "235/235 [==============================] - 1s 4ms/step - loss: 0.0212 - accuracy: 0.9940 - val_loss: 0.0573 - val_accuracy: 0.9826\n",
            "Epoch 13/25\n",
            "235/235 [==============================] - 1s 3ms/step - loss: 0.0177 - accuracy: 0.9954 - val_loss: 0.0549 - val_accuracy: 0.9816\n",
            "Epoch 14/25\n",
            "235/235 [==============================] - 1s 3ms/step - loss: 0.0152 - accuracy: 0.9959 - val_loss: 0.0624 - val_accuracy: 0.9811\n",
            "Epoch 15/25\n",
            "235/235 [==============================] - 1s 4ms/step - loss: 0.0142 - accuracy: 0.9961 - val_loss: 0.0576 - val_accuracy: 0.9828\n",
            "Epoch 16/25\n",
            "235/235 [==============================] - 1s 3ms/step - loss: 0.0124 - accuracy: 0.9966 - val_loss: 0.0592 - val_accuracy: 0.9823\n",
            "Epoch 17/25\n",
            "235/235 [==============================] - 1s 3ms/step - loss: 0.0110 - accuracy: 0.9971 - val_loss: 0.0622 - val_accuracy: 0.9811\n",
            "Epoch 18/25\n",
            "235/235 [==============================] - 1s 4ms/step - loss: 0.0103 - accuracy: 0.9974 - val_loss: 0.0603 - val_accuracy: 0.9818\n",
            "Epoch 19/25\n",
            "235/235 [==============================] - 1s 3ms/step - loss: 0.0101 - accuracy: 0.9973 - val_loss: 0.0580 - val_accuracy: 0.9833\n",
            "Epoch 20/25\n",
            "235/235 [==============================] - 1s 4ms/step - loss: 0.0089 - accuracy: 0.9975 - val_loss: 0.0590 - val_accuracy: 0.9829\n",
            "Epoch 21/25\n",
            "235/235 [==============================] - 1s 4ms/step - loss: 0.0083 - accuracy: 0.9977 - val_loss: 0.0632 - val_accuracy: 0.9823\n",
            "Epoch 22/25\n",
            "235/235 [==============================] - 1s 3ms/step - loss: 0.0077 - accuracy: 0.9979 - val_loss: 0.0579 - val_accuracy: 0.9830\n",
            "Epoch 23/25\n",
            "235/235 [==============================] - 1s 4ms/step - loss: 0.0074 - accuracy: 0.9980 - val_loss: 0.0637 - val_accuracy: 0.9810\n",
            "Epoch 24/25\n",
            "235/235 [==============================] - 1s 3ms/step - loss: 0.0071 - accuracy: 0.9981 - val_loss: 0.0616 - val_accuracy: 0.9825\n",
            "Epoch 25/25\n",
            "235/235 [==============================] - 1s 3ms/step - loss: 0.0065 - accuracy: 0.9982 - val_loss: 0.0617 - val_accuracy: 0.9828\n"
          ]
        }
      ]
    },
    {
      "cell_type": "code",
      "source": [
        "def visualize_train_test(model, value = 'loss'):\n",
        "  value2 = \"val_\" + str(value)\n",
        "  fig = plt.figure(figsize=(12,8))\n",
        "  plt.xlabel('Epochs')\n",
        "  plt.ylabel(value)\n",
        "  plt.plot(model.history[value], label='training', c='red')\n",
        "  plt.plot(model.history[\"val_\"+value], label='validation', c='blue')\n",
        "  plt.legend()\n",
        "  plt.show()\n",
        "  return"
      ],
      "metadata": {
        "id": "FYMerRP2HE4C"
      },
      "execution_count": 45,
      "outputs": []
    },
    {
      "cell_type": "code",
      "source": [
        "visualize_train_test(history, 'accuracy')"
      ],
      "metadata": {
        "colab": {
          "base_uri": "https://localhost:8080/",
          "height": 497
        },
        "id": "WRvrklolH31S",
        "outputId": "afd78af1-fbf0-4190-89af-7352f0424ebd"
      },
      "execution_count": 46,
      "outputs": [
        {
          "output_type": "display_data",
          "data": {
            "image/png": "[encoded data removed]",
            "text/plain": [
              "<Figure size 864x576 with 1 Axes>"
            ]
          },
          "metadata": {
            "needs_background": "light"
          }
        }
      ]
    },
    {
      "cell_type": "code",
      "source": [
        "visualize_train_test(history, 'loss')"
      ],
      "metadata": {
        "colab": {
          "base_uri": "https://localhost:8080/",
          "height": 497
        },
        "id": "ZcRa0rChI9KF",
        "outputId": "05caa9f8-e204-45df-e747-8f3cab400a5b"
      },
      "execution_count": 47,
      "outputs": [
        {
          "output_type": "display_data",
          "data": {
            "image/png": "[encoded data removed]",
            "text/plain": [
              "<Figure size 864x576 with 1 Axes>"
            ]
          },
          "metadata": {
            "needs_background": "light"
          }
        }
      ]
    },
    {
      "cell_type": "markdown",
      "source": [
        "From the image above, the model actually start to overfit at epochs number 4 as the training data loss is decreasing but the testing loss is start to flat. If this happen we can try to regulerize our model. But before that you need to watch the accuracy of the model. For example if our first accuracy target is above 95%. Then from the model above we can start to use regulerized model to get the better result for the testing data.\n",
        "\n",
        "If the training data accuracy before applied regulerized not reaching the targeted accuracy. Its better to change the model to get higher training accuracy first. We want to get as high as you can in training data. Then applying regulerized model to increase the testing data."
      ],
      "metadata": {
        "id": "n2ezzqM1Itc_"
      }
    },
    {
      "cell_type": "code",
      "source": [
        ""
      ],
      "metadata": {
        "id": "W0INziKTH_9e"
      },
      "execution_count": null,
      "outputs": []
    }
  ]
}