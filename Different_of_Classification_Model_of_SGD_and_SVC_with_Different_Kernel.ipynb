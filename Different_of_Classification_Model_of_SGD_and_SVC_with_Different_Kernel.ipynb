{
  "nbformat": 4,
  "nbformat_minor": 0,
  "metadata": {
    "colab": {
      "name": "Different of Classification Model of SGD and SVC with Different Kernel.ipynb",
      "provenance": []
    },
    "kernelspec": {
      "name": "python3",
      "display_name": "Python 3"
    },
    "language_info": {
      "name": "python"
    }
  },
  "cells": [
    {
      "cell_type": "markdown",
      "source": [
        "# Classification Model\n",
        "\n",
        "We will use multiple classification model to predict and analyze why its different between each model. We will put some trick and method to process and tuning the model.\n",
        "## SGD with MNIST Data\n",
        "MNIST is a dataset of images, The images in this dataset are number from 0 to 9 in different kind of shape. We will visualize one of the data in dataset later"
      ],
      "metadata": {
        "id": "thqLvOwezti9"
      }
    },
    {
      "cell_type": "code",
      "execution_count": 13,
      "metadata": {
        "id": "QzOSsaMOzs6B"
      },
      "outputs": [],
      "source": [
        "import numpy as np\n",
        "import pandas as pd\n",
        "import sklearn"
      ]
    },
    {
      "cell_type": "code",
      "source": [
        "from sklearn.datasets import fetch_openml\n",
        "mnist = fetch_openml(name='mnist_784')\n",
        "len(mnist)"
      ],
      "metadata": {
        "colab": {
          "base_uri": "https://localhost:8080/"
        },
        "id": "MDI0E5lNS97l",
        "outputId": "2183dbda-052d-43dd-8998-2b2d7b860649"
      },
      "execution_count": 2,
      "outputs": [
        {
          "output_type": "execute_result",
          "data": {
            "text/plain": [
              "9"
            ]
          },
          "metadata": {},
          "execution_count": 2
        }
      ]
    },
    {
      "cell_type": "markdown",
      "source": [
        "The shape of the data is 70000 and 784. 70000 is the total of sample in data. 784 is dimension of each sample. Its from the total dimension of 28x28 image.\n"
      ],
      "metadata": {
        "id": "m9YkA_ULPt80"
      }
    },
    {
      "cell_type": "code",
      "source": [
        "X, y = mnist['data'], mnist['target']\n",
        "X = X/256\n",
        "y = y.astype('float')"
      ],
      "metadata": {
        "id": "FP5zO7X1THps"
      },
      "execution_count": 108,
      "outputs": []
    },
    {
      "cell_type": "code",
      "source": [
        "print(\"X Shape {}\\ny shape {}\\n\\nX top 10 row data\\n{}\\n\\ny top 10 row data\\n{}\".format(X.shape, y.shape,X[:10],y[:10]))"
      ],
      "metadata": {
        "colab": {
          "base_uri": "https://localhost:8080/"
        },
        "id": "D5D46FiHTTao",
        "outputId": "4b9678b4-6f60-4f95-a978-524fbbcfa6f2"
      },
      "execution_count": 109,
      "outputs": [
        {
          "output_type": "stream",
          "name": "stdout",
          "text": [
            "X Shape (70000, 784)\n",
            "y shape (70000,)\n",
            "\n",
            "X top 10 row data\n",
            "   pixel1  pixel2  pixel3  pixel4  ...  pixel781  pixel782  pixel783  pixel784\n",
            "0     0.0     0.0     0.0     0.0  ...       0.0       0.0       0.0       0.0\n",
            "1     0.0     0.0     0.0     0.0  ...       0.0       0.0       0.0       0.0\n",
            "2     0.0     0.0     0.0     0.0  ...       0.0       0.0       0.0       0.0\n",
            "3     0.0     0.0     0.0     0.0  ...       0.0       0.0       0.0       0.0\n",
            "4     0.0     0.0     0.0     0.0  ...       0.0       0.0       0.0       0.0\n",
            "5     0.0     0.0     0.0     0.0  ...       0.0       0.0       0.0       0.0\n",
            "6     0.0     0.0     0.0     0.0  ...       0.0       0.0       0.0       0.0\n",
            "7     0.0     0.0     0.0     0.0  ...       0.0       0.0       0.0       0.0\n",
            "8     0.0     0.0     0.0     0.0  ...       0.0       0.0       0.0       0.0\n",
            "9     0.0     0.0     0.0     0.0  ...       0.0       0.0       0.0       0.0\n",
            "\n",
            "[10 rows x 784 columns]\n",
            "\n",
            "y top 10 row data\n",
            "0    5.0\n",
            "1    0.0\n",
            "2    4.0\n",
            "3    1.0\n",
            "4    9.0\n",
            "5    2.0\n",
            "6    1.0\n",
            "7    3.0\n",
            "8    1.0\n",
            "9    4.0\n",
            "Name: class, dtype: float64\n"
          ]
        }
      ]
    },
    {
      "cell_type": "code",
      "source": [
        "import seaborn as sns\n",
        "import matplotlib.pyplot as plt\n",
        "def visualize(x):\n",
        "  img = np.asarray(x).reshape(28,28)\n",
        "  plt.imshow(img)\n",
        "  return"
      ],
      "metadata": {
        "id": "kM233GF7TgAX"
      },
      "execution_count": 4,
      "outputs": []
    },
    {
      "cell_type": "markdown",
      "source": [
        "We will visualize one of the data in MNIST data"
      ],
      "metadata": {
        "id": "rV-vwuC4PWNo"
      }
    },
    {
      "cell_type": "code",
      "source": [
        "visualize(X.loc[0])"
      ],
      "metadata": {
        "colab": {
          "base_uri": "https://localhost:8080/",
          "height": 265
        },
        "id": "pvZXzgajVFsa",
        "outputId": "d9055026-8d06-465e-ca05-039b54a53cc4"
      },
      "execution_count": 111,
      "outputs": [
        {
          "output_type": "display_data",
          "data": {
            "image/png": "[encoded data removed]",
            "text/plain": [
              "<Figure size 432x288 with 1 Axes>"
            ]
          },
          "metadata": {
            "needs_background": "light"
          }
        }
      ]
    },
    {
      "cell_type": "code",
      "source": [
        "target_number = 1\n",
        "y_target = np.where(y==target_number)"
      ],
      "metadata": {
        "id": "6Dy9C-Ecvu4s"
      },
      "execution_count": 114,
      "outputs": []
    },
    {
      "cell_type": "code",
      "source": [
        "visualize(X.loc[int(y_target[0][0])])"
      ],
      "metadata": {
        "colab": {
          "base_uri": "https://localhost:8080/",
          "height": 265
        },
        "id": "-BLIZhdYxqq1",
        "outputId": "080fac44-09f1-4897-9145-9bf0a6999b5f"
      },
      "execution_count": 115,
      "outputs": [
        {
          "output_type": "display_data",
          "data": {
            "image/png": "[encoded data removed]",
            "text/plain": [
              "<Figure size 432x288 with 1 Axes>"
            ]
          },
          "metadata": {
            "needs_background": "light"
          }
        }
      ]
    },
    {
      "cell_type": "markdown",
      "source": [
        "## Split Data"
      ],
      "metadata": {
        "id": "xbQJrW3Ty5Uj"
      }
    },
    {
      "cell_type": "markdown",
      "source": [
        "Method 1\n",
        "Using train_test_split from sklearn"
      ],
      "metadata": {
        "id": "mJQsUSEizfIv"
      }
    },
    {
      "cell_type": "code",
      "source": [
        "from sklearn.model_selection import train_test_split\n",
        "X_train, X_test, y_train, y_test = train_test_split(X, y, test_size = 0.2)"
      ],
      "metadata": {
        "id": "vNMi2KxGxv9P"
      },
      "execution_count": 116,
      "outputs": []
    },
    {
      "cell_type": "markdown",
      "source": [
        "Method 2\n",
        "Manual split of the data using slice"
      ],
      "metadata": {
        "id": "5Daa5nA1zgv7"
      }
    },
    {
      "cell_type": "code",
      "source": [
        "num_split = 60000\n",
        "X_train, X_test, y_train, y_test = X[:num_split], X[num_split:], y[:num_split], y[num_split:]"
      ],
      "metadata": {
        "id": "WBbO0d3kzdhI"
      },
      "execution_count": 117,
      "outputs": []
    },
    {
      "cell_type": "markdown",
      "source": [
        "Shuffling the dataset"
      ],
      "metadata": {
        "id": "FyT4KlzPzwoc"
      }
    },
    {
      "cell_type": "code",
      "source": [
        "shuffle_index = np.random.permutation(num_split)\n",
        "X_train, y_train = X_train.loc[shuffle_index], y_train[shuffle_index]"
      ],
      "metadata": {
        "id": "_6T6wG6GzvVz"
      },
      "execution_count": 118,
      "outputs": []
    },
    {
      "cell_type": "code",
      "source": [
        "X_train.shape, y_train.shape"
      ],
      "metadata": {
        "colab": {
          "base_uri": "https://localhost:8080/"
        },
        "id": "gFw7pzZI0IjS",
        "outputId": "9ede57d6-49f5-4d5a-d8b3-0c28d1b71a8f"
      },
      "execution_count": 119,
      "outputs": [
        {
          "output_type": "execute_result",
          "data": {
            "text/plain": [
              "((60000, 784), (60000,))"
            ]
          },
          "metadata": {},
          "execution_count": 119
        }
      ]
    },
    {
      "cell_type": "code",
      "source": [
        "from sklearn.linear_model import SGDClassifier\n",
        "clf = SGDClassifier()"
      ],
      "metadata": {
        "id": "osU0i1WW0t88"
      },
      "execution_count": 120,
      "outputs": []
    },
    {
      "cell_type": "code",
      "source": [
        "clf.fit(X_train,y_train)"
      ],
      "metadata": {
        "colab": {
          "base_uri": "https://localhost:8080/"
        },
        "id": "0RuHzaO1EyZg",
        "outputId": "8fd09864-6aff-46dc-a46a-f89661c24718"
      },
      "execution_count": 121,
      "outputs": [
        {
          "output_type": "execute_result",
          "data": {
            "text/plain": [
              "SGDClassifier()"
            ]
          },
          "metadata": {},
          "execution_count": 121
        }
      ]
    },
    {
      "cell_type": "code",
      "source": [
        "yhat = clf.predict(X_test)\n",
        "print(yhat)"
      ],
      "metadata": {
        "colab": {
          "base_uri": "https://localhost:8080/"
        },
        "id": "JyeOeIx3E5nL",
        "outputId": "a4218d53-5f48-4e91-88e7-29537fc7c43c"
      },
      "execution_count": 124,
      "outputs": [
        {
          "output_type": "stream",
          "name": "stdout",
          "text": [
            "[7. 2. 1. ... 4. 5. 6.]\n"
          ]
        }
      ]
    },
    {
      "cell_type": "code",
      "source": [
        "correct_clf = sum(y_test == yhat)\n",
        "print(\"Accuracy : {}\".format(correct_clf/len(y_test)))"
      ],
      "metadata": {
        "colab": {
          "base_uri": "https://localhost:8080/"
        },
        "id": "AqtJBgPXFtT7",
        "outputId": "ff8f5b4d-39df-4553-96ed-c693132b0064"
      },
      "execution_count": 126,
      "outputs": [
        {
          "output_type": "stream",
          "name": "stdout",
          "text": [
            "Accuracy : 0.9166\n"
          ]
        }
      ]
    },
    {
      "cell_type": "code",
      "source": [
        ""
      ],
      "metadata": {
        "id": "fgUEbX9-GYi9"
      },
      "execution_count": null,
      "outputs": []
    },
    {
      "cell_type": "markdown",
      "source": [
        "### Measuring Accuracy Using Cross Validation"
      ],
      "metadata": {
        "id": "mowAZvweHiEn"
      }
    },
    {
      "cell_type": "code",
      "source": [
        "count_table = dict()\n",
        "for x in y.unique():\n",
        "  count_table[x] = sum(y == x)"
      ],
      "metadata": {
        "id": "fUPqOKdUTGlm"
      },
      "execution_count": 138,
      "outputs": []
    },
    {
      "cell_type": "code",
      "source": [
        "pd.DataFrame.from_dict(count_table, orient='index', columns=['Count']).sort_index()"
      ],
      "metadata": {
        "colab": {
          "base_uri": "https://localhost:8080/",
          "height": 363
        },
        "id": "1NUECjjOTgxF",
        "outputId": "c725eb18-e281-45d9-d4c0-dd0dc7c907f0"
      },
      "execution_count": 143,
      "outputs": [
        {
          "output_type": "execute_result",
          "data": {
            "text/html": [
              "\n",
              "  <div id=\"df-42475093-5d63-4b03-b36d-906c5ea82dae\">\n",
              "    <div class=\"colab-df-container\">\n",
              "      <div>\n",
              "<style scoped>\n",
              "    .dataframe tbody tr th:only-of-type {\n",
              "        vertical-align: middle;\n",
              "    }\n",
              "\n",
              "    .dataframe tbody tr th {\n",
              "        vertical-align: top;\n",
              "    }\n",
              "\n",
              "    .dataframe thead th {\n",
              "        text-align: right;\n",
              "    }\n",
              "</style>\n",
              "<table border=\"1\" class=\"dataframe\">\n",
              "  <thead>\n",
              "    <tr style=\"text-align: right;\">\n",
              "      <th></th>\n",
              "      <th>Count</th>\n",
              "    </tr>\n",
              "  </thead>\n",
              "  <tbody>\n",
              "    <tr>\n",
              "      <th>0.0</th>\n",
              "      <td>6903</td>\n",
              "    </tr>\n",
              "    <tr>\n",
              "      <th>1.0</th>\n",
              "      <td>7877</td>\n",
              "    </tr>\n",
              "    <tr>\n",
              "      <th>2.0</th>\n",
              "      <td>6990</td>\n",
              "    </tr>\n",
              "    <tr>\n",
              "      <th>3.0</th>\n",
              "      <td>7141</td>\n",
              "    </tr>\n",
              "    <tr>\n",
              "      <th>4.0</th>\n",
              "      <td>6824</td>\n",
              "    </tr>\n",
              "    <tr>\n",
              "      <th>5.0</th>\n",
              "      <td>6313</td>\n",
              "    </tr>\n",
              "    <tr>\n",
              "      <th>6.0</th>\n",
              "      <td>6876</td>\n",
              "    </tr>\n",
              "    <tr>\n",
              "      <th>7.0</th>\n",
              "      <td>7293</td>\n",
              "    </tr>\n",
              "    <tr>\n",
              "      <th>8.0</th>\n",
              "      <td>6825</td>\n",
              "    </tr>\n",
              "    <tr>\n",
              "      <th>9.0</th>\n",
              "      <td>6958</td>\n",
              "    </tr>\n",
              "  </tbody>\n",
              "</table>\n",
              "</div>\n",
              "      <button class=\"colab-df-convert\" onclick=\"convertToInteractive('df-42475093-5d63-4b03-b36d-906c5ea82dae')\"\n",
              "              title=\"Convert this dataframe to an interactive table.\"\n",
              "              style=\"display:none;\">\n",
              "        \n",
              "  <svg xmlns=\"http://www.w3.org/2000/svg\" height=\"24px\"viewBox=\"0 0 24 24\"\n",
              "       width=\"24px\">\n",
              "    <path d=\"M0 0h24v24H0V0z\" fill=\"none\"/>\n",
              "    <path d=\"M18.56 5.44l.94 2.06.94-2.06 2.06-.94-2.06-.94-.94-2.06-.94 2.06-2.06.94zm-11 1L8.5 8.5l.94-2.06 2.06-.94-2.06-.94L8.5 2.5l-.94 2.06-2.06.94zm10 10l.94 2.06.94-2.06 2.06-.94-2.06-.94-.94-2.06-.94 2.06-2.06.94z\"/><path d=\"M17.41 7.96l-1.37-1.37c-.4-.4-.92-.59-1.43-.59-.52 0-1.04.2-1.43.59L10.3 9.45l-7.72 7.72c-.78.78-.78 2.05 0 2.83L4 21.41c.39.39.9.59 1.41.59.51 0 1.02-.2 1.41-.59l7.78-7.78 2.81-2.81c.8-.78.8-2.07 0-2.86zM5.41 20L4 18.59l7.72-7.72 1.47 1.35L5.41 20z\"/>\n",
              "  </svg>\n",
              "      </button>\n",
              "      \n",
              "  <style>\n",
              "    .colab-df-container {\n",
              "      display:flex;\n",
              "      flex-wrap:wrap;\n",
              "      gap: 12px;\n",
              "    }\n",
              "\n",
              "    .colab-df-convert {\n",
              "      background-color: #E8F0FE;\n",
              "      border: none;\n",
              "      border-radius: 50%;\n",
              "      cursor: pointer;\n",
              "      display: none;\n",
              "      fill: #1967D2;\n",
              "      height: 32px;\n",
              "      padding: 0 0 0 0;\n",
              "      width: 32px;\n",
              "    }\n",
              "\n",
              "    .colab-df-convert:hover {\n",
              "      background-color: #E2EBFA;\n",
              "      box-shadow: 0px 1px 2px rgba(60, 64, 67, 0.3), 0px 1px 3px 1px rgba(60, 64, 67, 0.15);\n",
              "      fill: #174EA6;\n",
              "    }\n",
              "\n",
              "    [theme=dark] .colab-df-convert {\n",
              "      background-color: #3B4455;\n",
              "      fill: #D2E3FC;\n",
              "    }\n",
              "\n",
              "    [theme=dark] .colab-df-convert:hover {\n",
              "      background-color: #434B5C;\n",
              "      box-shadow: 0px 1px 3px 1px rgba(0, 0, 0, 0.15);\n",
              "      filter: drop-shadow(0px 1px 2px rgba(0, 0, 0, 0.3));\n",
              "      fill: #FFFFFF;\n",
              "    }\n",
              "  </style>\n",
              "\n",
              "      <script>\n",
              "        const buttonEl =\n",
              "          document.querySelector('#df-42475093-5d63-4b03-b36d-906c5ea82dae button.colab-df-convert');\n",
              "        buttonEl.style.display =\n",
              "          google.colab.kernel.accessAllowed ? 'block' : 'none';\n",
              "\n",
              "        async function convertToInteractive(key) {\n",
              "          const element = document.querySelector('#df-42475093-5d63-4b03-b36d-906c5ea82dae');\n",
              "          const dataTable =\n",
              "            await google.colab.kernel.invokeFunction('convertToInteractive',\n",
              "                                                     [key], {});\n",
              "          if (!dataTable) return;\n",
              "\n",
              "          const docLinkHtml = 'Like what you see? Visit the ' +\n",
              "            '<a target=\"_blank\" href=https://colab.research.google.com/notebooks/data_table.ipynb>data table notebook</a>'\n",
              "            + ' to learn more about interactive tables.';\n",
              "          element.innerHTML = '';\n",
              "          dataTable['output_type'] = 'display_data';\n",
              "          await google.colab.output.renderOutput(dataTable, element);\n",
              "          const docLink = document.createElement('div');\n",
              "          docLink.innerHTML = docLinkHtml;\n",
              "          element.appendChild(docLink);\n",
              "        }\n",
              "      </script>\n",
              "    </div>\n",
              "  </div>\n",
              "  "
            ],
            "text/plain": [
              "     Count\n",
              "0.0   6903\n",
              "1.0   7877\n",
              "2.0   6990\n",
              "3.0   7141\n",
              "4.0   6824\n",
              "5.0   6313\n",
              "6.0   6876\n",
              "7.0   7293\n",
              "8.0   6825\n",
              "9.0   6958"
            ]
          },
          "metadata": {},
          "execution_count": 143
        }
      ]
    },
    {
      "cell_type": "code",
      "source": [
        "from sklearn.metrics import confusion_matrix\n",
        "plt.figure(figsize=(18,10))\n",
        "matrix = confusion_matrix(y_test,yhat)\n",
        "matrix[matrix > 50] = 0\n",
        "sns.heatmap(matrix, annot=True, linewidths=.5)\n",
        "plt.title(\"Confusion Matrix of MNIST Prediction Result\")\n",
        "plt.show()"
      ],
      "metadata": {
        "colab": {
          "base_uri": "https://localhost:8080/",
          "height": 607
        },
        "id": "XXUmi23YT6CR",
        "outputId": "ad3fa919-f706-44ac-807f-1d2719543849"
      },
      "execution_count": 151,
      "outputs": [
        {
          "output_type": "display_data",
          "data": {
            "image/png": "[encoded data removed]",
            "text/plain": [
              "<Figure size 1296x720 with 2 Axes>"
            ]
          },
          "metadata": {
            "needs_background": "light"
          }
        }
      ]
    },
    {
      "cell_type": "markdown",
      "source": [
        "## SVM\n",
        "One of the hyperparameter in SVM is C. Smaller C leads to a wider area but more margin violations. And bigger C is opposite of the smaller C."
      ],
      "metadata": {
        "id": "P1U_uPcRW_8w"
      }
    },
    {
      "cell_type": "code",
      "source": [
        "from sklearn import datasets\n",
        "from sklearn import svm"
      ],
      "metadata": {
        "id": "xQdSz7CZUwjB"
      },
      "execution_count": 61,
      "outputs": []
    },
    {
      "cell_type": "code",
      "source": [
        "df = sns.load_dataset('iris')\n",
        "df.head()"
      ],
      "metadata": {
        "colab": {
          "base_uri": "https://localhost:8080/",
          "height": 206
        },
        "id": "lnh76oIRW7ta",
        "outputId": "214b5bf0-35c1-4505-c302-79dcc1db09fc"
      },
      "execution_count": 5,
      "outputs": [
        {
          "output_type": "execute_result",
          "data": {
            "text/html": [
              "\n",
              "  <div id=\"df-081c7949-b2fb-40cc-9cab-2248943ee2cd\">\n",
              "    <div class=\"colab-df-container\">\n",
              "      <div>\n",
              "<style scoped>\n",
              "    .dataframe tbody tr th:only-of-type {\n",
              "        vertical-align: middle;\n",
              "    }\n",
              "\n",
              "    .dataframe tbody tr th {\n",
              "        vertical-align: top;\n",
              "    }\n",
              "\n",
              "    .dataframe thead th {\n",
              "        text-align: right;\n",
              "    }\n",
              "</style>\n",
              "<table border=\"1\" class=\"dataframe\">\n",
              "  <thead>\n",
              "    <tr style=\"text-align: right;\">\n",
              "      <th></th>\n",
              "      <th>sepal_length</th>\n",
              "      <th>sepal_width</th>\n",
              "      <th>petal_length</th>\n",
              "      <th>petal_width</th>\n",
              "      <th>species</th>\n",
              "    </tr>\n",
              "  </thead>\n",
              "  <tbody>\n",
              "    <tr>\n",
              "      <th>0</th>\n",
              "      <td>5.1</td>\n",
              "      <td>3.5</td>\n",
              "      <td>1.4</td>\n",
              "      <td>0.2</td>\n",
              "      <td>setosa</td>\n",
              "    </tr>\n",
              "    <tr>\n",
              "      <th>1</th>\n",
              "      <td>4.9</td>\n",
              "      <td>3.0</td>\n",
              "      <td>1.4</td>\n",
              "      <td>0.2</td>\n",
              "      <td>setosa</td>\n",
              "    </tr>\n",
              "    <tr>\n",
              "      <th>2</th>\n",
              "      <td>4.7</td>\n",
              "      <td>3.2</td>\n",
              "      <td>1.3</td>\n",
              "      <td>0.2</td>\n",
              "      <td>setosa</td>\n",
              "    </tr>\n",
              "    <tr>\n",
              "      <th>3</th>\n",
              "      <td>4.6</td>\n",
              "      <td>3.1</td>\n",
              "      <td>1.5</td>\n",
              "      <td>0.2</td>\n",
              "      <td>setosa</td>\n",
              "    </tr>\n",
              "    <tr>\n",
              "      <th>4</th>\n",
              "      <td>5.0</td>\n",
              "      <td>3.6</td>\n",
              "      <td>1.4</td>\n",
              "      <td>0.2</td>\n",
              "      <td>setosa</td>\n",
              "    </tr>\n",
              "  </tbody>\n",
              "</table>\n",
              "</div>\n",
              "      <button class=\"colab-df-convert\" onclick=\"convertToInteractive('df-081c7949-b2fb-40cc-9cab-2248943ee2cd')\"\n",
              "              title=\"Convert this dataframe to an interactive table.\"\n",
              "              style=\"display:none;\">\n",
              "        \n",
              "  <svg xmlns=\"http://www.w3.org/2000/svg\" height=\"24px\"viewBox=\"0 0 24 24\"\n",
              "       width=\"24px\">\n",
              "    <path d=\"M0 0h24v24H0V0z\" fill=\"none\"/>\n",
              "    <path d=\"M18.56 5.44l.94 2.06.94-2.06 2.06-.94-2.06-.94-.94-2.06-.94 2.06-2.06.94zm-11 1L8.5 8.5l.94-2.06 2.06-.94-2.06-.94L8.5 2.5l-.94 2.06-2.06.94zm10 10l.94 2.06.94-2.06 2.06-.94-2.06-.94-.94-2.06-.94 2.06-2.06.94z\"/><path d=\"M17.41 7.96l-1.37-1.37c-.4-.4-.92-.59-1.43-.59-.52 0-1.04.2-1.43.59L10.3 9.45l-7.72 7.72c-.78.78-.78 2.05 0 2.83L4 21.41c.39.39.9.59 1.41.59.51 0 1.02-.2 1.41-.59l7.78-7.78 2.81-2.81c.8-.78.8-2.07 0-2.86zM5.41 20L4 18.59l7.72-7.72 1.47 1.35L5.41 20z\"/>\n",
              "  </svg>\n",
              "      </button>\n",
              "      \n",
              "  <style>\n",
              "    .colab-df-container {\n",
              "      display:flex;\n",
              "      flex-wrap:wrap;\n",
              "      gap: 12px;\n",
              "    }\n",
              "\n",
              "    .colab-df-convert {\n",
              "      background-color: #E8F0FE;\n",
              "      border: none;\n",
              "      border-radius: 50%;\n",
              "      cursor: pointer;\n",
              "      display: none;\n",
              "      fill: #1967D2;\n",
              "      height: 32px;\n",
              "      padding: 0 0 0 0;\n",
              "      width: 32px;\n",
              "    }\n",
              "\n",
              "    .colab-df-convert:hover {\n",
              "      background-color: #E2EBFA;\n",
              "      box-shadow: 0px 1px 2px rgba(60, 64, 67, 0.3), 0px 1px 3px 1px rgba(60, 64, 67, 0.15);\n",
              "      fill: #174EA6;\n",
              "    }\n",
              "\n",
              "    [theme=dark] .colab-df-convert {\n",
              "      background-color: #3B4455;\n",
              "      fill: #D2E3FC;\n",
              "    }\n",
              "\n",
              "    [theme=dark] .colab-df-convert:hover {\n",
              "      background-color: #434B5C;\n",
              "      box-shadow: 0px 1px 3px 1px rgba(0, 0, 0, 0.15);\n",
              "      filter: drop-shadow(0px 1px 2px rgba(0, 0, 0, 0.3));\n",
              "      fill: #FFFFFF;\n",
              "    }\n",
              "  </style>\n",
              "\n",
              "      <script>\n",
              "        const buttonEl =\n",
              "          document.querySelector('#df-081c7949-b2fb-40cc-9cab-2248943ee2cd button.colab-df-convert');\n",
              "        buttonEl.style.display =\n",
              "          google.colab.kernel.accessAllowed ? 'block' : 'none';\n",
              "\n",
              "        async function convertToInteractive(key) {\n",
              "          const element = document.querySelector('#df-081c7949-b2fb-40cc-9cab-2248943ee2cd');\n",
              "          const dataTable =\n",
              "            await google.colab.kernel.invokeFunction('convertToInteractive',\n",
              "                                                     [key], {});\n",
              "          if (!dataTable) return;\n",
              "\n",
              "          const docLinkHtml = 'Like what you see? Visit the ' +\n",
              "            '<a target=\"_blank\" href=https://colab.research.google.com/notebooks/data_table.ipynb>data table notebook</a>'\n",
              "            + ' to learn more about interactive tables.';\n",
              "          element.innerHTML = '';\n",
              "          dataTable['output_type'] = 'display_data';\n",
              "          await google.colab.output.renderOutput(dataTable, element);\n",
              "          const docLink = document.createElement('div');\n",
              "          docLink.innerHTML = docLinkHtml;\n",
              "          element.appendChild(docLink);\n",
              "        }\n",
              "      </script>\n",
              "    </div>\n",
              "  </div>\n",
              "  "
            ],
            "text/plain": [
              "   sepal_length  sepal_width  petal_length  petal_width species\n",
              "0           5.1          3.5           1.4          0.2  setosa\n",
              "1           4.9          3.0           1.4          0.2  setosa\n",
              "2           4.7          3.2           1.3          0.2  setosa\n",
              "3           4.6          3.1           1.5          0.2  setosa\n",
              "4           5.0          3.6           1.4          0.2  setosa"
            ]
          },
          "metadata": {},
          "execution_count": 5
        }
      ]
    },
    {
      "cell_type": "code",
      "source": [
        "col = ['petal_length', 'petal_width', 'species']\n",
        "df[col].head()"
      ],
      "metadata": {
        "colab": {
          "base_uri": "https://localhost:8080/",
          "height": 206
        },
        "id": "mZWSk5v18cRh",
        "outputId": "96c1a982-57af-4579-b026-05d3db18b908"
      },
      "execution_count": 8,
      "outputs": [
        {
          "output_type": "execute_result",
          "data": {
            "text/html": [
              "\n",
              "  <div id=\"df-84096369-98e1-4842-870e-b86d28b4c801\">\n",
              "    <div class=\"colab-df-container\">\n",
              "      <div>\n",
              "<style scoped>\n",
              "    .dataframe tbody tr th:only-of-type {\n",
              "        vertical-align: middle;\n",
              "    }\n",
              "\n",
              "    .dataframe tbody tr th {\n",
              "        vertical-align: top;\n",
              "    }\n",
              "\n",
              "    .dataframe thead th {\n",
              "        text-align: right;\n",
              "    }\n",
              "</style>\n",
              "<table border=\"1\" class=\"dataframe\">\n",
              "  <thead>\n",
              "    <tr style=\"text-align: right;\">\n",
              "      <th></th>\n",
              "      <th>petal_length</th>\n",
              "      <th>petal_width</th>\n",
              "      <th>species</th>\n",
              "    </tr>\n",
              "  </thead>\n",
              "  <tbody>\n",
              "    <tr>\n",
              "      <th>0</th>\n",
              "      <td>1.4</td>\n",
              "      <td>0.2</td>\n",
              "      <td>setosa</td>\n",
              "    </tr>\n",
              "    <tr>\n",
              "      <th>1</th>\n",
              "      <td>1.4</td>\n",
              "      <td>0.2</td>\n",
              "      <td>setosa</td>\n",
              "    </tr>\n",
              "    <tr>\n",
              "      <th>2</th>\n",
              "      <td>1.3</td>\n",
              "      <td>0.2</td>\n",
              "      <td>setosa</td>\n",
              "    </tr>\n",
              "    <tr>\n",
              "      <th>3</th>\n",
              "      <td>1.5</td>\n",
              "      <td>0.2</td>\n",
              "      <td>setosa</td>\n",
              "    </tr>\n",
              "    <tr>\n",
              "      <th>4</th>\n",
              "      <td>1.4</td>\n",
              "      <td>0.2</td>\n",
              "      <td>setosa</td>\n",
              "    </tr>\n",
              "  </tbody>\n",
              "</table>\n",
              "</div>\n",
              "      <button class=\"colab-df-convert\" onclick=\"convertToInteractive('df-84096369-98e1-4842-870e-b86d28b4c801')\"\n",
              "              title=\"Convert this dataframe to an interactive table.\"\n",
              "              style=\"display:none;\">\n",
              "        \n",
              "  <svg xmlns=\"http://www.w3.org/2000/svg\" height=\"24px\"viewBox=\"0 0 24 24\"\n",
              "       width=\"24px\">\n",
              "    <path d=\"M0 0h24v24H0V0z\" fill=\"none\"/>\n",
              "    <path d=\"M18.56 5.44l.94 2.06.94-2.06 2.06-.94-2.06-.94-.94-2.06-.94 2.06-2.06.94zm-11 1L8.5 8.5l.94-2.06 2.06-.94-2.06-.94L8.5 2.5l-.94 2.06-2.06.94zm10 10l.94 2.06.94-2.06 2.06-.94-2.06-.94-.94-2.06-.94 2.06-2.06.94z\"/><path d=\"M17.41 7.96l-1.37-1.37c-.4-.4-.92-.59-1.43-.59-.52 0-1.04.2-1.43.59L10.3 9.45l-7.72 7.72c-.78.78-.78 2.05 0 2.83L4 21.41c.39.39.9.59 1.41.59.51 0 1.02-.2 1.41-.59l7.78-7.78 2.81-2.81c.8-.78.8-2.07 0-2.86zM5.41 20L4 18.59l7.72-7.72 1.47 1.35L5.41 20z\"/>\n",
              "  </svg>\n",
              "      </button>\n",
              "      \n",
              "  <style>\n",
              "    .colab-df-container {\n",
              "      display:flex;\n",
              "      flex-wrap:wrap;\n",
              "      gap: 12px;\n",
              "    }\n",
              "\n",
              "    .colab-df-convert {\n",
              "      background-color: #E8F0FE;\n",
              "      border: none;\n",
              "      border-radius: 50%;\n",
              "      cursor: pointer;\n",
              "      display: none;\n",
              "      fill: #1967D2;\n",
              "      height: 32px;\n",
              "      padding: 0 0 0 0;\n",
              "      width: 32px;\n",
              "    }\n",
              "\n",
              "    .colab-df-convert:hover {\n",
              "      background-color: #E2EBFA;\n",
              "      box-shadow: 0px 1px 2px rgba(60, 64, 67, 0.3), 0px 1px 3px 1px rgba(60, 64, 67, 0.15);\n",
              "      fill: #174EA6;\n",
              "    }\n",
              "\n",
              "    [theme=dark] .colab-df-convert {\n",
              "      background-color: #3B4455;\n",
              "      fill: #D2E3FC;\n",
              "    }\n",
              "\n",
              "    [theme=dark] .colab-df-convert:hover {\n",
              "      background-color: #434B5C;\n",
              "      box-shadow: 0px 1px 3px 1px rgba(0, 0, 0, 0.15);\n",
              "      filter: drop-shadow(0px 1px 2px rgba(0, 0, 0, 0.3));\n",
              "      fill: #FFFFFF;\n",
              "    }\n",
              "  </style>\n",
              "\n",
              "      <script>\n",
              "        const buttonEl =\n",
              "          document.querySelector('#df-84096369-98e1-4842-870e-b86d28b4c801 button.colab-df-convert');\n",
              "        buttonEl.style.display =\n",
              "          google.colab.kernel.accessAllowed ? 'block' : 'none';\n",
              "\n",
              "        async function convertToInteractive(key) {\n",
              "          const element = document.querySelector('#df-84096369-98e1-4842-870e-b86d28b4c801');\n",
              "          const dataTable =\n",
              "            await google.colab.kernel.invokeFunction('convertToInteractive',\n",
              "                                                     [key], {});\n",
              "          if (!dataTable) return;\n",
              "\n",
              "          const docLinkHtml = 'Like what you see? Visit the ' +\n",
              "            '<a target=\"_blank\" href=https://colab.research.google.com/notebooks/data_table.ipynb>data table notebook</a>'\n",
              "            + ' to learn more about interactive tables.';\n",
              "          element.innerHTML = '';\n",
              "          dataTable['output_type'] = 'display_data';\n",
              "          await google.colab.output.renderOutput(dataTable, element);\n",
              "          const docLink = document.createElement('div');\n",
              "          docLink.innerHTML = docLinkHtml;\n",
              "          element.appendChild(docLink);\n",
              "        }\n",
              "      </script>\n",
              "    </div>\n",
              "  </div>\n",
              "  "
            ],
            "text/plain": [
              "   petal_length  petal_width species\n",
              "0           1.4          0.2  setosa\n",
              "1           1.4          0.2  setosa\n",
              "2           1.3          0.2  setosa\n",
              "3           1.5          0.2  setosa\n",
              "4           1.4          0.2  setosa"
            ]
          },
          "metadata": {},
          "execution_count": 8
        }
      ]
    },
    {
      "cell_type": "code",
      "source": [
        "df.species.unique()"
      ],
      "metadata": {
        "colab": {
          "base_uri": "https://localhost:8080/"
        },
        "id": "mOI3dCTH8tle",
        "outputId": "27d4b029-5e16-493f-f3f9-db47cd8ba6a8"
      },
      "execution_count": 9,
      "outputs": [
        {
          "output_type": "execute_result",
          "data": {
            "text/plain": [
              "array(['setosa', 'versicolor', 'virginica'], dtype=object)"
            ]
          },
          "metadata": {},
          "execution_count": 9
        }
      ]
    },
    {
      "cell_type": "code",
      "source": [
        "X = df[['petal_length', 'petal_width']]\n",
        "species_to_num = {'setosa' : 0,\n",
        "                  'versicolor' : 1,\n",
        "                  'virginica' : 2}\n",
        "df['tmp'] = df['species'].map(species_to_num)\n",
        "y = df['tmp']"
      ],
      "metadata": {
        "id": "STupLaZ-88fG"
      },
      "execution_count": 10,
      "outputs": []
    },
    {
      "cell_type": "code",
      "source": [
        "C = 0.001\n",
        "clf = svm.SVC(kernel = 'linear',C=C)\n",
        "clf.fit(X,y)"
      ],
      "metadata": {
        "colab": {
          "base_uri": "https://localhost:8080/"
        },
        "id": "zdeLPqN29WhE",
        "outputId": "f2d8fb10-865b-4958-fc1b-e86444211184"
      },
      "execution_count": 11,
      "outputs": [
        {
          "output_type": "execute_result",
          "data": {
            "text/plain": [
              "SVC(C=0.001, kernel='linear')"
            ]
          },
          "metadata": {},
          "execution_count": 11
        }
      ]
    },
    {
      "cell_type": "code",
      "source": [
        "Xv = X.values.reshape(-1,1)\n",
        "h = 0.02\n",
        "x_min, x_max = Xv.min(), Xv.max() + 1\n",
        "y_min, y_max = y.min(), y.max() + 1\n",
        "xx, yy = np.meshgrid(np.arange(x_min, x_max, h),\n",
        "                     np.arange(y_min, y_max, h))\n",
        "\n",
        "z = clf.predict(np.c_[xx.ravel(), yy.ravel()])\n",
        "z = z.reshape(xx.shape)\n",
        "fig = plt.figure(figsize = (10,6))\n",
        "ax = plt.contourf(xx, yy, z, alpha = 0.3)\n",
        "plt.scatter(X['petal_length'], X['petal_width'], c = y, s = 50, alpha = 0.8)\n",
        "plt.show()"
      ],
      "metadata": {
        "colab": {
          "base_uri": "https://localhost:8080/",
          "height": 409
        },
        "id": "ac0qd8FN9jht",
        "outputId": "9d27d716-6b97-4f34-8537-29ff5266d223"
      },
      "execution_count": 23,
      "outputs": [
        {
          "output_type": "stream",
          "name": "stderr",
          "text": [
            "/usr/local/lib/python3.7/dist-packages/sklearn/base.py:446: UserWarning: X does not have valid feature names, but SVC was fitted with feature names\n",
            "  \"X does not have valid feature names, but\"\n"
          ]
        },
        {
          "output_type": "display_data",
          "data": {
            "image/png": "[encoded data removed]",
            "text/plain": [
              "<Figure size 720x432 with 1 Axes>"
            ]
          },
          "metadata": {
            "needs_background": "light"
          }
        }
      ]
    },
    {
      "cell_type": "code",
      "source": [
        "C = 1\n",
        "clf = svm.SVC(kernel = 'linear',C=C)\n",
        "clf.fit(X,y)\n",
        "\n",
        "Xv = X.values.reshape(-1,1)\n",
        "h = 0.02\n",
        "x_min, x_max = Xv.min(), Xv.max() + 1\n",
        "y_min, y_max = y.min(), y.max() + 1\n",
        "xx, yy = np.meshgrid(np.arange(x_min, x_max, h),\n",
        "                     np.arange(y_min, y_max, h))\n",
        "\n",
        "z = clf.predict(np.c_[xx.ravel(), yy.ravel()])\n",
        "z = z.reshape(xx.shape)\n",
        "fig = plt.figure(figsize = (10,6))\n",
        "ax = plt.contourf(xx, yy, z, alpha = 0.3)\n",
        "plt.scatter(X['petal_length'], X['petal_width'], c = y, s = 50, alpha = 0.8)\n",
        "plt.show()"
      ],
      "metadata": {
        "colab": {
          "base_uri": "https://localhost:8080/",
          "height": 409
        },
        "id": "fDBngba1-evd",
        "outputId": "7d3ec98e-83a3-4871-dc91-24efc4ea0365"
      },
      "execution_count": 25,
      "outputs": [
        {
          "output_type": "stream",
          "name": "stderr",
          "text": [
            "/usr/local/lib/python3.7/dist-packages/sklearn/base.py:446: UserWarning: X does not have valid feature names, but SVC was fitted with feature names\n",
            "  \"X does not have valid feature names, but\"\n"
          ]
        },
        {
          "output_type": "display_data",
          "data": {
            "image/png": "[encoded data removed]",
            "text/plain": [
              "<Figure size 720x432 with 1 Axes>"
            ]
          },
          "metadata": {
            "needs_background": "light"
          }
        }
      ]
    },
    {
      "cell_type": "markdown",
      "source": [
        "You can see the different result between smaller C and bigger C"
      ],
      "metadata": {
        "id": "0OHlTvl2QK01"
      }
    },
    {
      "cell_type": "code",
      "source": [
        "from sklearn.preprocessing import StandardScaler\n",
        "X_train, X_test, y_train, y_test = train_test_split(X, y, train_size = 0.8)"
      ],
      "metadata": {
        "id": "6rHmai-J_X9V"
      },
      "execution_count": 27,
      "outputs": []
    },
    {
      "cell_type": "code",
      "source": [
        "s = StandardScaler()\n",
        "X_train_s = s.fit_transform(X_train)\n",
        "\n",
        "C = 1\n",
        "clf = svm.SVC(kernel = 'linear',C=C)\n",
        "clf.fit(X_train_s,y_train)"
      ],
      "metadata": {
        "colab": {
          "base_uri": "https://localhost:8080/"
        },
        "id": "oHPRAO3p_uar",
        "outputId": "16c4cf30-28af-4fa5-f1a6-48c06ad72973"
      },
      "execution_count": 30,
      "outputs": [
        {
          "output_type": "execute_result",
          "data": {
            "text/plain": [
              "SVC(C=1, kernel='linear')"
            ]
          },
          "metadata": {},
          "execution_count": 30
        }
      ]
    },
    {
      "cell_type": "code",
      "source": [
        "from sklearn.model_selection import cross_val_score\n",
        "from sklearn.model_selection import cross_val_predict\n",
        "from sklearn.metrics import confusion_matrix\n",
        "from sklearn.metrics import precision_score, recall_score, f1_score"
      ],
      "metadata": {
        "id": "E3_cCNjuALuW"
      },
      "execution_count": 31,
      "outputs": []
    },
    {
      "cell_type": "code",
      "source": [
        "res = cross_val_score(clf, X_train_s, y_train, cv = 10, scoring = 'accuracy')\n",
        "print(\"Average Score : \\t {0:.4f}\".format(np.mean(res)))"
      ],
      "metadata": {
        "colab": {
          "base_uri": "https://localhost:8080/"
        },
        "id": "N83Z6PwQAjqt",
        "outputId": "809cb316-c7bb-473b-d5e3-fcc28f4c4329"
      },
      "execution_count": 32,
      "outputs": [
        {
          "output_type": "stream",
          "name": "stdout",
          "text": [
            "Average Score : \t 0.9583\n"
          ]
        }
      ]
    },
    {
      "cell_type": "code",
      "source": [
        "X_test_s = s.transform(X_test)\n",
        "yhat = cross_val_predict(clf, X_test_s, y_test, cv = 5)"
      ],
      "metadata": {
        "id": "JP4y2J5XBBDg"
      },
      "execution_count": 42,
      "outputs": []
    },
    {
      "cell_type": "code",
      "source": [
        "matrix = confusion_matrix(y_test, yhat)\n",
        "ax =sns.heatmap(matrix, annot = True)\n",
        "ax = plt.figure(figsize=(8,8))\n",
        "plt.show"
      ],
      "metadata": {
        "colab": {
          "base_uri": "https://localhost:8080/",
          "height": 304
        },
        "id": "-c0eTpXeA1WT",
        "outputId": "eae22c1d-7c0a-4ec2-d2ce-4958802c5476"
      },
      "execution_count": 48,
      "outputs": [
        {
          "output_type": "execute_result",
          "data": {
            "text/plain": [
              "<function matplotlib.pyplot.show>"
            ]
          },
          "metadata": {},
          "execution_count": 48
        },
        {
          "output_type": "display_data",
          "data": {
            "image/png": "[encoded data removed]",
            "text/plain": [
              "<Figure size 432x288 with 2 Axes>"
            ]
          },
          "metadata": {
            "needs_background": "light"
          }
        },
        {
          "output_type": "display_data",
          "data": {
            "text/plain": [
              "<Figure size 576x576 with 0 Axes>"
            ]
          },
          "metadata": {}
        }
      ]
    },
    {
      "cell_type": "code",
      "source": [
        "yhat_train = cross_val_predict(clf, X_train_s, y_train, cv = 5)"
      ],
      "metadata": {
        "id": "VCAxZVOrDRzI"
      },
      "execution_count": 56,
      "outputs": []
    },
    {
      "cell_type": "code",
      "source": [
        "print(\"Score of Training Data \\n\")\n",
        "print(\"Precision Score : \\t {0:.4f}\".format(precision_score(y_train,\n",
        "                                                          yhat_train,\n",
        "                                                          average='weighted')))\n",
        "print(\"Recall Score \\t: \\t {0:.4f}\".format(recall_score(y_train,\n",
        "                                                    yhat_train,\n",
        "                                                    average='weighted')))\n",
        "print(\"F1 Score \\t: \\t {0:.4f}\\n\".format(f1_score(y_train,\n",
        "                                            yhat_train,\n",
        "                                            average='weighted')))\n",
        "print(\"Score of Test Data \\n\")\n",
        "print(\"Precision Score : \\t {0:.4f}\".format(precision_score(y_test,\n",
        "                                                          yhat,\n",
        "                                                          average='weighted')))\n",
        "print(\"Recall Score \\t: \\t {0:.4f}\".format(recall_score(y_test,\n",
        "                                                    yhat,\n",
        "                                                    average='weighted')))\n",
        "print(\"F1 Score \\t: \\t {0:.4f}\".format(f1_score(y_test,\n",
        "                                            yhat,\n",
        "                                            average='weighted')))"
      ],
      "metadata": {
        "colab": {
          "base_uri": "https://localhost:8080/"
        },
        "id": "BMMFnW3wDXEQ",
        "outputId": "a5087bf0-3c10-41ff-bddd-f5cedcac52aa"
      },
      "execution_count": 60,
      "outputs": [
        {
          "output_type": "stream",
          "name": "stdout",
          "text": [
            "Score of Training Data \n",
            "\n",
            "Precision Score : \t 0.9585\n",
            "Recall Score \t: \t 0.9583\n",
            "F1 Score \t: \t 0.9583\n",
            "\n",
            "Score of Test Data \n",
            "\n",
            "Precision Score : \t 0.9333\n",
            "Recall Score \t: \t 0.9333\n",
            "F1 Score \t: \t 0.9333\n"
          ]
        }
      ]
    },
    {
      "cell_type": "markdown",
      "source": [
        "## Polynomial Kernel"
      ],
      "metadata": {
        "id": "uTLsuZSZEjQZ"
      }
    },
    {
      "cell_type": "code",
      "source": [
        "C = 1\n",
        "clf = svm.SVC(kernel = 'poly', degree = 4, C=C, gamma = 'auto')\n",
        "clf.fit(X,y)"
      ],
      "metadata": {
        "colab": {
          "base_uri": "https://localhost:8080/"
        },
        "id": "N63jxyhnC4GA",
        "outputId": "5a9c7d4c-b7e7-4eaa-8ec1-50df3a7e2610"
      },
      "execution_count": 72,
      "outputs": [
        {
          "output_type": "execute_result",
          "data": {
            "text/plain": [
              "SVC(C=1, degree=4, gamma='auto', kernel='poly')"
            ]
          },
          "metadata": {},
          "execution_count": 72
        }
      ]
    },
    {
      "cell_type": "code",
      "source": [
        "Xv = X.values.reshape(-1,1)\n",
        "h = 0.02\n",
        "x_min, x_max = Xv.min(), Xv.max() + 1\n",
        "y_min, y_max = y.min(), y.max() + 1\n",
        "xx, yy = np.meshgrid(np.arange(x_min, x_max, h),\n",
        "                     np.arange(y_min, y_max, h))\n",
        "\n",
        "z = clf.predict(np.c_[xx.ravel(), yy.ravel()])\n",
        "z = z.reshape(xx.shape)\n",
        "fig = plt.figure(figsize = (10,6))\n",
        "ax = plt.contourf(xx, yy, z, alpha = 0.3)\n",
        "plt.scatter(X['petal_length'], X['petal_width'], c = y, s = 50, alpha = 0.8)\n",
        "plt.show()"
      ],
      "metadata": {
        "colab": {
          "base_uri": "https://localhost:8080/",
          "height": 409
        },
        "id": "HPyQL27iEwFv",
        "outputId": "c15dee6b-d886-4d17-d951-60afde257d31"
      },
      "execution_count": 73,
      "outputs": [
        {
          "output_type": "stream",
          "name": "stderr",
          "text": [
            "/usr/local/lib/python3.7/dist-packages/sklearn/base.py:446: UserWarning: X does not have valid feature names, but SVC was fitted with feature names\n",
            "  \"X does not have valid feature names, but\"\n"
          ]
        },
        {
          "output_type": "display_data",
          "data": {
            "image/png": "[encoded data removed]",
            "text/plain": [
              "<Figure size 720x432 with 1 Axes>"
            ]
          },
          "metadata": {
            "needs_background": "light"
          }
        }
      ]
    },
    {
      "cell_type": "code",
      "source": [
        "clf = svm.SVC(kernel = 'poly', degree = 5, C=C, gamma = 'auto')\n",
        "res = cross_val_score(clf, X_train_s, y_train, cv = 10, scoring = 'accuracy')\n",
        "print(\"Average Score : \\t {0:.4f}\".format(np.mean(res)))"
      ],
      "metadata": {
        "colab": {
          "base_uri": "https://localhost:8080/"
        },
        "id": "LBuFor6hEyuz",
        "outputId": "4a9eb648-6d3f-450e-c937-a694ef5a1069"
      },
      "execution_count": 79,
      "outputs": [
        {
          "output_type": "stream",
          "name": "stdout",
          "text": [
            "Average Score : \t 0.9583\n"
          ]
        }
      ]
    },
    {
      "cell_type": "code",
      "source": [
        "X_test_s = s.transform(X_test)\n",
        "yhat = cross_val_predict(clf, X_test_s, y_test, cv = 5)"
      ],
      "metadata": {
        "id": "DnOd1YYrFW2I"
      },
      "execution_count": 80,
      "outputs": []
    },
    {
      "cell_type": "code",
      "source": [
        "matrix = confusion_matrix(y_test, yhat)\n",
        "ax =sns.heatmap(matrix, annot = True)\n",
        "ax = plt.figure(figsize=(8,8))\n",
        "plt.show"
      ],
      "metadata": {
        "colab": {
          "base_uri": "https://localhost:8080/",
          "height": 304
        },
        "id": "Rm6eNjlYFXaj",
        "outputId": "6d358766-906a-4103-8620-2dd500e113f1"
      },
      "execution_count": 81,
      "outputs": [
        {
          "output_type": "execute_result",
          "data": {
            "text/plain": [
              "<function matplotlib.pyplot.show>"
            ]
          },
          "metadata": {},
          "execution_count": 81
        },
        {
          "output_type": "display_data",
          "data": {
            "image/png": "[encoded data removed]",
            "text/plain": [
              "<Figure size 432x288 with 2 Axes>"
            ]
          },
          "metadata": {
            "needs_background": "light"
          }
        },
        {
          "output_type": "display_data",
          "data": {
            "text/plain": [
              "<Figure size 576x576 with 0 Axes>"
            ]
          },
          "metadata": {}
        }
      ]
    },
    {
      "cell_type": "code",
      "source": [
        "yhat_train = cross_val_predict(clf, X_train_s, y_train, cv = 5)"
      ],
      "metadata": {
        "id": "JyNBr8zoFZtO"
      },
      "execution_count": 82,
      "outputs": []
    },
    {
      "cell_type": "code",
      "source": [
        "print(\"Score of Training Data \\n\")\n",
        "print(\"Precision Score : \\t {0:.4f}\".format(precision_score(y_train,\n",
        "                                                          yhat_train,\n",
        "                                                          average='weighted')))\n",
        "print(\"Recall Score \\t: \\t {0:.4f}\".format(recall_score(y_train,\n",
        "                                                    yhat_train,\n",
        "                                                    average='weighted')))\n",
        "print(\"F1 Score \\t: \\t {0:.4f}\\n\".format(f1_score(y_train,\n",
        "                                            yhat_train,\n",
        "                                            average='weighted')))\n",
        "print(\"Score of Test Data \\n\")\n",
        "print(\"Precision Score : \\t {0:.4f}\".format(precision_score(y_test,\n",
        "                                                          yhat,\n",
        "                                                          average='weighted')))\n",
        "print(\"Recall Score \\t: \\t {0:.4f}\".format(recall_score(y_test,\n",
        "                                                    yhat,\n",
        "                                                    average='weighted')))\n",
        "print(\"F1 Score \\t: \\t {0:.4f}\".format(f1_score(y_test,\n",
        "                                            yhat,\n",
        "                                            average='weighted')))"
      ],
      "metadata": {
        "colab": {
          "base_uri": "https://localhost:8080/"
        },
        "id": "wf3kiLDTFczl",
        "outputId": "2d2059f7-cedc-4b8b-ae18-b1ce5faf3c68"
      },
      "execution_count": 83,
      "outputs": [
        {
          "output_type": "stream",
          "name": "stdout",
          "text": [
            "Score of Training Data \n",
            "\n",
            "Precision Score : \t 0.9630\n",
            "Recall Score \t: \t 0.9583\n",
            "F1 Score \t: \t 0.9581\n",
            "\n",
            "Score of Test Data \n",
            "\n",
            "Precision Score : \t 0.9048\n",
            "Recall Score \t: \t 0.8667\n",
            "F1 Score \t: \t 0.8689\n"
          ]
        }
      ]
    },
    {
      "cell_type": "markdown",
      "source": [
        "## Gaussian Radial Basis Function (rbf)"
      ],
      "metadata": {
        "id": "Gju9fVFqHeyv"
      }
    },
    {
      "cell_type": "code",
      "source": [
        "C = 1\n",
        "clf = svm.SVC(kernel = 'rbf', C=C, gamma = 0.5)\n",
        "clf.fit(X,y)"
      ],
      "metadata": {
        "colab": {
          "base_uri": "https://localhost:8080/"
        },
        "id": "RBq44VCaFf4Q",
        "outputId": "6526e67d-cf5a-414d-965f-063979e9a4c8"
      },
      "execution_count": 86,
      "outputs": [
        {
          "output_type": "execute_result",
          "data": {
            "text/plain": [
              "SVC(C=1, gamma=0.5)"
            ]
          },
          "metadata": {},
          "execution_count": 86
        }
      ]
    },
    {
      "cell_type": "code",
      "source": [
        "Xv = X.values.reshape(-1,1)\n",
        "h = 0.02\n",
        "x_min, x_max = Xv.min(), Xv.max() + 1\n",
        "y_min, y_max = y.min(), y.max() + 1\n",
        "xx, yy = np.meshgrid(np.arange(x_min, x_max, h),\n",
        "                     np.arange(y_min, y_max, h))\n",
        "\n",
        "z = clf.predict(np.c_[xx.ravel(), yy.ravel()])\n",
        "z = z.reshape(xx.shape)\n",
        "fig = plt.figure(figsize = (10,6))\n",
        "ax = plt.contourf(xx, yy, z, alpha = 0.3)\n",
        "plt.scatter(X['petal_length'], X['petal_width'], c = y, s = 50, alpha = 0.8)\n",
        "plt.show()"
      ],
      "metadata": {
        "colab": {
          "base_uri": "https://localhost:8080/",
          "height": 409
        },
        "id": "ZyTah2UxIoio",
        "outputId": "93569946-523f-4395-9ae6-4eaf582e4f05"
      },
      "execution_count": 87,
      "outputs": [
        {
          "output_type": "stream",
          "name": "stderr",
          "text": [
            "/usr/local/lib/python3.7/dist-packages/sklearn/base.py:446: UserWarning: X does not have valid feature names, but SVC was fitted with feature names\n",
            "  \"X does not have valid feature names, but\"\n"
          ]
        },
        {
          "output_type": "display_data",
          "data": {
            "image/png": "[encoded data removed]",
            "text/plain": [
              "<Figure size 720x432 with 1 Axes>"
            ]
          },
          "metadata": {
            "needs_background": "light"
          }
        }
      ]
    },
    {
      "cell_type": "code",
      "source": [
        "clf = svm.SVC(kernel = 'rbf', C=C, gamma = 0.5)\n",
        "res = cross_val_score(clf, X_train_s, y_train, cv = 10, scoring = 'accuracy')\n",
        "print(\"Average Score : \\t {0:.4f}\".format(np.mean(res)))"
      ],
      "metadata": {
        "colab": {
          "base_uri": "https://localhost:8080/"
        },
        "id": "k8-Dw8cjIqee",
        "outputId": "d0687efd-c514-4f48-f258-f9e6c7904077"
      },
      "execution_count": 88,
      "outputs": [
        {
          "output_type": "stream",
          "name": "stdout",
          "text": [
            "Average Score : \t 0.9583\n"
          ]
        }
      ]
    },
    {
      "cell_type": "code",
      "source": [
        "X_test_s = s.transform(X_test)\n",
        "yhat = cross_val_predict(clf, X_test_s, y_test, cv = 5)"
      ],
      "metadata": {
        "id": "GNYmX6mVI-nj"
      },
      "execution_count": 89,
      "outputs": []
    },
    {
      "cell_type": "code",
      "source": [
        "matrix = confusion_matrix(y_test, yhat)\n",
        "ax =sns.heatmap(matrix, annot = True)\n",
        "ax = plt.figure(figsize=(8,8))\n",
        "plt.show"
      ],
      "metadata": {
        "colab": {
          "base_uri": "https://localhost:8080/",
          "height": 304
        },
        "id": "ESlUxCsmJBEq",
        "outputId": "9c9431e8-ce5e-48f9-9036-650ca575942e"
      },
      "execution_count": 90,
      "outputs": [
        {
          "output_type": "execute_result",
          "data": {
            "text/plain": [
              "<function matplotlib.pyplot.show>"
            ]
          },
          "metadata": {},
          "execution_count": 90
        },
        {
          "output_type": "display_data",
          "data": {
            "image/png": "[encoded data removed]",
            "text/plain": [
              "<Figure size 432x288 with 2 Axes>"
            ]
          },
          "metadata": {
            "needs_background": "light"
          }
        },
        {
          "output_type": "display_data",
          "data": {
            "text/plain": [
              "<Figure size 576x576 with 0 Axes>"
            ]
          },
          "metadata": {}
        }
      ]
    },
    {
      "cell_type": "code",
      "source": [
        "yhat_train = cross_val_predict(clf, X_train_s, y_train, cv = 5)"
      ],
      "metadata": {
        "id": "KD98LlxBJDOo"
      },
      "execution_count": 91,
      "outputs": []
    },
    {
      "cell_type": "code",
      "source": [
        "print(\"Score of Training Data \\n\")\n",
        "print(\"Precision Score : \\t {0:.4f}\".format(precision_score(y_train,\n",
        "                                                          yhat_train,\n",
        "                                                          average='weighted')))\n",
        "print(\"Recall Score \\t: \\t {0:.4f}\".format(recall_score(y_train,\n",
        "                                                    yhat_train,\n",
        "                                                    average='weighted')))\n",
        "print(\"F1 Score \\t: \\t {0:.4f}\\n\".format(f1_score(y_train,\n",
        "                                            yhat_train,\n",
        "                                            average='weighted')))\n",
        "print(\"Score of Test Data \\n\")\n",
        "print(\"Precision Score : \\t {0:.4f}\".format(precision_score(y_test,\n",
        "                                                          yhat,\n",
        "                                                          average='weighted')))\n",
        "print(\"Recall Score \\t: \\t {0:.4f}\".format(recall_score(y_test,\n",
        "                                                    yhat,\n",
        "                                                    average='weighted')))\n",
        "print(\"F1 Score \\t: \\t {0:.4f}\".format(f1_score(y_test,\n",
        "                                            yhat,\n",
        "                                            average='weighted')))"
      ],
      "metadata": {
        "colab": {
          "base_uri": "https://localhost:8080/"
        },
        "id": "-E5IrKduJF9B",
        "outputId": "d1f6dc04-c592-4791-b3a2-d5fee01c6413"
      },
      "execution_count": 92,
      "outputs": [
        {
          "output_type": "stream",
          "name": "stdout",
          "text": [
            "Score of Training Data \n",
            "\n",
            "Precision Score : \t 0.9585\n",
            "Recall Score \t: \t 0.9583\n",
            "F1 Score \t: \t 0.9583\n",
            "\n",
            "Score of Test Data \n",
            "\n",
            "Precision Score : \t 0.9333\n",
            "Recall Score \t: \t 0.9333\n",
            "F1 Score \t: \t 0.9333\n"
          ]
        }
      ]
    },
    {
      "cell_type": "markdown",
      "source": [
        "### Grid Search"
      ],
      "metadata": {
        "id": "GVfG8_MAK6kX"
      }
    },
    {
      "cell_type": "code",
      "source": [
        "from sklearn.pipeline import Pipeline\n",
        "from sklearn.model_selection import GridSearchCV"
      ],
      "metadata": {
        "id": "qAqj5KX2JIHD"
      },
      "execution_count": 95,
      "outputs": []
    },
    {
      "cell_type": "code",
      "source": [
        "pipeline = Pipeline([('clf', svm.SVC(kernel = 'rbf', C = 1, gamma=0.1))])"
      ],
      "metadata": {
        "id": "bOyijXSILJO6"
      },
      "execution_count": 97,
      "outputs": []
    },
    {
      "cell_type": "code",
      "source": [
        "params = {'clf__C':(0.1, 0.5, 1, 2, 5),\n",
        "          'clf__gamma':(0.001, 0.01, 0.1, 1)}"
      ],
      "metadata": {
        "id": "9Or8ObJ5LkU6"
      },
      "execution_count": 102,
      "outputs": []
    },
    {
      "cell_type": "code",
      "source": [
        "svm_grid = GridSearchCV(pipeline, params, cv = 3, scoring = 'accuracy')"
      ],
      "metadata": {
        "id": "OmhS9_z0L3JT"
      },
      "execution_count": 103,
      "outputs": []
    },
    {
      "cell_type": "code",
      "source": [
        "svm_grid.fit(X_train_s, y_train)"
      ],
      "metadata": {
        "colab": {
          "base_uri": "https://localhost:8080/"
        },
        "id": "2jObI_ZTL7ab",
        "outputId": "4d7553c4-51a8-4831-c547-c62ec5d7f29a"
      },
      "execution_count": 104,
      "outputs": [
        {
          "output_type": "execute_result",
          "data": {
            "text/plain": [
              "GridSearchCV(cv=3, estimator=Pipeline(steps=[('clf', SVC(C=1, gamma=0.1))]),\n",
              "             param_grid={'clf__C': (0.1, 0.5, 1, 2, 5),\n",
              "                         'clf__gamma': (0.001, 0.01, 0.1, 1)},\n",
              "             scoring='accuracy')"
            ]
          },
          "metadata": {},
          "execution_count": 104
        }
      ]
    },
    {
      "cell_type": "code",
      "source": [
        "svm_grid.best_score_"
      ],
      "metadata": {
        "colab": {
          "base_uri": "https://localhost:8080/"
        },
        "id": "JMqwgXZsMIzo",
        "outputId": "6211644e-d121-44ea-8d22-90991ea95feb"
      },
      "execution_count": 105,
      "outputs": [
        {
          "output_type": "execute_result",
          "data": {
            "text/plain": [
              "0.9666666666666667"
            ]
          },
          "metadata": {},
          "execution_count": 105
        }
      ]
    },
    {
      "cell_type": "code",
      "source": [
        "svm_grid.best_estimator_"
      ],
      "metadata": {
        "colab": {
          "base_uri": "https://localhost:8080/"
        },
        "id": "0GLtQWlBMUne",
        "outputId": "000d7b11-1463-4b5f-a348-d4aac1b812a3"
      },
      "execution_count": 108,
      "outputs": [
        {
          "output_type": "execute_result",
          "data": {
            "text/plain": [
              "Pipeline(steps=[('clf', SVC(C=1, gamma=0.1))])"
            ]
          },
          "metadata": {},
          "execution_count": 108
        }
      ]
    },
    {
      "cell_type": "code",
      "source": [
        "yhat_train = cross_val_predict(svm_grid, X_train_s, y_train, cv = 5)"
      ],
      "metadata": {
        "id": "UH2pyuEqMYvG"
      },
      "execution_count": 109,
      "outputs": []
    },
    {
      "cell_type": "code",
      "source": [
        "yhat = cross_val_predict(svm_grid, X_test_s, y_test, cv = 5)"
      ],
      "metadata": {
        "id": "xr5E7KKKMsOj"
      },
      "execution_count": 110,
      "outputs": []
    },
    {
      "cell_type": "code",
      "source": [
        "print(\"Score of Training Data \\n\")\n",
        "print(\"Precision Score : \\t {0:.4f}\".format(precision_score(y_train,\n",
        "                                                          yhat_train,\n",
        "                                                          average='weighted')))\n",
        "print(\"Recall Score \\t: \\t {0:.4f}\".format(recall_score(y_train,\n",
        "                                                    yhat_train,\n",
        "                                                    average='weighted')))\n",
        "print(\"F1 Score \\t: \\t {0:.4f}\\n\".format(f1_score(y_train,\n",
        "                                            yhat_train,\n",
        "                                            average='weighted')))\n",
        "print(\"Score of Test Data \\n\")\n",
        "print(\"Precision Score : \\t {0:.4f}\".format(precision_score(y_test,\n",
        "                                                          yhat,\n",
        "                                                          average='weighted')))\n",
        "print(\"Recall Score \\t: \\t {0:.4f}\".format(recall_score(y_test,\n",
        "                                                    yhat,\n",
        "                                                    average='weighted')))\n",
        "print(\"F1 Score \\t: \\t {0:.4f}\".format(f1_score(y_test,\n",
        "                                            yhat,\n",
        "                                            average='weighted')))"
      ],
      "metadata": {
        "colab": {
          "base_uri": "https://localhost:8080/"
        },
        "id": "hoPaBG6vMxAh",
        "outputId": "a3df7bc2-8280-483a-8491-0da9075974ff"
      },
      "execution_count": 111,
      "outputs": [
        {
          "output_type": "stream",
          "name": "stdout",
          "text": [
            "Score of Training Data \n",
            "\n",
            "Precision Score : \t 0.9585\n",
            "Recall Score \t: \t 0.9583\n",
            "F1 Score \t: \t 0.9583\n",
            "\n",
            "Score of Test Data \n",
            "\n",
            "Precision Score : \t 0.9333\n",
            "Recall Score \t: \t 0.9333\n",
            "F1 Score \t: \t 0.9333\n"
          ]
        }
      ]
    },
    {
      "cell_type": "code",
      "source": [
        ""
      ],
      "metadata": {
        "id": "Bv2muiGlM0Jv"
      },
      "execution_count": null,
      "outputs": []
    }
  ]
}